{
  "nbformat": 4,
  "nbformat_minor": 0,
  "metadata": {
    "colab": {
      "provenance": []
    },
    "kernelspec": {
      "name": "python3",
      "display_name": "Python 3"
    },
    "language_info": {
      "name": "python"
    }
  },
  "cells": [
    {
      "cell_type": "code",
      "execution_count": 4,
      "metadata": {
        "id": "_YP-0axEejGp"
      },
      "outputs": [],
      "source": [
        "import numpy as np\n",
        "import pandas as pd\n",
        "import matplotlib.pyplot as plt\n",
        "import seaborn as sns\n",
        "import warnings\n",
        "warnings.filterwarnings(\"ignore\")\n",
        "%matplotlib inline"
      ]
    },
    {
      "cell_type": "code",
      "source": [
        "data_train = pd.read_csv(\"/content/drive/MyDrive/Train (4).csv\",nrows=5600)\n",
        "data_test = pd.read_csv(\"/content/drive/MyDrive/Test (1).csv\",nrows=2600)"
      ],
      "metadata": {
        "id": "OAW3JQ1UesPy"
      },
      "execution_count": 5,
      "outputs": []
    },
    {
      "cell_type": "code",
      "source": [
        "from google.colab import drive\n",
        "drive.mount('/content/drive')"
      ],
      "metadata": {
        "colab": {
          "base_uri": "https://localhost:8080/"
        },
        "id": "LK773ro2xFsd",
        "outputId": "5b5c0d61-3694-4c9a-d053-be490c513926"
      },
      "execution_count": 6,
      "outputs": [
        {
          "output_type": "stream",
          "name": "stdout",
          "text": [
            "Drive already mounted at /content/drive; to attempt to forcibly remount, call drive.mount(\"/content/drive\", force_remount=True).\n"
          ]
        }
      ]
    },
    {
      "cell_type": "code",
      "source": [
        "print(data_train.shape)\n",
        "print(data_test.shape)"
      ],
      "metadata": {
        "colab": {
          "base_uri": "https://localhost:8080/"
        },
        "id": "5xT9AuKKesMU",
        "outputId": "bdacfdb7-8b55-421c-ba7d-072487b9dc4f"
      },
      "execution_count": 7,
      "outputs": [
        {
          "output_type": "stream",
          "name": "stdout",
          "text": [
            "(5600, 19)\n",
            "(2600, 18)\n"
          ]
        }
      ]
    },
    {
      "cell_type": "code",
      "source": [
        "data_train.head()"
      ],
      "metadata": {
        "colab": {
          "base_uri": "https://localhost:8080/",
          "height": 357
        },
        "id": "WrUf6kOUesJr",
        "outputId": "ee43de1d-5a3f-44c6-9b10-cb17c9afafe7"
      },
      "execution_count": 8,
      "outputs": [
        {
          "output_type": "execute_result",
          "data": {
            "text/plain": [
              "                                    user_id  REGION         TENURE  MONTANT  \\\n",
              "0  00000bfd7d50f01092811bc0c8d7b0d6fe7c3596  FATICK   K > 24 month   4250.0   \n",
              "1  00000cb4a5d760de88fecb38e2f71b7bec52e834     NaN  I 18-21 month      NaN   \n",
              "2  00001654a9d9f96303d9969d0a4a851714a4bb57     NaN   K > 24 month   3600.0   \n",
              "3  00001dd6fa45f7ba044bd5d84937be464ce78ac2   DAKAR   K > 24 month  13500.0   \n",
              "4  000028d9e13a595abe061f9b58f3d76ab907850f   DAKAR   K > 24 month   1000.0   \n",
              "\n",
              "   FREQUENCE_RECH  REVENUE  ARPU_SEGMENT  FREQUENCE  DATA_VOLUME  ON_NET  \\\n",
              "0            15.0   4251.0        1417.0       17.0          4.0   388.0   \n",
              "1             NaN      NaN           NaN        NaN          NaN     NaN   \n",
              "2             2.0   1020.0         340.0        2.0          NaN    90.0   \n",
              "3            15.0  13502.0        4501.0       18.0      43804.0    41.0   \n",
              "4             1.0    985.0         328.0        1.0          NaN    39.0   \n",
              "\n",
              "   ORANGE  TIGO  ZONE1  ZONE2 MRG  REGULARITY                        TOP_PACK  \\\n",
              "0    46.0   1.0    1.0    2.0  NO          54  On net 200F=Unlimited _call24H   \n",
              "1     NaN   NaN    NaN    NaN  NO           4                             NaN   \n",
              "2    46.0   7.0    NaN    NaN  NO          17         On-net 1000F=10MilF;10d   \n",
              "3   102.0   2.0    NaN    NaN  NO          62               Data:1000F=5GB,7d   \n",
              "4    24.0   NaN    NaN    NaN  NO          11     Mixt 250F=Unlimited_call24H   \n",
              "\n",
              "   FREQ_TOP_PACK  CHURN  \n",
              "0            8.0      0  \n",
              "1            NaN      1  \n",
              "2            1.0      0  \n",
              "3           11.0      0  \n",
              "4            2.0      0  "
            ],
            "text/html": [
              "\n",
              "  <div id=\"df-84512060-76a4-44ba-9e62-79bd0d867fc7\">\n",
              "    <div class=\"colab-df-container\">\n",
              "      <div>\n",
              "<style scoped>\n",
              "    .dataframe tbody tr th:only-of-type {\n",
              "        vertical-align: middle;\n",
              "    }\n",
              "\n",
              "    .dataframe tbody tr th {\n",
              "        vertical-align: top;\n",
              "    }\n",
              "\n",
              "    .dataframe thead th {\n",
              "        text-align: right;\n",
              "    }\n",
              "</style>\n",
              "<table border=\"1\" class=\"dataframe\">\n",
              "  <thead>\n",
              "    <tr style=\"text-align: right;\">\n",
              "      <th></th>\n",
              "      <th>user_id</th>\n",
              "      <th>REGION</th>\n",
              "      <th>TENURE</th>\n",
              "      <th>MONTANT</th>\n",
              "      <th>FREQUENCE_RECH</th>\n",
              "      <th>REVENUE</th>\n",
              "      <th>ARPU_SEGMENT</th>\n",
              "      <th>FREQUENCE</th>\n",
              "      <th>DATA_VOLUME</th>\n",
              "      <th>ON_NET</th>\n",
              "      <th>ORANGE</th>\n",
              "      <th>TIGO</th>\n",
              "      <th>ZONE1</th>\n",
              "      <th>ZONE2</th>\n",
              "      <th>MRG</th>\n",
              "      <th>REGULARITY</th>\n",
              "      <th>TOP_PACK</th>\n",
              "      <th>FREQ_TOP_PACK</th>\n",
              "      <th>CHURN</th>\n",
              "    </tr>\n",
              "  </thead>\n",
              "  <tbody>\n",
              "    <tr>\n",
              "      <th>0</th>\n",
              "      <td>00000bfd7d50f01092811bc0c8d7b0d6fe7c3596</td>\n",
              "      <td>FATICK</td>\n",
              "      <td>K &gt; 24 month</td>\n",
              "      <td>4250.0</td>\n",
              "      <td>15.0</td>\n",
              "      <td>4251.0</td>\n",
              "      <td>1417.0</td>\n",
              "      <td>17.0</td>\n",
              "      <td>4.0</td>\n",
              "      <td>388.0</td>\n",
              "      <td>46.0</td>\n",
              "      <td>1.0</td>\n",
              "      <td>1.0</td>\n",
              "      <td>2.0</td>\n",
              "      <td>NO</td>\n",
              "      <td>54</td>\n",
              "      <td>On net 200F=Unlimited _call24H</td>\n",
              "      <td>8.0</td>\n",
              "      <td>0</td>\n",
              "    </tr>\n",
              "    <tr>\n",
              "      <th>1</th>\n",
              "      <td>00000cb4a5d760de88fecb38e2f71b7bec52e834</td>\n",
              "      <td>NaN</td>\n",
              "      <td>I 18-21 month</td>\n",
              "      <td>NaN</td>\n",
              "      <td>NaN</td>\n",
              "      <td>NaN</td>\n",
              "      <td>NaN</td>\n",
              "      <td>NaN</td>\n",
              "      <td>NaN</td>\n",
              "      <td>NaN</td>\n",
              "      <td>NaN</td>\n",
              "      <td>NaN</td>\n",
              "      <td>NaN</td>\n",
              "      <td>NaN</td>\n",
              "      <td>NO</td>\n",
              "      <td>4</td>\n",
              "      <td>NaN</td>\n",
              "      <td>NaN</td>\n",
              "      <td>1</td>\n",
              "    </tr>\n",
              "    <tr>\n",
              "      <th>2</th>\n",
              "      <td>00001654a9d9f96303d9969d0a4a851714a4bb57</td>\n",
              "      <td>NaN</td>\n",
              "      <td>K &gt; 24 month</td>\n",
              "      <td>3600.0</td>\n",
              "      <td>2.0</td>\n",
              "      <td>1020.0</td>\n",
              "      <td>340.0</td>\n",
              "      <td>2.0</td>\n",
              "      <td>NaN</td>\n",
              "      <td>90.0</td>\n",
              "      <td>46.0</td>\n",
              "      <td>7.0</td>\n",
              "      <td>NaN</td>\n",
              "      <td>NaN</td>\n",
              "      <td>NO</td>\n",
              "      <td>17</td>\n",
              "      <td>On-net 1000F=10MilF;10d</td>\n",
              "      <td>1.0</td>\n",
              "      <td>0</td>\n",
              "    </tr>\n",
              "    <tr>\n",
              "      <th>3</th>\n",
              "      <td>00001dd6fa45f7ba044bd5d84937be464ce78ac2</td>\n",
              "      <td>DAKAR</td>\n",
              "      <td>K &gt; 24 month</td>\n",
              "      <td>13500.0</td>\n",
              "      <td>15.0</td>\n",
              "      <td>13502.0</td>\n",
              "      <td>4501.0</td>\n",
              "      <td>18.0</td>\n",
              "      <td>43804.0</td>\n",
              "      <td>41.0</td>\n",
              "      <td>102.0</td>\n",
              "      <td>2.0</td>\n",
              "      <td>NaN</td>\n",
              "      <td>NaN</td>\n",
              "      <td>NO</td>\n",
              "      <td>62</td>\n",
              "      <td>Data:1000F=5GB,7d</td>\n",
              "      <td>11.0</td>\n",
              "      <td>0</td>\n",
              "    </tr>\n",
              "    <tr>\n",
              "      <th>4</th>\n",
              "      <td>000028d9e13a595abe061f9b58f3d76ab907850f</td>\n",
              "      <td>DAKAR</td>\n",
              "      <td>K &gt; 24 month</td>\n",
              "      <td>1000.0</td>\n",
              "      <td>1.0</td>\n",
              "      <td>985.0</td>\n",
              "      <td>328.0</td>\n",
              "      <td>1.0</td>\n",
              "      <td>NaN</td>\n",
              "      <td>39.0</td>\n",
              "      <td>24.0</td>\n",
              "      <td>NaN</td>\n",
              "      <td>NaN</td>\n",
              "      <td>NaN</td>\n",
              "      <td>NO</td>\n",
              "      <td>11</td>\n",
              "      <td>Mixt 250F=Unlimited_call24H</td>\n",
              "      <td>2.0</td>\n",
              "      <td>0</td>\n",
              "    </tr>\n",
              "  </tbody>\n",
              "</table>\n",
              "</div>\n",
              "      <button class=\"colab-df-convert\" onclick=\"convertToInteractive('df-84512060-76a4-44ba-9e62-79bd0d867fc7')\"\n",
              "              title=\"Convert this dataframe to an interactive table.\"\n",
              "              style=\"display:none;\">\n",
              "        \n",
              "  <svg xmlns=\"http://www.w3.org/2000/svg\" height=\"24px\"viewBox=\"0 0 24 24\"\n",
              "       width=\"24px\">\n",
              "    <path d=\"M0 0h24v24H0V0z\" fill=\"none\"/>\n",
              "    <path d=\"M18.56 5.44l.94 2.06.94-2.06 2.06-.94-2.06-.94-.94-2.06-.94 2.06-2.06.94zm-11 1L8.5 8.5l.94-2.06 2.06-.94-2.06-.94L8.5 2.5l-.94 2.06-2.06.94zm10 10l.94 2.06.94-2.06 2.06-.94-2.06-.94-.94-2.06-.94 2.06-2.06.94z\"/><path d=\"M17.41 7.96l-1.37-1.37c-.4-.4-.92-.59-1.43-.59-.52 0-1.04.2-1.43.59L10.3 9.45l-7.72 7.72c-.78.78-.78 2.05 0 2.83L4 21.41c.39.39.9.59 1.41.59.51 0 1.02-.2 1.41-.59l7.78-7.78 2.81-2.81c.8-.78.8-2.07 0-2.86zM5.41 20L4 18.59l7.72-7.72 1.47 1.35L5.41 20z\"/>\n",
              "  </svg>\n",
              "      </button>\n",
              "      \n",
              "  <style>\n",
              "    .colab-df-container {\n",
              "      display:flex;\n",
              "      flex-wrap:wrap;\n",
              "      gap: 12px;\n",
              "    }\n",
              "\n",
              "    .colab-df-convert {\n",
              "      background-color: #E8F0FE;\n",
              "      border: none;\n",
              "      border-radius: 50%;\n",
              "      cursor: pointer;\n",
              "      display: none;\n",
              "      fill: #1967D2;\n",
              "      height: 32px;\n",
              "      padding: 0 0 0 0;\n",
              "      width: 32px;\n",
              "    }\n",
              "\n",
              "    .colab-df-convert:hover {\n",
              "      background-color: #E2EBFA;\n",
              "      box-shadow: 0px 1px 2px rgba(60, 64, 67, 0.3), 0px 1px 3px 1px rgba(60, 64, 67, 0.15);\n",
              "      fill: #174EA6;\n",
              "    }\n",
              "\n",
              "    [theme=dark] .colab-df-convert {\n",
              "      background-color: #3B4455;\n",
              "      fill: #D2E3FC;\n",
              "    }\n",
              "\n",
              "    [theme=dark] .colab-df-convert:hover {\n",
              "      background-color: #434B5C;\n",
              "      box-shadow: 0px 1px 3px 1px rgba(0, 0, 0, 0.15);\n",
              "      filter: drop-shadow(0px 1px 2px rgba(0, 0, 0, 0.3));\n",
              "      fill: #FFFFFF;\n",
              "    }\n",
              "  </style>\n",
              "\n",
              "      <script>\n",
              "        const buttonEl =\n",
              "          document.querySelector('#df-84512060-76a4-44ba-9e62-79bd0d867fc7 button.colab-df-convert');\n",
              "        buttonEl.style.display =\n",
              "          google.colab.kernel.accessAllowed ? 'block' : 'none';\n",
              "\n",
              "        async function convertToInteractive(key) {\n",
              "          const element = document.querySelector('#df-84512060-76a4-44ba-9e62-79bd0d867fc7');\n",
              "          const dataTable =\n",
              "            await google.colab.kernel.invokeFunction('convertToInteractive',\n",
              "                                                     [key], {});\n",
              "          if (!dataTable) return;\n",
              "\n",
              "          const docLinkHtml = 'Like what you see? Visit the ' +\n",
              "            '<a target=\"_blank\" href=https://colab.research.google.com/notebooks/data_table.ipynb>data table notebook</a>'\n",
              "            + ' to learn more about interactive tables.';\n",
              "          element.innerHTML = '';\n",
              "          dataTable['output_type'] = 'display_data';\n",
              "          await google.colab.output.renderOutput(dataTable, element);\n",
              "          const docLink = document.createElement('div');\n",
              "          docLink.innerHTML = docLinkHtml;\n",
              "          element.appendChild(docLink);\n",
              "        }\n",
              "      </script>\n",
              "    </div>\n",
              "  </div>\n",
              "  "
            ]
          },
          "metadata": {},
          "execution_count": 8
        }
      ]
    },
    {
      "cell_type": "code",
      "source": [
        "data_train.tail()"
      ],
      "metadata": {
        "colab": {
          "base_uri": "https://localhost:8080/",
          "height": 357
        },
        "id": "RrhN37aIesHf",
        "outputId": "ad9d6671-3961-4496-b090-09588686635e"
      },
      "execution_count": 9,
      "outputs": [
        {
          "output_type": "execute_result",
          "data": {
            "text/plain": [
              "                                       user_id REGION        TENURE  MONTANT  \\\n",
              "5595  00ab66cc543fc027768ee2d9364b403dd594b448  DAKAR  K > 24 month    500.0   \n",
              "5596  00ab6f5770acfa6dcce5bc6866926f292ea62e8f  DAKAR  K > 24 month  13000.0   \n",
              "5597  00ab75232b997c60ce0e53688b460ddb9a0db74b  THIES  K > 24 month    700.0   \n",
              "5598  00ab7ac21c09b8ecd5d7abaefaf93bf85b00d08f    NaN  K > 24 month      NaN   \n",
              "5599  00aba45e0ae943d177cdbee6f835b16abe7d4849  DAKAR  K > 24 month      NaN   \n",
              "\n",
              "      FREQUENCE_RECH  REVENUE  ARPU_SEGMENT  FREQUENCE  DATA_VOLUME  ON_NET  \\\n",
              "5595             1.0   5040.0        1680.0        2.0          NaN    63.0   \n",
              "5596            13.0  13005.0        4335.0       15.0      60341.0     4.0   \n",
              "5597             1.0    700.0         233.0        2.0          0.0     0.0   \n",
              "5598             NaN      NaN           NaN        NaN          NaN     0.0   \n",
              "5599             NaN    500.0         167.0        3.0          NaN     NaN   \n",
              "\n",
              "      ORANGE  TIGO  ZONE1  ZONE2 MRG  REGULARITY  \\\n",
              "5595   181.0  29.0    NaN    NaN  NO          20   \n",
              "5596    19.0   2.0    NaN    NaN  NO          61   \n",
              "5597     4.0   NaN    NaN    NaN  NO           8   \n",
              "5598     0.0   NaN    NaN    NaN  NO           4   \n",
              "5599     4.0   NaN    NaN    NaN  NO           4   \n",
              "\n",
              "                                TOP_PACK  FREQ_TOP_PACK  CHURN  \n",
              "5595  All-net 5000= 20000off+20000on;30d            1.0      0  \n",
              "5596                   Data:1000F=5GB,7d           13.0      0  \n",
              "5597                VAS(IVR_Radio_Daily)            1.0      0  \n",
              "5598                                 NaN            NaN      1  \n",
              "5599                                 NaN            NaN      1  "
            ],
            "text/html": [
              "\n",
              "  <div id=\"df-32314f56-d4d8-489c-a4d4-673d07b08be9\">\n",
              "    <div class=\"colab-df-container\">\n",
              "      <div>\n",
              "<style scoped>\n",
              "    .dataframe tbody tr th:only-of-type {\n",
              "        vertical-align: middle;\n",
              "    }\n",
              "\n",
              "    .dataframe tbody tr th {\n",
              "        vertical-align: top;\n",
              "    }\n",
              "\n",
              "    .dataframe thead th {\n",
              "        text-align: right;\n",
              "    }\n",
              "</style>\n",
              "<table border=\"1\" class=\"dataframe\">\n",
              "  <thead>\n",
              "    <tr style=\"text-align: right;\">\n",
              "      <th></th>\n",
              "      <th>user_id</th>\n",
              "      <th>REGION</th>\n",
              "      <th>TENURE</th>\n",
              "      <th>MONTANT</th>\n",
              "      <th>FREQUENCE_RECH</th>\n",
              "      <th>REVENUE</th>\n",
              "      <th>ARPU_SEGMENT</th>\n",
              "      <th>FREQUENCE</th>\n",
              "      <th>DATA_VOLUME</th>\n",
              "      <th>ON_NET</th>\n",
              "      <th>ORANGE</th>\n",
              "      <th>TIGO</th>\n",
              "      <th>ZONE1</th>\n",
              "      <th>ZONE2</th>\n",
              "      <th>MRG</th>\n",
              "      <th>REGULARITY</th>\n",
              "      <th>TOP_PACK</th>\n",
              "      <th>FREQ_TOP_PACK</th>\n",
              "      <th>CHURN</th>\n",
              "    </tr>\n",
              "  </thead>\n",
              "  <tbody>\n",
              "    <tr>\n",
              "      <th>5595</th>\n",
              "      <td>00ab66cc543fc027768ee2d9364b403dd594b448</td>\n",
              "      <td>DAKAR</td>\n",
              "      <td>K &gt; 24 month</td>\n",
              "      <td>500.0</td>\n",
              "      <td>1.0</td>\n",
              "      <td>5040.0</td>\n",
              "      <td>1680.0</td>\n",
              "      <td>2.0</td>\n",
              "      <td>NaN</td>\n",
              "      <td>63.0</td>\n",
              "      <td>181.0</td>\n",
              "      <td>29.0</td>\n",
              "      <td>NaN</td>\n",
              "      <td>NaN</td>\n",
              "      <td>NO</td>\n",
              "      <td>20</td>\n",
              "      <td>All-net 5000= 20000off+20000on;30d</td>\n",
              "      <td>1.0</td>\n",
              "      <td>0</td>\n",
              "    </tr>\n",
              "    <tr>\n",
              "      <th>5596</th>\n",
              "      <td>00ab6f5770acfa6dcce5bc6866926f292ea62e8f</td>\n",
              "      <td>DAKAR</td>\n",
              "      <td>K &gt; 24 month</td>\n",
              "      <td>13000.0</td>\n",
              "      <td>13.0</td>\n",
              "      <td>13005.0</td>\n",
              "      <td>4335.0</td>\n",
              "      <td>15.0</td>\n",
              "      <td>60341.0</td>\n",
              "      <td>4.0</td>\n",
              "      <td>19.0</td>\n",
              "      <td>2.0</td>\n",
              "      <td>NaN</td>\n",
              "      <td>NaN</td>\n",
              "      <td>NO</td>\n",
              "      <td>61</td>\n",
              "      <td>Data:1000F=5GB,7d</td>\n",
              "      <td>13.0</td>\n",
              "      <td>0</td>\n",
              "    </tr>\n",
              "    <tr>\n",
              "      <th>5597</th>\n",
              "      <td>00ab75232b997c60ce0e53688b460ddb9a0db74b</td>\n",
              "      <td>THIES</td>\n",
              "      <td>K &gt; 24 month</td>\n",
              "      <td>700.0</td>\n",
              "      <td>1.0</td>\n",
              "      <td>700.0</td>\n",
              "      <td>233.0</td>\n",
              "      <td>2.0</td>\n",
              "      <td>0.0</td>\n",
              "      <td>0.0</td>\n",
              "      <td>4.0</td>\n",
              "      <td>NaN</td>\n",
              "      <td>NaN</td>\n",
              "      <td>NaN</td>\n",
              "      <td>NO</td>\n",
              "      <td>8</td>\n",
              "      <td>VAS(IVR_Radio_Daily)</td>\n",
              "      <td>1.0</td>\n",
              "      <td>0</td>\n",
              "    </tr>\n",
              "    <tr>\n",
              "      <th>5598</th>\n",
              "      <td>00ab7ac21c09b8ecd5d7abaefaf93bf85b00d08f</td>\n",
              "      <td>NaN</td>\n",
              "      <td>K &gt; 24 month</td>\n",
              "      <td>NaN</td>\n",
              "      <td>NaN</td>\n",
              "      <td>NaN</td>\n",
              "      <td>NaN</td>\n",
              "      <td>NaN</td>\n",
              "      <td>NaN</td>\n",
              "      <td>0.0</td>\n",
              "      <td>0.0</td>\n",
              "      <td>NaN</td>\n",
              "      <td>NaN</td>\n",
              "      <td>NaN</td>\n",
              "      <td>NO</td>\n",
              "      <td>4</td>\n",
              "      <td>NaN</td>\n",
              "      <td>NaN</td>\n",
              "      <td>1</td>\n",
              "    </tr>\n",
              "    <tr>\n",
              "      <th>5599</th>\n",
              "      <td>00aba45e0ae943d177cdbee6f835b16abe7d4849</td>\n",
              "      <td>DAKAR</td>\n",
              "      <td>K &gt; 24 month</td>\n",
              "      <td>NaN</td>\n",
              "      <td>NaN</td>\n",
              "      <td>500.0</td>\n",
              "      <td>167.0</td>\n",
              "      <td>3.0</td>\n",
              "      <td>NaN</td>\n",
              "      <td>NaN</td>\n",
              "      <td>4.0</td>\n",
              "      <td>NaN</td>\n",
              "      <td>NaN</td>\n",
              "      <td>NaN</td>\n",
              "      <td>NO</td>\n",
              "      <td>4</td>\n",
              "      <td>NaN</td>\n",
              "      <td>NaN</td>\n",
              "      <td>1</td>\n",
              "    </tr>\n",
              "  </tbody>\n",
              "</table>\n",
              "</div>\n",
              "      <button class=\"colab-df-convert\" onclick=\"convertToInteractive('df-32314f56-d4d8-489c-a4d4-673d07b08be9')\"\n",
              "              title=\"Convert this dataframe to an interactive table.\"\n",
              "              style=\"display:none;\">\n",
              "        \n",
              "  <svg xmlns=\"http://www.w3.org/2000/svg\" height=\"24px\"viewBox=\"0 0 24 24\"\n",
              "       width=\"24px\">\n",
              "    <path d=\"M0 0h24v24H0V0z\" fill=\"none\"/>\n",
              "    <path d=\"M18.56 5.44l.94 2.06.94-2.06 2.06-.94-2.06-.94-.94-2.06-.94 2.06-2.06.94zm-11 1L8.5 8.5l.94-2.06 2.06-.94-2.06-.94L8.5 2.5l-.94 2.06-2.06.94zm10 10l.94 2.06.94-2.06 2.06-.94-2.06-.94-.94-2.06-.94 2.06-2.06.94z\"/><path d=\"M17.41 7.96l-1.37-1.37c-.4-.4-.92-.59-1.43-.59-.52 0-1.04.2-1.43.59L10.3 9.45l-7.72 7.72c-.78.78-.78 2.05 0 2.83L4 21.41c.39.39.9.59 1.41.59.51 0 1.02-.2 1.41-.59l7.78-7.78 2.81-2.81c.8-.78.8-2.07 0-2.86zM5.41 20L4 18.59l7.72-7.72 1.47 1.35L5.41 20z\"/>\n",
              "  </svg>\n",
              "      </button>\n",
              "      \n",
              "  <style>\n",
              "    .colab-df-container {\n",
              "      display:flex;\n",
              "      flex-wrap:wrap;\n",
              "      gap: 12px;\n",
              "    }\n",
              "\n",
              "    .colab-df-convert {\n",
              "      background-color: #E8F0FE;\n",
              "      border: none;\n",
              "      border-radius: 50%;\n",
              "      cursor: pointer;\n",
              "      display: none;\n",
              "      fill: #1967D2;\n",
              "      height: 32px;\n",
              "      padding: 0 0 0 0;\n",
              "      width: 32px;\n",
              "    }\n",
              "\n",
              "    .colab-df-convert:hover {\n",
              "      background-color: #E2EBFA;\n",
              "      box-shadow: 0px 1px 2px rgba(60, 64, 67, 0.3), 0px 1px 3px 1px rgba(60, 64, 67, 0.15);\n",
              "      fill: #174EA6;\n",
              "    }\n",
              "\n",
              "    [theme=dark] .colab-df-convert {\n",
              "      background-color: #3B4455;\n",
              "      fill: #D2E3FC;\n",
              "    }\n",
              "\n",
              "    [theme=dark] .colab-df-convert:hover {\n",
              "      background-color: #434B5C;\n",
              "      box-shadow: 0px 1px 3px 1px rgba(0, 0, 0, 0.15);\n",
              "      filter: drop-shadow(0px 1px 2px rgba(0, 0, 0, 0.3));\n",
              "      fill: #FFFFFF;\n",
              "    }\n",
              "  </style>\n",
              "\n",
              "      <script>\n",
              "        const buttonEl =\n",
              "          document.querySelector('#df-32314f56-d4d8-489c-a4d4-673d07b08be9 button.colab-df-convert');\n",
              "        buttonEl.style.display =\n",
              "          google.colab.kernel.accessAllowed ? 'block' : 'none';\n",
              "\n",
              "        async function convertToInteractive(key) {\n",
              "          const element = document.querySelector('#df-32314f56-d4d8-489c-a4d4-673d07b08be9');\n",
              "          const dataTable =\n",
              "            await google.colab.kernel.invokeFunction('convertToInteractive',\n",
              "                                                     [key], {});\n",
              "          if (!dataTable) return;\n",
              "\n",
              "          const docLinkHtml = 'Like what you see? Visit the ' +\n",
              "            '<a target=\"_blank\" href=https://colab.research.google.com/notebooks/data_table.ipynb>data table notebook</a>'\n",
              "            + ' to learn more about interactive tables.';\n",
              "          element.innerHTML = '';\n",
              "          dataTable['output_type'] = 'display_data';\n",
              "          await google.colab.output.renderOutput(dataTable, element);\n",
              "          const docLink = document.createElement('div');\n",
              "          docLink.innerHTML = docLinkHtml;\n",
              "          element.appendChild(docLink);\n",
              "        }\n",
              "      </script>\n",
              "    </div>\n",
              "  </div>\n",
              "  "
            ]
          },
          "metadata": {},
          "execution_count": 9
        }
      ]
    },
    {
      "cell_type": "code",
      "source": [
        "data_train.describe()\n"
      ],
      "metadata": {
        "colab": {
          "base_uri": "https://localhost:8080/",
          "height": 364
        },
        "id": "RqHwokiCesFG",
        "outputId": "a38efc8c-9e18-4244-92eb-0bc31606ad11"
      },
      "execution_count": 10,
      "outputs": [
        {
          "output_type": "execute_result",
          "data": {
            "text/plain": [
              "            MONTANT  FREQUENCE_RECH       REVENUE  ARPU_SEGMENT    FREQUENCE  \\\n",
              "count   3631.000000     3631.000000   3693.000000   3693.000000  3693.000000   \n",
              "mean    5389.320848       11.213164   5385.562415   1795.196588    13.632006   \n",
              "std     6900.116288       12.779579   6941.404329   2313.791684    14.144806   \n",
              "min       50.000000        1.000000      1.000000      0.000000     1.000000   \n",
              "25%     1000.000000        2.000000   1000.000000    333.000000     3.000000   \n",
              "50%     3000.000000        6.000000   2990.000000    997.000000     9.000000   \n",
              "75%     7100.000000       15.000000   7291.000000   2430.000000    19.000000   \n",
              "max    91500.000000       92.000000  93195.000000  31065.000000    83.000000   \n",
              "\n",
              "         DATA_VOLUME        ON_NET       ORANGE         TIGO       ZONE1  \\\n",
              "count    2795.000000   3545.000000  3239.000000  2232.000000  436.000000   \n",
              "mean     3880.794275    274.248801    92.743439    22.036290    9.091743   \n",
              "std     25619.394315    861.189083   195.905416    55.348916   47.852127   \n",
              "min         0.000000      0.000000     0.000000     0.000000    0.000000   \n",
              "25%         0.000000      5.000000     7.000000     2.000000    0.000000   \n",
              "50%       300.000000     26.000000    29.000000     6.000000    1.000000   \n",
              "75%      2752.500000    148.000000    96.000000    21.000000    3.000000   \n",
              "max    926547.000000  11987.000000  3280.000000  1374.000000  820.000000   \n",
              "\n",
              "            ZONE2   REGULARITY  FREQ_TOP_PACK        CHURN  \n",
              "count  351.000000  5600.000000    3237.000000  5600.000000  \n",
              "mean     9.746439    27.716071       8.981464     0.185179  \n",
              "std     54.535138    22.282132      11.409001     0.388477  \n",
              "min      0.000000     1.000000       1.000000     0.000000  \n",
              "25%      0.000000     6.000000       2.000000     0.000000  \n",
              "50%      1.000000    24.000000       5.000000     0.000000  \n",
              "75%      5.000000    50.000000      11.000000     0.000000  \n",
              "max    932.000000    62.000000     120.000000     1.000000  "
            ],
            "text/html": [
              "\n",
              "  <div id=\"df-67087539-6c7f-45d0-87c3-85ed8e469cf3\">\n",
              "    <div class=\"colab-df-container\">\n",
              "      <div>\n",
              "<style scoped>\n",
              "    .dataframe tbody tr th:only-of-type {\n",
              "        vertical-align: middle;\n",
              "    }\n",
              "\n",
              "    .dataframe tbody tr th {\n",
              "        vertical-align: top;\n",
              "    }\n",
              "\n",
              "    .dataframe thead th {\n",
              "        text-align: right;\n",
              "    }\n",
              "</style>\n",
              "<table border=\"1\" class=\"dataframe\">\n",
              "  <thead>\n",
              "    <tr style=\"text-align: right;\">\n",
              "      <th></th>\n",
              "      <th>MONTANT</th>\n",
              "      <th>FREQUENCE_RECH</th>\n",
              "      <th>REVENUE</th>\n",
              "      <th>ARPU_SEGMENT</th>\n",
              "      <th>FREQUENCE</th>\n",
              "      <th>DATA_VOLUME</th>\n",
              "      <th>ON_NET</th>\n",
              "      <th>ORANGE</th>\n",
              "      <th>TIGO</th>\n",
              "      <th>ZONE1</th>\n",
              "      <th>ZONE2</th>\n",
              "      <th>REGULARITY</th>\n",
              "      <th>FREQ_TOP_PACK</th>\n",
              "      <th>CHURN</th>\n",
              "    </tr>\n",
              "  </thead>\n",
              "  <tbody>\n",
              "    <tr>\n",
              "      <th>count</th>\n",
              "      <td>3631.000000</td>\n",
              "      <td>3631.000000</td>\n",
              "      <td>3693.000000</td>\n",
              "      <td>3693.000000</td>\n",
              "      <td>3693.000000</td>\n",
              "      <td>2795.000000</td>\n",
              "      <td>3545.000000</td>\n",
              "      <td>3239.000000</td>\n",
              "      <td>2232.000000</td>\n",
              "      <td>436.000000</td>\n",
              "      <td>351.000000</td>\n",
              "      <td>5600.000000</td>\n",
              "      <td>3237.000000</td>\n",
              "      <td>5600.000000</td>\n",
              "    </tr>\n",
              "    <tr>\n",
              "      <th>mean</th>\n",
              "      <td>5389.320848</td>\n",
              "      <td>11.213164</td>\n",
              "      <td>5385.562415</td>\n",
              "      <td>1795.196588</td>\n",
              "      <td>13.632006</td>\n",
              "      <td>3880.794275</td>\n",
              "      <td>274.248801</td>\n",
              "      <td>92.743439</td>\n",
              "      <td>22.036290</td>\n",
              "      <td>9.091743</td>\n",
              "      <td>9.746439</td>\n",
              "      <td>27.716071</td>\n",
              "      <td>8.981464</td>\n",
              "      <td>0.185179</td>\n",
              "    </tr>\n",
              "    <tr>\n",
              "      <th>std</th>\n",
              "      <td>6900.116288</td>\n",
              "      <td>12.779579</td>\n",
              "      <td>6941.404329</td>\n",
              "      <td>2313.791684</td>\n",
              "      <td>14.144806</td>\n",
              "      <td>25619.394315</td>\n",
              "      <td>861.189083</td>\n",
              "      <td>195.905416</td>\n",
              "      <td>55.348916</td>\n",
              "      <td>47.852127</td>\n",
              "      <td>54.535138</td>\n",
              "      <td>22.282132</td>\n",
              "      <td>11.409001</td>\n",
              "      <td>0.388477</td>\n",
              "    </tr>\n",
              "    <tr>\n",
              "      <th>min</th>\n",
              "      <td>50.000000</td>\n",
              "      <td>1.000000</td>\n",
              "      <td>1.000000</td>\n",
              "      <td>0.000000</td>\n",
              "      <td>1.000000</td>\n",
              "      <td>0.000000</td>\n",
              "      <td>0.000000</td>\n",
              "      <td>0.000000</td>\n",
              "      <td>0.000000</td>\n",
              "      <td>0.000000</td>\n",
              "      <td>0.000000</td>\n",
              "      <td>1.000000</td>\n",
              "      <td>1.000000</td>\n",
              "      <td>0.000000</td>\n",
              "    </tr>\n",
              "    <tr>\n",
              "      <th>25%</th>\n",
              "      <td>1000.000000</td>\n",
              "      <td>2.000000</td>\n",
              "      <td>1000.000000</td>\n",
              "      <td>333.000000</td>\n",
              "      <td>3.000000</td>\n",
              "      <td>0.000000</td>\n",
              "      <td>5.000000</td>\n",
              "      <td>7.000000</td>\n",
              "      <td>2.000000</td>\n",
              "      <td>0.000000</td>\n",
              "      <td>0.000000</td>\n",
              "      <td>6.000000</td>\n",
              "      <td>2.000000</td>\n",
              "      <td>0.000000</td>\n",
              "    </tr>\n",
              "    <tr>\n",
              "      <th>50%</th>\n",
              "      <td>3000.000000</td>\n",
              "      <td>6.000000</td>\n",
              "      <td>2990.000000</td>\n",
              "      <td>997.000000</td>\n",
              "      <td>9.000000</td>\n",
              "      <td>300.000000</td>\n",
              "      <td>26.000000</td>\n",
              "      <td>29.000000</td>\n",
              "      <td>6.000000</td>\n",
              "      <td>1.000000</td>\n",
              "      <td>1.000000</td>\n",
              "      <td>24.000000</td>\n",
              "      <td>5.000000</td>\n",
              "      <td>0.000000</td>\n",
              "    </tr>\n",
              "    <tr>\n",
              "      <th>75%</th>\n",
              "      <td>7100.000000</td>\n",
              "      <td>15.000000</td>\n",
              "      <td>7291.000000</td>\n",
              "      <td>2430.000000</td>\n",
              "      <td>19.000000</td>\n",
              "      <td>2752.500000</td>\n",
              "      <td>148.000000</td>\n",
              "      <td>96.000000</td>\n",
              "      <td>21.000000</td>\n",
              "      <td>3.000000</td>\n",
              "      <td>5.000000</td>\n",
              "      <td>50.000000</td>\n",
              "      <td>11.000000</td>\n",
              "      <td>0.000000</td>\n",
              "    </tr>\n",
              "    <tr>\n",
              "      <th>max</th>\n",
              "      <td>91500.000000</td>\n",
              "      <td>92.000000</td>\n",
              "      <td>93195.000000</td>\n",
              "      <td>31065.000000</td>\n",
              "      <td>83.000000</td>\n",
              "      <td>926547.000000</td>\n",
              "      <td>11987.000000</td>\n",
              "      <td>3280.000000</td>\n",
              "      <td>1374.000000</td>\n",
              "      <td>820.000000</td>\n",
              "      <td>932.000000</td>\n",
              "      <td>62.000000</td>\n",
              "      <td>120.000000</td>\n",
              "      <td>1.000000</td>\n",
              "    </tr>\n",
              "  </tbody>\n",
              "</table>\n",
              "</div>\n",
              "      <button class=\"colab-df-convert\" onclick=\"convertToInteractive('df-67087539-6c7f-45d0-87c3-85ed8e469cf3')\"\n",
              "              title=\"Convert this dataframe to an interactive table.\"\n",
              "              style=\"display:none;\">\n",
              "        \n",
              "  <svg xmlns=\"http://www.w3.org/2000/svg\" height=\"24px\"viewBox=\"0 0 24 24\"\n",
              "       width=\"24px\">\n",
              "    <path d=\"M0 0h24v24H0V0z\" fill=\"none\"/>\n",
              "    <path d=\"M18.56 5.44l.94 2.06.94-2.06 2.06-.94-2.06-.94-.94-2.06-.94 2.06-2.06.94zm-11 1L8.5 8.5l.94-2.06 2.06-.94-2.06-.94L8.5 2.5l-.94 2.06-2.06.94zm10 10l.94 2.06.94-2.06 2.06-.94-2.06-.94-.94-2.06-.94 2.06-2.06.94z\"/><path d=\"M17.41 7.96l-1.37-1.37c-.4-.4-.92-.59-1.43-.59-.52 0-1.04.2-1.43.59L10.3 9.45l-7.72 7.72c-.78.78-.78 2.05 0 2.83L4 21.41c.39.39.9.59 1.41.59.51 0 1.02-.2 1.41-.59l7.78-7.78 2.81-2.81c.8-.78.8-2.07 0-2.86zM5.41 20L4 18.59l7.72-7.72 1.47 1.35L5.41 20z\"/>\n",
              "  </svg>\n",
              "      </button>\n",
              "      \n",
              "  <style>\n",
              "    .colab-df-container {\n",
              "      display:flex;\n",
              "      flex-wrap:wrap;\n",
              "      gap: 12px;\n",
              "    }\n",
              "\n",
              "    .colab-df-convert {\n",
              "      background-color: #E8F0FE;\n",
              "      border: none;\n",
              "      border-radius: 50%;\n",
              "      cursor: pointer;\n",
              "      display: none;\n",
              "      fill: #1967D2;\n",
              "      height: 32px;\n",
              "      padding: 0 0 0 0;\n",
              "      width: 32px;\n",
              "    }\n",
              "\n",
              "    .colab-df-convert:hover {\n",
              "      background-color: #E2EBFA;\n",
              "      box-shadow: 0px 1px 2px rgba(60, 64, 67, 0.3), 0px 1px 3px 1px rgba(60, 64, 67, 0.15);\n",
              "      fill: #174EA6;\n",
              "    }\n",
              "\n",
              "    [theme=dark] .colab-df-convert {\n",
              "      background-color: #3B4455;\n",
              "      fill: #D2E3FC;\n",
              "    }\n",
              "\n",
              "    [theme=dark] .colab-df-convert:hover {\n",
              "      background-color: #434B5C;\n",
              "      box-shadow: 0px 1px 3px 1px rgba(0, 0, 0, 0.15);\n",
              "      filter: drop-shadow(0px 1px 2px rgba(0, 0, 0, 0.3));\n",
              "      fill: #FFFFFF;\n",
              "    }\n",
              "  </style>\n",
              "\n",
              "      <script>\n",
              "        const buttonEl =\n",
              "          document.querySelector('#df-67087539-6c7f-45d0-87c3-85ed8e469cf3 button.colab-df-convert');\n",
              "        buttonEl.style.display =\n",
              "          google.colab.kernel.accessAllowed ? 'block' : 'none';\n",
              "\n",
              "        async function convertToInteractive(key) {\n",
              "          const element = document.querySelector('#df-67087539-6c7f-45d0-87c3-85ed8e469cf3');\n",
              "          const dataTable =\n",
              "            await google.colab.kernel.invokeFunction('convertToInteractive',\n",
              "                                                     [key], {});\n",
              "          if (!dataTable) return;\n",
              "\n",
              "          const docLinkHtml = 'Like what you see? Visit the ' +\n",
              "            '<a target=\"_blank\" href=https://colab.research.google.com/notebooks/data_table.ipynb>data table notebook</a>'\n",
              "            + ' to learn more about interactive tables.';\n",
              "          element.innerHTML = '';\n",
              "          dataTable['output_type'] = 'display_data';\n",
              "          await google.colab.output.renderOutput(dataTable, element);\n",
              "          const docLink = document.createElement('div');\n",
              "          docLink.innerHTML = docLinkHtml;\n",
              "          element.appendChild(docLink);\n",
              "        }\n",
              "      </script>\n",
              "    </div>\n",
              "  </div>\n",
              "  "
            ]
          },
          "metadata": {},
          "execution_count": 10
        }
      ]
    },
    {
      "cell_type": "code",
      "source": [
        "data_train.info()"
      ],
      "metadata": {
        "colab": {
          "base_uri": "https://localhost:8080/"
        },
        "id": "T-48t1Q7fOqs",
        "outputId": "339b166a-1235-4404-addc-66fce4a1c64f"
      },
      "execution_count": 11,
      "outputs": [
        {
          "output_type": "stream",
          "name": "stdout",
          "text": [
            "<class 'pandas.core.frame.DataFrame'>\n",
            "RangeIndex: 5600 entries, 0 to 5599\n",
            "Data columns (total 19 columns):\n",
            " #   Column          Non-Null Count  Dtype  \n",
            "---  ------          --------------  -----  \n",
            " 0   user_id         5600 non-null   object \n",
            " 1   REGION          3410 non-null   object \n",
            " 2   TENURE          5600 non-null   object \n",
            " 3   MONTANT         3631 non-null   float64\n",
            " 4   FREQUENCE_RECH  3631 non-null   float64\n",
            " 5   REVENUE         3693 non-null   float64\n",
            " 6   ARPU_SEGMENT    3693 non-null   float64\n",
            " 7   FREQUENCE       3693 non-null   float64\n",
            " 8   DATA_VOLUME     2795 non-null   float64\n",
            " 9   ON_NET          3545 non-null   float64\n",
            " 10  ORANGE          3239 non-null   float64\n",
            " 11  TIGO            2232 non-null   float64\n",
            " 12  ZONE1           436 non-null    float64\n",
            " 13  ZONE2           351 non-null    float64\n",
            " 14  MRG             5600 non-null   object \n",
            " 15  REGULARITY      5600 non-null   int64  \n",
            " 16  TOP_PACK        3237 non-null   object \n",
            " 17  FREQ_TOP_PACK   3237 non-null   float64\n",
            " 18  CHURN           5600 non-null   int64  \n",
            "dtypes: float64(12), int64(2), object(5)\n",
            "memory usage: 831.4+ KB\n"
          ]
        }
      ]
    },
    {
      "cell_type": "code",
      "source": [
        "data_train.isnull().sum()"
      ],
      "metadata": {
        "colab": {
          "base_uri": "https://localhost:8080/"
        },
        "id": "bkUF_mXCfOnJ",
        "outputId": "a4dc2052-c994-4e2b-efc2-605f56b4b6b4"
      },
      "execution_count": 12,
      "outputs": [
        {
          "output_type": "execute_result",
          "data": {
            "text/plain": [
              "user_id              0\n",
              "REGION            2190\n",
              "TENURE               0\n",
              "MONTANT           1969\n",
              "FREQUENCE_RECH    1969\n",
              "REVENUE           1907\n",
              "ARPU_SEGMENT      1907\n",
              "FREQUENCE         1907\n",
              "DATA_VOLUME       2805\n",
              "ON_NET            2055\n",
              "ORANGE            2361\n",
              "TIGO              3368\n",
              "ZONE1             5164\n",
              "ZONE2             5249\n",
              "MRG                  0\n",
              "REGULARITY           0\n",
              "TOP_PACK          2363\n",
              "FREQ_TOP_PACK     2363\n",
              "CHURN                0\n",
              "dtype: int64"
            ]
          },
          "metadata": {},
          "execution_count": 12
        }
      ]
    },
    {
      "cell_type": "code",
      "source": [
        "print(data_train['REGION'].value_counts())"
      ],
      "metadata": {
        "colab": {
          "base_uri": "https://localhost:8080/"
        },
        "id": "-_RGOmXMfOkY",
        "outputId": "f3dd4b4b-6ca4-4f20-fce5-a1825ccaab31"
      },
      "execution_count": 13,
      "outputs": [
        {
          "output_type": "stream",
          "name": "stdout",
          "text": [
            "DAKAR          1321\n",
            "THIES           473\n",
            "SAINT-LOUIS     325\n",
            "LOUGA           243\n",
            "KAOLACK         239\n",
            "DIOURBEL        178\n",
            "TAMBACOUNDA     139\n",
            "KAFFRINE        120\n",
            "FATICK          109\n",
            "KOLDA           102\n",
            "MATAM            85\n",
            "ZIGUINCHOR       69\n",
            "SEDHIOU           7\n",
            "Name: REGION, dtype: int64\n"
          ]
        }
      ]
    },
    {
      "cell_type": "code",
      "source": [
        "print(data_train['TENURE'].value_counts())"
      ],
      "metadata": {
        "colab": {
          "base_uri": "https://localhost:8080/"
        },
        "id": "yTjZPXInfOdj",
        "outputId": "bd20bee0-940b-4136-e500-74dbd32a200a"
      },
      "execution_count": 14,
      "outputs": [
        {
          "output_type": "stream",
          "name": "stdout",
          "text": [
            "K > 24 month     5328\n",
            "I 18-21 month     109\n",
            "H 15-18 month      61\n",
            "G 12-15 month      46\n",
            "J 21-24 month      28\n",
            "F 9-12 month       18\n",
            "E 6-9 month         6\n",
            "D 3-6 month         4\n",
            "Name: TENURE, dtype: int64\n"
          ]
        }
      ]
    },
    {
      "cell_type": "code",
      "source": [
        "print(data_train['MRG'].value_counts())"
      ],
      "metadata": {
        "colab": {
          "base_uri": "https://localhost:8080/"
        },
        "id": "kCm1PSfKfOZ_",
        "outputId": "042c1920-c189-4335-c75f-967165e7a87c"
      },
      "execution_count": 15,
      "outputs": [
        {
          "output_type": "stream",
          "name": "stdout",
          "text": [
            "NO    5600\n",
            "Name: MRG, dtype: int64\n"
          ]
        }
      ]
    },
    {
      "cell_type": "code",
      "source": [
        "print(data_train['CHURN'].value_counts())"
      ],
      "metadata": {
        "colab": {
          "base_uri": "https://localhost:8080/"
        },
        "id": "uC5aVj60fOXZ",
        "outputId": "d334c287-3e16-4f0d-8063-8aa18f0684a2"
      },
      "execution_count": 16,
      "outputs": [
        {
          "output_type": "stream",
          "name": "stdout",
          "text": [
            "0    4563\n",
            "1    1037\n",
            "Name: CHURN, dtype: int64\n"
          ]
        }
      ]
    },
    {
      "cell_type": "code",
      "source": [
        "data_train.hist(figsize=(20,20))"
      ],
      "metadata": {
        "colab": {
          "base_uri": "https://localhost:8080/",
          "height": 1000
        },
        "id": "vaUZ44X1fOVA",
        "outputId": "6a5ac765-8028-42b4-a584-641d60b81069"
      },
      "execution_count": 17,
      "outputs": [
        {
          "output_type": "execute_result",
          "data": {
            "text/plain": [
              "array([[<AxesSubplot:title={'center':'MONTANT'}>,\n",
              "        <AxesSubplot:title={'center':'FREQUENCE_RECH'}>,\n",
              "        <AxesSubplot:title={'center':'REVENUE'}>,\n",
              "        <AxesSubplot:title={'center':'ARPU_SEGMENT'}>],\n",
              "       [<AxesSubplot:title={'center':'FREQUENCE'}>,\n",
              "        <AxesSubplot:title={'center':'DATA_VOLUME'}>,\n",
              "        <AxesSubplot:title={'center':'ON_NET'}>,\n",
              "        <AxesSubplot:title={'center':'ORANGE'}>],\n",
              "       [<AxesSubplot:title={'center':'TIGO'}>,\n",
              "        <AxesSubplot:title={'center':'ZONE1'}>,\n",
              "        <AxesSubplot:title={'center':'ZONE2'}>,\n",
              "        <AxesSubplot:title={'center':'REGULARITY'}>],\n",
              "       [<AxesSubplot:title={'center':'FREQ_TOP_PACK'}>,\n",
              "        <AxesSubplot:title={'center':'CHURN'}>, <AxesSubplot:>,\n",
              "        <AxesSubplot:>]], dtype=object)"
            ]
          },
          "metadata": {},
          "execution_count": 17
        },
        {
          "output_type": "display_data",
          "data": {
            "text/plain": [
              "<Figure size 1440x1440 with 16 Axes>"
            ],
            "image/png": "[encoded data removed]"
          },
          "metadata": {
            "needs_background": "light"
          }
        }
      ]
    },
    {
      "cell_type": "code",
      "source": [
        "plt.figure(figsize=(10,5))\n",
        "data_train['REGION'].value_counts(normalize=True).plot(kind='bar')\n",
        "plt.ylabel('counts')\n",
        "plt.xlabel('REGION')"
      ],
      "metadata": {
        "colab": {
          "base_uri": "https://localhost:8080/",
          "height": 419
        },
        "id": "42aDol5MfOSb",
        "outputId": "b7512bfd-d02c-4e20-d69c-91efec2ef964"
      },
      "execution_count": 18,
      "outputs": [
        {
          "output_type": "execute_result",
          "data": {
            "text/plain": [
              "Text(0.5, 0, 'REGION')"
            ]
          },
          "metadata": {},
          "execution_count": 18
        },
        {
          "output_type": "display_data",
          "data": {
            "text/plain": [
              "<Figure size 720x360 with 1 Axes>"
            ],
            "image/png": "[encoded data removed]"
          },
          "metadata": {
            "needs_background": "light"
          }
        }
      ]
    },
    {
      "cell_type": "code",
      "source": [
        "plt.figure(figsize=(10,5))\n",
        "data_train['TENURE'].value_counts(normalize=True).plot(kind='bar')\n",
        "plt.ylabel('counts')\n",
        "plt.xlabel('TENURE')"
      ],
      "metadata": {
        "colab": {
          "base_uri": "https://localhost:8080/",
          "height": 416
        },
        "id": "Ht-rk26kfvHN",
        "outputId": "f0dbe1bf-5f08-4bc3-9715-f116b8317747"
      },
      "execution_count": 19,
      "outputs": [
        {
          "output_type": "execute_result",
          "data": {
            "text/plain": [
              "Text(0.5, 0, 'TENURE')"
            ]
          },
          "metadata": {},
          "execution_count": 19
        },
        {
          "output_type": "display_data",
          "data": {
            "text/plain": [
              "<Figure size 720x360 with 1 Axes>"
            ],
            "image/png": "[encoded data removed]"
          },
          "metadata": {
            "needs_background": "light"
          }
        }
      ]
    },
    {
      "cell_type": "code",
      "source": [
        "plt.figure(figsize=(10,5))\n",
        "data_train['MRG'].value_counts(normalize=True).plot(kind='bar')\n",
        "plt.ylabel('counts')\n",
        "plt.xlabel('MRG')"
      ],
      "metadata": {
        "colab": {
          "base_uri": "https://localhost:8080/",
          "height": 356
        },
        "id": "olMxcxQvfvDr",
        "outputId": "a2edfeaf-40d7-4326-cf9e-0b239705f717"
      },
      "execution_count": 20,
      "outputs": [
        {
          "output_type": "execute_result",
          "data": {
            "text/plain": [
              "Text(0.5, 0, 'MRG')"
            ]
          },
          "metadata": {},
          "execution_count": 20
        },
        {
          "output_type": "display_data",
          "data": {
            "text/plain": [
              "<Figure size 720x360 with 1 Axes>"
            ],
            "image/png": "[encoded data removed]"
          },
          "metadata": {
            "needs_background": "light"
          }
        }
      ]
    },
    {
      "cell_type": "code",
      "source": [
        "plt.figure(figsize=(10,5))\n",
        "data_train['CHURN'].value_counts(normalize=True).plot(kind='bar')\n",
        "plt.ylabel('counts')\n",
        "plt.xlabel('Churn')"
      ],
      "metadata": {
        "colab": {
          "base_uri": "https://localhost:8080/",
          "height": 347
        },
        "id": "8hkaWA1xfvBJ",
        "outputId": "4bc46228-8edb-4156-b5b8-737e1dd8cbea"
      },
      "execution_count": 21,
      "outputs": [
        {
          "output_type": "execute_result",
          "data": {
            "text/plain": [
              "Text(0.5, 0, 'Churn')"
            ]
          },
          "metadata": {},
          "execution_count": 21
        },
        {
          "output_type": "display_data",
          "data": {
            "text/plain": [
              "<Figure size 720x360 with 1 Axes>"
            ],
            "image/png": "[encoded data removed]"
          },
          "metadata": {
            "needs_background": "light"
          }
        }
      ]
    },
    {
      "cell_type": "code",
      "source": [
        "corrmat= data_train.corr()\n",
        "top_corr_features = corrmat.index\n",
        "plt.figure(figsize=(14,8))\n",
        "\n",
        "g=sns.heatmap(data_train[top_corr_features].corr(),annot=True,cmap=\"RdYlGn\")"
      ],
      "metadata": {
        "colab": {
          "base_uri": "https://localhost:8080/",
          "height": 570
        },
        "id": "4sgjlC4-fu-i",
        "outputId": "1fe15343-41e2-4a9e-eb18-c8424e6bd340"
      },
      "execution_count": 22,
      "outputs": [
        {
          "output_type": "display_data",
          "data": {
            "text/plain": [
              "<Figure size 1008x576 with 2 Axes>"
            ],
            "image/png": "[encoded data removed]"
          },
          "metadata": {
            "needs_background": "light"
          }
        }
      ]
    },
    {
      "cell_type": "code",
      "source": [
        "data_train['REGION'].fillna((data_train['REGION'].mode()[0]), inplace=True)\n",
        "data_train['TENURE'].fillna((data_train['TENURE'].mode()[0]), inplace=True)"
      ],
      "metadata": {
        "id": "hw8LGHrwfu8C"
      },
      "execution_count": 23,
      "outputs": []
    },
    {
      "cell_type": "code",
      "source": [
        "data_train['MONTANT'].fillna((data_train['MONTANT'].median()), inplace=True)\n",
        "data_train['FREQUENCE_RECH'].fillna((data_train['FREQUENCE_RECH'].median()), inplace=True)\n",
        "data_train['REVENUE'].fillna((data_train['REVENUE'].median()), inplace=True)\n",
        "data_train['ARPU_SEGMENT'].fillna((data_train['ARPU_SEGMENT'].median()), inplace=True)\n",
        "data_train['FREQUENCE'].fillna((data_train['FREQUENCE'].median()), inplace=True)\n",
        "data_train['DATA_VOLUME'].fillna((data_train['DATA_VOLUME'].median()), inplace=True)\n",
        "data_train['ON_NET'].fillna((data_train['ON_NET'].median()), inplace=True)\n",
        "data_train['ORANGE'].fillna((data_train['ORANGE'].median()), inplace=True)\n",
        "data_train['TIGO'].fillna((data_train['TIGO'].median()), inplace=True)\n",
        "data_train['ZONE1'].fillna((data_train['ZONE1'].median()), inplace=True)\n",
        "data_train['ZONE2'].fillna((data_train['ZONE2'].median()), inplace=True)\n",
        "data_train['FREQ_TOP_PACK'].fillna((data_train['FREQ_TOP_PACK'].median()), inplace=True)"
      ],
      "metadata": {
        "id": "LrKXiWqEfu5o"
      },
      "execution_count": 24,
      "outputs": []
    },
    {
      "cell_type": "code",
      "source": [
        "data_train = data_train.drop([\"MRG\",\"TOP_PACK\"],axis = 1)"
      ],
      "metadata": {
        "id": "gdUQl1fSfu3H"
      },
      "execution_count": 25,
      "outputs": []
    },
    {
      "cell_type": "code",
      "source": [
        "data_train.isnull().sum()"
      ],
      "metadata": {
        "colab": {
          "base_uri": "https://localhost:8080/"
        },
        "id": "XA1zhT1SgNAW",
        "outputId": "00d4392d-9fb9-4877-dba1-5ee72bf5150f"
      },
      "execution_count": 26,
      "outputs": [
        {
          "output_type": "execute_result",
          "data": {
            "text/plain": [
              "user_id           0\n",
              "REGION            0\n",
              "TENURE            0\n",
              "MONTANT           0\n",
              "FREQUENCE_RECH    0\n",
              "REVENUE           0\n",
              "ARPU_SEGMENT      0\n",
              "FREQUENCE         0\n",
              "DATA_VOLUME       0\n",
              "ON_NET            0\n",
              "ORANGE            0\n",
              "TIGO              0\n",
              "ZONE1             0\n",
              "ZONE2             0\n",
              "REGULARITY        0\n",
              "FREQ_TOP_PACK     0\n",
              "CHURN             0\n",
              "dtype: int64"
            ]
          },
          "metadata": {},
          "execution_count": 26
        }
      ]
    },
    {
      "cell_type": "code",
      "source": [
        "data_train.head()"
      ],
      "metadata": {
        "colab": {
          "base_uri": "https://localhost:8080/",
          "height": 357
        },
        "id": "iQn4NQI0gM85",
        "outputId": "fa76f383-7b22-4b54-ab3a-b2b530e04d90"
      },
      "execution_count": 27,
      "outputs": [
        {
          "output_type": "execute_result",
          "data": {
            "text/plain": [
              "                                    user_id  REGION         TENURE  MONTANT  \\\n",
              "0  00000bfd7d50f01092811bc0c8d7b0d6fe7c3596  FATICK   K > 24 month   4250.0   \n",
              "1  00000cb4a5d760de88fecb38e2f71b7bec52e834   DAKAR  I 18-21 month   3000.0   \n",
              "2  00001654a9d9f96303d9969d0a4a851714a4bb57   DAKAR   K > 24 month   3600.0   \n",
              "3  00001dd6fa45f7ba044bd5d84937be464ce78ac2   DAKAR   K > 24 month  13500.0   \n",
              "4  000028d9e13a595abe061f9b58f3d76ab907850f   DAKAR   K > 24 month   1000.0   \n",
              "\n",
              "   FREQUENCE_RECH  REVENUE  ARPU_SEGMENT  FREQUENCE  DATA_VOLUME  ON_NET  \\\n",
              "0            15.0   4251.0        1417.0       17.0          4.0   388.0   \n",
              "1             6.0   2990.0         997.0        9.0        300.0    26.0   \n",
              "2             2.0   1020.0         340.0        2.0        300.0    90.0   \n",
              "3            15.0  13502.0        4501.0       18.0      43804.0    41.0   \n",
              "4             1.0    985.0         328.0        1.0        300.0    39.0   \n",
              "\n",
              "   ORANGE  TIGO  ZONE1  ZONE2  REGULARITY  FREQ_TOP_PACK  CHURN  \n",
              "0    46.0   1.0    1.0    2.0          54            8.0      0  \n",
              "1    29.0   6.0    1.0    1.0           4            5.0      1  \n",
              "2    46.0   7.0    1.0    1.0          17            1.0      0  \n",
              "3   102.0   2.0    1.0    1.0          62           11.0      0  \n",
              "4    24.0   6.0    1.0    1.0          11            2.0      0  "
            ],
            "text/html": [
              "\n",
              "  <div id=\"df-79ba5e54-fb85-4db0-af2b-aaa298035f2d\">\n",
              "    <div class=\"colab-df-container\">\n",
              "      <div>\n",
              "<style scoped>\n",
              "    .dataframe tbody tr th:only-of-type {\n",
              "        vertical-align: middle;\n",
              "    }\n",
              "\n",
              "    .dataframe tbody tr th {\n",
              "        vertical-align: top;\n",
              "    }\n",
              "\n",
              "    .dataframe thead th {\n",
              "        text-align: right;\n",
              "    }\n",
              "</style>\n",
              "<table border=\"1\" class=\"dataframe\">\n",
              "  <thead>\n",
              "    <tr style=\"text-align: right;\">\n",
              "      <th></th>\n",
              "      <th>user_id</th>\n",
              "      <th>REGION</th>\n",
              "      <th>TENURE</th>\n",
              "      <th>MONTANT</th>\n",
              "      <th>FREQUENCE_RECH</th>\n",
              "      <th>REVENUE</th>\n",
              "      <th>ARPU_SEGMENT</th>\n",
              "      <th>FREQUENCE</th>\n",
              "      <th>DATA_VOLUME</th>\n",
              "      <th>ON_NET</th>\n",
              "      <th>ORANGE</th>\n",
              "      <th>TIGO</th>\n",
              "      <th>ZONE1</th>\n",
              "      <th>ZONE2</th>\n",
              "      <th>REGULARITY</th>\n",
              "      <th>FREQ_TOP_PACK</th>\n",
              "      <th>CHURN</th>\n",
              "    </tr>\n",
              "  </thead>\n",
              "  <tbody>\n",
              "    <tr>\n",
              "      <th>0</th>\n",
              "      <td>00000bfd7d50f01092811bc0c8d7b0d6fe7c3596</td>\n",
              "      <td>FATICK</td>\n",
              "      <td>K &gt; 24 month</td>\n",
              "      <td>4250.0</td>\n",
              "      <td>15.0</td>\n",
              "      <td>4251.0</td>\n",
              "      <td>1417.0</td>\n",
              "      <td>17.0</td>\n",
              "      <td>4.0</td>\n",
              "      <td>388.0</td>\n",
              "      <td>46.0</td>\n",
              "      <td>1.0</td>\n",
              "      <td>1.0</td>\n",
              "      <td>2.0</td>\n",
              "      <td>54</td>\n",
              "      <td>8.0</td>\n",
              "      <td>0</td>\n",
              "    </tr>\n",
              "    <tr>\n",
              "      <th>1</th>\n",
              "      <td>00000cb4a5d760de88fecb38e2f71b7bec52e834</td>\n",
              "      <td>DAKAR</td>\n",
              "      <td>I 18-21 month</td>\n",
              "      <td>3000.0</td>\n",
              "      <td>6.0</td>\n",
              "      <td>2990.0</td>\n",
              "      <td>997.0</td>\n",
              "      <td>9.0</td>\n",
              "      <td>300.0</td>\n",
              "      <td>26.0</td>\n",
              "      <td>29.0</td>\n",
              "      <td>6.0</td>\n",
              "      <td>1.0</td>\n",
              "      <td>1.0</td>\n",
              "      <td>4</td>\n",
              "      <td>5.0</td>\n",
              "      <td>1</td>\n",
              "    </tr>\n",
              "    <tr>\n",
              "      <th>2</th>\n",
              "      <td>00001654a9d9f96303d9969d0a4a851714a4bb57</td>\n",
              "      <td>DAKAR</td>\n",
              "      <td>K &gt; 24 month</td>\n",
              "      <td>3600.0</td>\n",
              "      <td>2.0</td>\n",
              "      <td>1020.0</td>\n",
              "      <td>340.0</td>\n",
              "      <td>2.0</td>\n",
              "      <td>300.0</td>\n",
              "      <td>90.0</td>\n",
              "      <td>46.0</td>\n",
              "      <td>7.0</td>\n",
              "      <td>1.0</td>\n",
              "      <td>1.0</td>\n",
              "      <td>17</td>\n",
              "      <td>1.0</td>\n",
              "      <td>0</td>\n",
              "    </tr>\n",
              "    <tr>\n",
              "      <th>3</th>\n",
              "      <td>00001dd6fa45f7ba044bd5d84937be464ce78ac2</td>\n",
              "      <td>DAKAR</td>\n",
              "      <td>K &gt; 24 month</td>\n",
              "      <td>13500.0</td>\n",
              "      <td>15.0</td>\n",
              "      <td>13502.0</td>\n",
              "      <td>4501.0</td>\n",
              "      <td>18.0</td>\n",
              "      <td>43804.0</td>\n",
              "      <td>41.0</td>\n",
              "      <td>102.0</td>\n",
              "      <td>2.0</td>\n",
              "      <td>1.0</td>\n",
              "      <td>1.0</td>\n",
              "      <td>62</td>\n",
              "      <td>11.0</td>\n",
              "      <td>0</td>\n",
              "    </tr>\n",
              "    <tr>\n",
              "      <th>4</th>\n",
              "      <td>000028d9e13a595abe061f9b58f3d76ab907850f</td>\n",
              "      <td>DAKAR</td>\n",
              "      <td>K &gt; 24 month</td>\n",
              "      <td>1000.0</td>\n",
              "      <td>1.0</td>\n",
              "      <td>985.0</td>\n",
              "      <td>328.0</td>\n",
              "      <td>1.0</td>\n",
              "      <td>300.0</td>\n",
              "      <td>39.0</td>\n",
              "      <td>24.0</td>\n",
              "      <td>6.0</td>\n",
              "      <td>1.0</td>\n",
              "      <td>1.0</td>\n",
              "      <td>11</td>\n",
              "      <td>2.0</td>\n",
              "      <td>0</td>\n",
              "    </tr>\n",
              "  </tbody>\n",
              "</table>\n",
              "</div>\n",
              "      <button class=\"colab-df-convert\" onclick=\"convertToInteractive('df-79ba5e54-fb85-4db0-af2b-aaa298035f2d')\"\n",
              "              title=\"Convert this dataframe to an interactive table.\"\n",
              "              style=\"display:none;\">\n",
              "        \n",
              "  <svg xmlns=\"http://www.w3.org/2000/svg\" height=\"24px\"viewBox=\"0 0 24 24\"\n",
              "       width=\"24px\">\n",
              "    <path d=\"M0 0h24v24H0V0z\" fill=\"none\"/>\n",
              "    <path d=\"M18.56 5.44l.94 2.06.94-2.06 2.06-.94-2.06-.94-.94-2.06-.94 2.06-2.06.94zm-11 1L8.5 8.5l.94-2.06 2.06-.94-2.06-.94L8.5 2.5l-.94 2.06-2.06.94zm10 10l.94 2.06.94-2.06 2.06-.94-2.06-.94-.94-2.06-.94 2.06-2.06.94z\"/><path d=\"M17.41 7.96l-1.37-1.37c-.4-.4-.92-.59-1.43-.59-.52 0-1.04.2-1.43.59L10.3 9.45l-7.72 7.72c-.78.78-.78 2.05 0 2.83L4 21.41c.39.39.9.59 1.41.59.51 0 1.02-.2 1.41-.59l7.78-7.78 2.81-2.81c.8-.78.8-2.07 0-2.86zM5.41 20L4 18.59l7.72-7.72 1.47 1.35L5.41 20z\"/>\n",
              "  </svg>\n",
              "      </button>\n",
              "      \n",
              "  <style>\n",
              "    .colab-df-container {\n",
              "      display:flex;\n",
              "      flex-wrap:wrap;\n",
              "      gap: 12px;\n",
              "    }\n",
              "\n",
              "    .colab-df-convert {\n",
              "      background-color: #E8F0FE;\n",
              "      border: none;\n",
              "      border-radius: 50%;\n",
              "      cursor: pointer;\n",
              "      display: none;\n",
              "      fill: #1967D2;\n",
              "      height: 32px;\n",
              "      padding: 0 0 0 0;\n",
              "      width: 32px;\n",
              "    }\n",
              "\n",
              "    .colab-df-convert:hover {\n",
              "      background-color: #E2EBFA;\n",
              "      box-shadow: 0px 1px 2px rgba(60, 64, 67, 0.3), 0px 1px 3px 1px rgba(60, 64, 67, 0.15);\n",
              "      fill: #174EA6;\n",
              "    }\n",
              "\n",
              "    [theme=dark] .colab-df-convert {\n",
              "      background-color: #3B4455;\n",
              "      fill: #D2E3FC;\n",
              "    }\n",
              "\n",
              "    [theme=dark] .colab-df-convert:hover {\n",
              "      background-color: #434B5C;\n",
              "      box-shadow: 0px 1px 3px 1px rgba(0, 0, 0, 0.15);\n",
              "      filter: drop-shadow(0px 1px 2px rgba(0, 0, 0, 0.3));\n",
              "      fill: #FFFFFF;\n",
              "    }\n",
              "  </style>\n",
              "\n",
              "      <script>\n",
              "        const buttonEl =\n",
              "          document.querySelector('#df-79ba5e54-fb85-4db0-af2b-aaa298035f2d button.colab-df-convert');\n",
              "        buttonEl.style.display =\n",
              "          google.colab.kernel.accessAllowed ? 'block' : 'none';\n",
              "\n",
              "        async function convertToInteractive(key) {\n",
              "          const element = document.querySelector('#df-79ba5e54-fb85-4db0-af2b-aaa298035f2d');\n",
              "          const dataTable =\n",
              "            await google.colab.kernel.invokeFunction('convertToInteractive',\n",
              "                                                     [key], {});\n",
              "          if (!dataTable) return;\n",
              "\n",
              "          const docLinkHtml = 'Like what you see? Visit the ' +\n",
              "            '<a target=\"_blank\" href=https://colab.research.google.com/notebooks/data_table.ipynb>data table notebook</a>'\n",
              "            + ' to learn more about interactive tables.';\n",
              "          element.innerHTML = '';\n",
              "          dataTable['output_type'] = 'display_data';\n",
              "          await google.colab.output.renderOutput(dataTable, element);\n",
              "          const docLink = document.createElement('div');\n",
              "          docLink.innerHTML = docLinkHtml;\n",
              "          element.appendChild(docLink);\n",
              "        }\n",
              "      </script>\n",
              "    </div>\n",
              "  </div>\n",
              "  "
            ]
          },
          "metadata": {},
          "execution_count": 27
        }
      ]
    },
    {
      "cell_type": "code",
      "source": [
        "fig, ax = plt.subplots(figsize=(15,10))\n",
        "sns.boxplot(data=data_train, width=0.5)"
      ],
      "metadata": {
        "colab": {
          "base_uri": "https://localhost:8080/",
          "height": 609
        },
        "id": "PjtW26bigM6T",
        "outputId": "6517e647-4178-4874-b955-ff4ff4fb73b7"
      },
      "execution_count": 28,
      "outputs": [
        {
          "output_type": "execute_result",
          "data": {
            "text/plain": [
              "<AxesSubplot:>"
            ]
          },
          "metadata": {},
          "execution_count": 28
        },
        {
          "output_type": "display_data",
          "data": {
            "text/plain": [
              "<Figure size 1080x720 with 1 Axes>"
            ],
            "image/png": "[encoded data removed]"
          },
          "metadata": {
            "needs_background": "light"
          }
        }
      ]
    },
    {
      "cell_type": "code",
      "source": [
        "sns.boxplot(data_train['FREQUENCE_RECH'])"
      ],
      "metadata": {
        "colab": {
          "base_uri": "https://localhost:8080/",
          "height": 297
        },
        "id": "lBf8WFOWgM3z",
        "outputId": "7ac375d0-e78b-4e3e-ef03-0e07435035b9"
      },
      "execution_count": 29,
      "outputs": [
        {
          "output_type": "execute_result",
          "data": {
            "text/plain": [
              "<AxesSubplot:xlabel='FREQUENCE_RECH'>"
            ]
          },
          "metadata": {},
          "execution_count": 29
        },
        {
          "output_type": "display_data",
          "data": {
            "text/plain": [
              "<Figure size 432x288 with 1 Axes>"
            ],
            "image/png": "[encoded data removed]"
          },
          "metadata": {
            "needs_background": "light"
          }
        }
      ]
    },
    {
      "cell_type": "code",
      "source": [
        "Q1 = data_train.FREQUENCE_RECH.quantile(0.25)\n",
        "Q3 = data_train.FREQUENCE_RECH.quantile(0.75)\n",
        "IQR = Q3 - Q1"
      ],
      "metadata": {
        "id": "INOufrYlgZa6"
      },
      "execution_count": 30,
      "outputs": []
    },
    {
      "cell_type": "code",
      "source": [
        "threshold = 1.5 * IQR"
      ],
      "metadata": {
        "id": "obESCmx1gZXh"
      },
      "execution_count": 31,
      "outputs": []
    },
    {
      "cell_type": "code",
      "source": [
        "outliers = data_train[(data_train['FREQUENCE_RECH'] < Q1 - threshold) | (data_train['FREQUENCE_RECH'] > Q3 + threshold)]"
      ],
      "metadata": {
        "id": "CW3Y7wuJgZU7"
      },
      "execution_count": 32,
      "outputs": []
    },
    {
      "cell_type": "code",
      "source": [
        "data_train = data_train.drop(outliers.index)"
      ],
      "metadata": {
        "id": "3AULu0nZgZSr"
      },
      "execution_count": 33,
      "outputs": []
    },
    {
      "cell_type": "code",
      "source": [
        "sns.boxplot(data_train['FREQUENCE_RECH'])"
      ],
      "metadata": {
        "colab": {
          "base_uri": "https://localhost:8080/",
          "height": 297
        },
        "id": "iKdEGEB6gZQJ",
        "outputId": "c1659baa-58a4-443a-93f6-4e8fa0510b60"
      },
      "execution_count": 34,
      "outputs": [
        {
          "output_type": "execute_result",
          "data": {
            "text/plain": [
              "<AxesSubplot:xlabel='FREQUENCE_RECH'>"
            ]
          },
          "metadata": {},
          "execution_count": 34
        },
        {
          "output_type": "display_data",
          "data": {
            "text/plain": [
              "<Figure size 432x288 with 1 Axes>"
            ],
            "image/png": "[encoded data removed]"
          },
          "metadata": {
            "needs_background": "light"
          }
        }
      ]
    },
    {
      "cell_type": "code",
      "source": [
        "sns.boxplot(data_train['REVENUE'])"
      ],
      "metadata": {
        "colab": {
          "base_uri": "https://localhost:8080/",
          "height": 296
        },
        "id": "dbRnmkfug3Eo",
        "outputId": "aa512977-4b54-4f74-fab9-b553c709a151"
      },
      "execution_count": 35,
      "outputs": [
        {
          "output_type": "execute_result",
          "data": {
            "text/plain": [
              "<AxesSubplot:xlabel='REVENUE'>"
            ]
          },
          "metadata": {},
          "execution_count": 35
        },
        {
          "output_type": "display_data",
          "data": {
            "text/plain": [
              "<Figure size 432x288 with 1 Axes>"
            ],
            "image/png": "[encoded data removed]"
          },
          "metadata": {
            "needs_background": "light"
          }
        }
      ]
    },
    {
      "cell_type": "code",
      "source": [
        "Q1 = data_train.REVENUE.quantile(0.25)\n",
        "Q3 = data_train.REVENUE.quantile(0.75)\n",
        "IQR = Q3 - Q1"
      ],
      "metadata": {
        "id": "H3M49Ao9g3CK"
      },
      "execution_count": 36,
      "outputs": []
    },
    {
      "cell_type": "code",
      "source": [
        "threshold = 1.5 * IQR"
      ],
      "metadata": {
        "id": "xXlRkI9Mg2_1"
      },
      "execution_count": 37,
      "outputs": []
    },
    {
      "cell_type": "code",
      "source": [
        "outliers = data_train[(data_train['REVENUE'] < Q1 - threshold) | (data_train['REVENUE'] > Q3 + threshold)]"
      ],
      "metadata": {
        "id": "gKdf4ogUg29F"
      },
      "execution_count": 38,
      "outputs": []
    },
    {
      "cell_type": "code",
      "source": [
        "data_train = data_train.drop(outliers.index)"
      ],
      "metadata": {
        "id": "Yt8Q4i9kg26z"
      },
      "execution_count": 39,
      "outputs": []
    },
    {
      "cell_type": "code",
      "source": [
        "sns.boxplot(data_train['ARPU_SEGMENT'])"
      ],
      "metadata": {
        "colab": {
          "base_uri": "https://localhost:8080/",
          "height": 297
        },
        "id": "vK64-sIRg239",
        "outputId": "c4061359-862f-417a-e9b7-e13f8b7553c1"
      },
      "execution_count": 40,
      "outputs": [
        {
          "output_type": "execute_result",
          "data": {
            "text/plain": [
              "<AxesSubplot:xlabel='ARPU_SEGMENT'>"
            ]
          },
          "metadata": {},
          "execution_count": 40
        },
        {
          "output_type": "display_data",
          "data": {
            "text/plain": [
              "<Figure size 432x288 with 1 Axes>"
            ],
            "image/png": "[encoded data removed]"
          },
          "metadata": {
            "needs_background": "light"
          }
        }
      ]
    },
    {
      "cell_type": "code",
      "source": [
        "sns.boxplot(data_train['FREQUENCE'])"
      ],
      "metadata": {
        "colab": {
          "base_uri": "https://localhost:8080/",
          "height": 296
        },
        "id": "YHiMWY5Cg21K",
        "outputId": "b513ba94-1af3-469d-9e1d-943535f1161c"
      },
      "execution_count": 41,
      "outputs": [
        {
          "output_type": "execute_result",
          "data": {
            "text/plain": [
              "<AxesSubplot:xlabel='FREQUENCE'>"
            ]
          },
          "metadata": {},
          "execution_count": 41
        },
        {
          "output_type": "display_data",
          "data": {
            "text/plain": [
              "<Figure size 432x288 with 1 Axes>"
            ],
            "image/png": "[encoded data removed]"
          },
          "metadata": {
            "needs_background": "light"
          }
        }
      ]
    },
    {
      "cell_type": "code",
      "source": [
        "Q1 = data_train.FREQUENCE.quantile(0.25)\n",
        "Q3 = data_train.FREQUENCE.quantile(0.75)\n",
        "IQR = Q3 - Q1"
      ],
      "metadata": {
        "id": "RYqRAzD5g2yI"
      },
      "execution_count": 42,
      "outputs": []
    },
    {
      "cell_type": "code",
      "source": [
        "threshold = 1.5 * IQR"
      ],
      "metadata": {
        "id": "2hFqEMb8g2vm"
      },
      "execution_count": 43,
      "outputs": []
    },
    {
      "cell_type": "code",
      "source": [
        "outliers = data_train[(data_train['FREQUENCE'] < Q1 - threshold) | (data_train['FREQUENCE'] > Q3 + threshold)]"
      ],
      "metadata": {
        "id": "923ZprijhYZV"
      },
      "execution_count": 44,
      "outputs": []
    },
    {
      "cell_type": "code",
      "source": [
        "data_train = data_train.drop(outliers.index)"
      ],
      "metadata": {
        "id": "zA6eIDmNhYV9"
      },
      "execution_count": 45,
      "outputs": []
    },
    {
      "cell_type": "code",
      "source": [
        "sns.boxplot(data_train['FREQUENCE'])"
      ],
      "metadata": {
        "colab": {
          "base_uri": "https://localhost:8080/",
          "height": 296
        },
        "id": "D4-HuX2ZhYSu",
        "outputId": "6c5bda91-627b-493c-b8c9-31a91d5bcfc2"
      },
      "execution_count": 46,
      "outputs": [
        {
          "output_type": "execute_result",
          "data": {
            "text/plain": [
              "<AxesSubplot:xlabel='FREQUENCE'>"
            ]
          },
          "metadata": {},
          "execution_count": 46
        },
        {
          "output_type": "display_data",
          "data": {
            "text/plain": [
              "<Figure size 432x288 with 1 Axes>"
            ],
            "image/png": "[encoded data removed]"
          },
          "metadata": {
            "needs_background": "light"
          }
        }
      ]
    },
    {
      "cell_type": "code",
      "source": [
        "sns.boxplot(data_train['REGULARITY'])"
      ],
      "metadata": {
        "colab": {
          "base_uri": "https://localhost:8080/",
          "height": 296
        },
        "id": "i0Bskc0thYQP",
        "outputId": "f4c0351b-dc08-4fbb-c6b2-5afd3df9af5e"
      },
      "execution_count": 47,
      "outputs": [
        {
          "output_type": "execute_result",
          "data": {
            "text/plain": [
              "<AxesSubplot:xlabel='REGULARITY'>"
            ]
          },
          "metadata": {},
          "execution_count": 47
        },
        {
          "output_type": "display_data",
          "data": {
            "text/plain": [
              "<Figure size 432x288 with 1 Axes>"
            ],
            "image/png": "[encoded data removed]"
          },
          "metadata": {
            "needs_background": "light"
          }
        }
      ]
    },
    {
      "cell_type": "code",
      "source": [
        "Q1 = data_train.REGULARITY.quantile(0.25)\n",
        "Q3 = data_train.REGULARITY.quantile(0.75)\n",
        "IQR = Q3 - Q1"
      ],
      "metadata": {
        "id": "iKPRc6_MhYN3"
      },
      "execution_count": 48,
      "outputs": []
    },
    {
      "cell_type": "code",
      "source": [
        "threshold = 1.5 * IQR"
      ],
      "metadata": {
        "id": "Bm2Vqcr3hYLI"
      },
      "execution_count": 49,
      "outputs": []
    },
    {
      "cell_type": "code",
      "source": [
        "outliers = data_train[(data_train['REGULARITY'] < Q1 - threshold) | (data_train['REGULARITY'] > Q3 + threshold)]"
      ],
      "metadata": {
        "id": "Lney41DqhyWi"
      },
      "execution_count": 50,
      "outputs": []
    },
    {
      "cell_type": "code",
      "source": [
        "data_train = data_train.drop(outliers.index)"
      ],
      "metadata": {
        "id": "Gyxa2QE-hyS4"
      },
      "execution_count": 51,
      "outputs": []
    },
    {
      "cell_type": "code",
      "source": [
        "sns.boxplot(data_train['REGULARITY'])"
      ],
      "metadata": {
        "colab": {
          "base_uri": "https://localhost:8080/",
          "height": 296
        },
        "id": "3Sj-VALFhyQl",
        "outputId": "376b87a2-fd7f-4d52-d590-cff8effb23a7"
      },
      "execution_count": 52,
      "outputs": [
        {
          "output_type": "execute_result",
          "data": {
            "text/plain": [
              "<AxesSubplot:xlabel='REGULARITY'>"
            ]
          },
          "metadata": {},
          "execution_count": 52
        },
        {
          "output_type": "display_data",
          "data": {
            "text/plain": [
              "<Figure size 432x288 with 1 Axes>"
            ],
            "image/png": "[encoded data removed]"
          },
          "metadata": {
            "needs_background": "light"
          }
        }
      ]
    },
    {
      "cell_type": "code",
      "source": [
        "data_train.shape"
      ],
      "metadata": {
        "colab": {
          "base_uri": "https://localhost:8080/"
        },
        "id": "o5AyxyBXhyNz",
        "outputId": "d0355bf9-b33e-4e87-8236-f2a06bb17e57"
      },
      "execution_count": 53,
      "outputs": [
        {
          "output_type": "execute_result",
          "data": {
            "text/plain": [
              "(4188, 17)"
            ]
          },
          "metadata": {},
          "execution_count": 53
        }
      ]
    },
    {
      "cell_type": "code",
      "source": [
        "data_train.isnull().sum()"
      ],
      "metadata": {
        "colab": {
          "base_uri": "https://localhost:8080/"
        },
        "id": "c8W3XjTwhyLK",
        "outputId": "6ec58745-6ea8-4ae4-d174-605a7dd6dac1"
      },
      "execution_count": 54,
      "outputs": [
        {
          "output_type": "execute_result",
          "data": {
            "text/plain": [
              "user_id           0\n",
              "REGION            0\n",
              "TENURE            0\n",
              "MONTANT           0\n",
              "FREQUENCE_RECH    0\n",
              "REVENUE           0\n",
              "ARPU_SEGMENT      0\n",
              "FREQUENCE         0\n",
              "DATA_VOLUME       0\n",
              "ON_NET            0\n",
              "ORANGE            0\n",
              "TIGO              0\n",
              "ZONE1             0\n",
              "ZONE2             0\n",
              "REGULARITY        0\n",
              "FREQ_TOP_PACK     0\n",
              "CHURN             0\n",
              "dtype: int64"
            ]
          },
          "metadata": {},
          "execution_count": 54
        }
      ]
    },
    {
      "cell_type": "code",
      "source": [
        "data_train = data_train.sample(frac = 0.1)\n",
        "data_train.head()"
      ],
      "metadata": {
        "colab": {
          "base_uri": "https://localhost:8080/",
          "height": 357
        },
        "id": "dq6h0ZfziF14",
        "outputId": "90fd6234-040d-4de0-c293-d0342007b68e"
      },
      "execution_count": 55,
      "outputs": [
        {
          "output_type": "execute_result",
          "data": {
            "text/plain": [
              "                                       user_id       REGION        TENURE  \\\n",
              "2464  004af2e54d1c11e073db55fc0db4c051772f1b00  SAINT-LOUIS  K > 24 month   \n",
              "4553  008a1566b40106443473f8a275b355dcc3d3d7c6        DAKAR  K > 24 month   \n",
              "2145  0040a8b3baaf7c55268e6731fcb2f2ac92720c06  TAMBACOUNDA  K > 24 month   \n",
              "4017  0078e6465bec68f15c9b213ea634d300dfed0c12        DAKAR  K > 24 month   \n",
              "29    0000f17ac6952b019f535d30790d1cb438bd60b4        DAKAR  K > 24 month   \n",
              "\n",
              "      MONTANT  FREQUENCE_RECH  REVENUE  ARPU_SEGMENT  FREQUENCE  DATA_VOLUME  \\\n",
              "2464   2150.0             6.0   2149.0         716.0       11.0          0.0   \n",
              "4553   3000.0             6.0   2990.0         997.0        9.0        300.0   \n",
              "2145   1500.0             3.0   1348.0         449.0       13.0        300.0   \n",
              "4017   3000.0             6.0   2990.0         997.0        9.0        300.0   \n",
              "29     1000.0             2.0   1000.0         333.0        2.0       2412.0   \n",
              "\n",
              "      ON_NET  ORANGE  TIGO  ZONE1  ZONE2  REGULARITY  FREQ_TOP_PACK  CHURN  \n",
              "2464    91.0    86.0   1.0    1.0    1.0          61            2.0      0  \n",
              "4553    26.0    29.0   6.0    1.0    1.0           3            5.0      0  \n",
              "2145     0.0     6.0   6.0    1.0    1.0          11            5.0      0  \n",
              "4017    26.0    29.0   6.0    1.0    1.0          18            5.0      0  \n",
              "29      26.0     0.0   6.0    1.0    1.0          20            1.0      0  "
            ],
            "text/html": [
              "\n",
              "  <div id=\"df-58a0fa06-b226-4c8c-b7e0-ea463af1ff41\">\n",
              "    <div class=\"colab-df-container\">\n",
              "      <div>\n",
              "<style scoped>\n",
              "    .dataframe tbody tr th:only-of-type {\n",
              "        vertical-align: middle;\n",
              "    }\n",
              "\n",
              "    .dataframe tbody tr th {\n",
              "        vertical-align: top;\n",
              "    }\n",
              "\n",
              "    .dataframe thead th {\n",
              "        text-align: right;\n",
              "    }\n",
              "</style>\n",
              "<table border=\"1\" class=\"dataframe\">\n",
              "  <thead>\n",
              "    <tr style=\"text-align: right;\">\n",
              "      <th></th>\n",
              "      <th>user_id</th>\n",
              "      <th>REGION</th>\n",
              "      <th>TENURE</th>\n",
              "      <th>MONTANT</th>\n",
              "      <th>FREQUENCE_RECH</th>\n",
              "      <th>REVENUE</th>\n",
              "      <th>ARPU_SEGMENT</th>\n",
              "      <th>FREQUENCE</th>\n",
              "      <th>DATA_VOLUME</th>\n",
              "      <th>ON_NET</th>\n",
              "      <th>ORANGE</th>\n",
              "      <th>TIGO</th>\n",
              "      <th>ZONE1</th>\n",
              "      <th>ZONE2</th>\n",
              "      <th>REGULARITY</th>\n",
              "      <th>FREQ_TOP_PACK</th>\n",
              "      <th>CHURN</th>\n",
              "    </tr>\n",
              "  </thead>\n",
              "  <tbody>\n",
              "    <tr>\n",
              "      <th>2464</th>\n",
              "      <td>004af2e54d1c11e073db55fc0db4c051772f1b00</td>\n",
              "      <td>SAINT-LOUIS</td>\n",
              "      <td>K &gt; 24 month</td>\n",
              "      <td>2150.0</td>\n",
              "      <td>6.0</td>\n",
              "      <td>2149.0</td>\n",
              "      <td>716.0</td>\n",
              "      <td>11.0</td>\n",
              "      <td>0.0</td>\n",
              "      <td>91.0</td>\n",
              "      <td>86.0</td>\n",
              "      <td>1.0</td>\n",
              "      <td>1.0</td>\n",
              "      <td>1.0</td>\n",
              "      <td>61</td>\n",
              "      <td>2.0</td>\n",
              "      <td>0</td>\n",
              "    </tr>\n",
              "    <tr>\n",
              "      <th>4553</th>\n",
              "      <td>008a1566b40106443473f8a275b355dcc3d3d7c6</td>\n",
              "      <td>DAKAR</td>\n",
              "      <td>K &gt; 24 month</td>\n",
              "      <td>3000.0</td>\n",
              "      <td>6.0</td>\n",
              "      <td>2990.0</td>\n",
              "      <td>997.0</td>\n",
              "      <td>9.0</td>\n",
              "      <td>300.0</td>\n",
              "      <td>26.0</td>\n",
              "      <td>29.0</td>\n",
              "      <td>6.0</td>\n",
              "      <td>1.0</td>\n",
              "      <td>1.0</td>\n",
              "      <td>3</td>\n",
              "      <td>5.0</td>\n",
              "      <td>0</td>\n",
              "    </tr>\n",
              "    <tr>\n",
              "      <th>2145</th>\n",
              "      <td>0040a8b3baaf7c55268e6731fcb2f2ac92720c06</td>\n",
              "      <td>TAMBACOUNDA</td>\n",
              "      <td>K &gt; 24 month</td>\n",
              "      <td>1500.0</td>\n",
              "      <td>3.0</td>\n",
              "      <td>1348.0</td>\n",
              "      <td>449.0</td>\n",
              "      <td>13.0</td>\n",
              "      <td>300.0</td>\n",
              "      <td>0.0</td>\n",
              "      <td>6.0</td>\n",
              "      <td>6.0</td>\n",
              "      <td>1.0</td>\n",
              "      <td>1.0</td>\n",
              "      <td>11</td>\n",
              "      <td>5.0</td>\n",
              "      <td>0</td>\n",
              "    </tr>\n",
              "    <tr>\n",
              "      <th>4017</th>\n",
              "      <td>0078e6465bec68f15c9b213ea634d300dfed0c12</td>\n",
              "      <td>DAKAR</td>\n",
              "      <td>K &gt; 24 month</td>\n",
              "      <td>3000.0</td>\n",
              "      <td>6.0</td>\n",
              "      <td>2990.0</td>\n",
              "      <td>997.0</td>\n",
              "      <td>9.0</td>\n",
              "      <td>300.0</td>\n",
              "      <td>26.0</td>\n",
              "      <td>29.0</td>\n",
              "      <td>6.0</td>\n",
              "      <td>1.0</td>\n",
              "      <td>1.0</td>\n",
              "      <td>18</td>\n",
              "      <td>5.0</td>\n",
              "      <td>0</td>\n",
              "    </tr>\n",
              "    <tr>\n",
              "      <th>29</th>\n",
              "      <td>0000f17ac6952b019f535d30790d1cb438bd60b4</td>\n",
              "      <td>DAKAR</td>\n",
              "      <td>K &gt; 24 month</td>\n",
              "      <td>1000.0</td>\n",
              "      <td>2.0</td>\n",
              "      <td>1000.0</td>\n",
              "      <td>333.0</td>\n",
              "      <td>2.0</td>\n",
              "      <td>2412.0</td>\n",
              "      <td>26.0</td>\n",
              "      <td>0.0</td>\n",
              "      <td>6.0</td>\n",
              "      <td>1.0</td>\n",
              "      <td>1.0</td>\n",
              "      <td>20</td>\n",
              "      <td>1.0</td>\n",
              "      <td>0</td>\n",
              "    </tr>\n",
              "  </tbody>\n",
              "</table>\n",
              "</div>\n",
              "      <button class=\"colab-df-convert\" onclick=\"convertToInteractive('df-58a0fa06-b226-4c8c-b7e0-ea463af1ff41')\"\n",
              "              title=\"Convert this dataframe to an interactive table.\"\n",
              "              style=\"display:none;\">\n",
              "        \n",
              "  <svg xmlns=\"http://www.w3.org/2000/svg\" height=\"24px\"viewBox=\"0 0 24 24\"\n",
              "       width=\"24px\">\n",
              "    <path d=\"M0 0h24v24H0V0z\" fill=\"none\"/>\n",
              "    <path d=\"M18.56 5.44l.94 2.06.94-2.06 2.06-.94-2.06-.94-.94-2.06-.94 2.06-2.06.94zm-11 1L8.5 8.5l.94-2.06 2.06-.94-2.06-.94L8.5 2.5l-.94 2.06-2.06.94zm10 10l.94 2.06.94-2.06 2.06-.94-2.06-.94-.94-2.06-.94 2.06-2.06.94z\"/><path d=\"M17.41 7.96l-1.37-1.37c-.4-.4-.92-.59-1.43-.59-.52 0-1.04.2-1.43.59L10.3 9.45l-7.72 7.72c-.78.78-.78 2.05 0 2.83L4 21.41c.39.39.9.59 1.41.59.51 0 1.02-.2 1.41-.59l7.78-7.78 2.81-2.81c.8-.78.8-2.07 0-2.86zM5.41 20L4 18.59l7.72-7.72 1.47 1.35L5.41 20z\"/>\n",
              "  </svg>\n",
              "      </button>\n",
              "      \n",
              "  <style>\n",
              "    .colab-df-container {\n",
              "      display:flex;\n",
              "      flex-wrap:wrap;\n",
              "      gap: 12px;\n",
              "    }\n",
              "\n",
              "    .colab-df-convert {\n",
              "      background-color: #E8F0FE;\n",
              "      border: none;\n",
              "      border-radius: 50%;\n",
              "      cursor: pointer;\n",
              "      display: none;\n",
              "      fill: #1967D2;\n",
              "      height: 32px;\n",
              "      padding: 0 0 0 0;\n",
              "      width: 32px;\n",
              "    }\n",
              "\n",
              "    .colab-df-convert:hover {\n",
              "      background-color: #E2EBFA;\n",
              "      box-shadow: 0px 1px 2px rgba(60, 64, 67, 0.3), 0px 1px 3px 1px rgba(60, 64, 67, 0.15);\n",
              "      fill: #174EA6;\n",
              "    }\n",
              "\n",
              "    [theme=dark] .colab-df-convert {\n",
              "      background-color: #3B4455;\n",
              "      fill: #D2E3FC;\n",
              "    }\n",
              "\n",
              "    [theme=dark] .colab-df-convert:hover {\n",
              "      background-color: #434B5C;\n",
              "      box-shadow: 0px 1px 3px 1px rgba(0, 0, 0, 0.15);\n",
              "      filter: drop-shadow(0px 1px 2px rgba(0, 0, 0, 0.3));\n",
              "      fill: #FFFFFF;\n",
              "    }\n",
              "  </style>\n",
              "\n",
              "      <script>\n",
              "        const buttonEl =\n",
              "          document.querySelector('#df-58a0fa06-b226-4c8c-b7e0-ea463af1ff41 button.colab-df-convert');\n",
              "        buttonEl.style.display =\n",
              "          google.colab.kernel.accessAllowed ? 'block' : 'none';\n",
              "\n",
              "        async function convertToInteractive(key) {\n",
              "          const element = document.querySelector('#df-58a0fa06-b226-4c8c-b7e0-ea463af1ff41');\n",
              "          const dataTable =\n",
              "            await google.colab.kernel.invokeFunction('convertToInteractive',\n",
              "                                                     [key], {});\n",
              "          if (!dataTable) return;\n",
              "\n",
              "          const docLinkHtml = 'Like what you see? Visit the ' +\n",
              "            '<a target=\"_blank\" href=https://colab.research.google.com/notebooks/data_table.ipynb>data table notebook</a>'\n",
              "            + ' to learn more about interactive tables.';\n",
              "          element.innerHTML = '';\n",
              "          dataTable['output_type'] = 'display_data';\n",
              "          await google.colab.output.renderOutput(dataTable, element);\n",
              "          const docLink = document.createElement('div');\n",
              "          docLink.innerHTML = docLinkHtml;\n",
              "          element.appendChild(docLink);\n",
              "        }\n",
              "      </script>\n",
              "    </div>\n",
              "  </div>\n",
              "  "
            ]
          },
          "metadata": {},
          "execution_count": 55
        }
      ]
    },
    {
      "cell_type": "code",
      "source": [
        "data_train.tail(6)"
      ],
      "metadata": {
        "colab": {
          "base_uri": "https://localhost:8080/",
          "height": 405
        },
        "id": "jCbVJhpqiFym",
        "outputId": "a52d0db8-d8ad-478b-a58f-51b33eacfda9"
      },
      "execution_count": 56,
      "outputs": [
        {
          "output_type": "execute_result",
          "data": {
            "text/plain": [
              "                                       user_id      REGION         TENURE  \\\n",
              "2028  003d7236a9700fd0a7d47c2bcfcd469669e58465       DAKAR  I 18-21 month   \n",
              "5229  009fcea22d193fa28eafb38623742e592703a29f    KAFFRINE   K > 24 month   \n",
              "1583  00309c3f2b38e1c2c6023b87a180193d33ea6c67       LOUGA   K > 24 month   \n",
              "4685  008de14f607ac56cceade0e5fa9f25c076ca748b  ZIGUINCHOR   K > 24 month   \n",
              "4879  0094252d7a5ce14bf5d9698a175882a042ffcf4a       DAKAR   K > 24 month   \n",
              "5483  00a7691154d542ec2a5078e00b3fd4d68e2e407c       DAKAR   K > 24 month   \n",
              "\n",
              "      MONTANT  FREQUENCE_RECH  REVENUE  ARPU_SEGMENT  FREQUENCE  DATA_VOLUME  \\\n",
              "2028   2400.0            11.0   2400.0         800.0       13.0        510.0   \n",
              "5229   4700.0             6.0   4541.0        1514.0        9.0       6270.0   \n",
              "1583   3000.0             6.0   2990.0         997.0        9.0        300.0   \n",
              "4685   2000.0             4.0   1852.0         617.0        5.0          0.0   \n",
              "4879   1200.0             3.0   1199.0         400.0        6.0        300.0   \n",
              "5483   4000.0             4.0   3985.0        1328.0        7.0        300.0   \n",
              "\n",
              "      ON_NET  ORANGE  TIGO  ZONE1  ZONE2  REGULARITY  FREQ_TOP_PACK  CHURN  \n",
              "2028    16.0     2.0   1.0    1.0    1.0          21           11.0      0  \n",
              "5229     1.0     1.0   0.0    1.0    1.0          61            3.0      0  \n",
              "1583    26.0    29.0   6.0    1.0    1.0           8            5.0      0  \n",
              "4685     1.0    33.0   6.0    1.0    1.0          24            3.0      0  \n",
              "4879    28.0     1.0   4.0    1.0    1.0          28            2.0      0  \n",
              "5483     1.0    15.0  49.0    1.0    1.0          12            5.0      0  "
            ],
            "text/html": [
              "\n",
              "  <div id=\"df-bd997f0f-d386-465f-b6d2-3c4193d92d4f\">\n",
              "    <div class=\"colab-df-container\">\n",
              "      <div>\n",
              "<style scoped>\n",
              "    .dataframe tbody tr th:only-of-type {\n",
              "        vertical-align: middle;\n",
              "    }\n",
              "\n",
              "    .dataframe tbody tr th {\n",
              "        vertical-align: top;\n",
              "    }\n",
              "\n",
              "    .dataframe thead th {\n",
              "        text-align: right;\n",
              "    }\n",
              "</style>\n",
              "<table border=\"1\" class=\"dataframe\">\n",
              "  <thead>\n",
              "    <tr style=\"text-align: right;\">\n",
              "      <th></th>\n",
              "      <th>user_id</th>\n",
              "      <th>REGION</th>\n",
              "      <th>TENURE</th>\n",
              "      <th>MONTANT</th>\n",
              "      <th>FREQUENCE_RECH</th>\n",
              "      <th>REVENUE</th>\n",
              "      <th>ARPU_SEGMENT</th>\n",
              "      <th>FREQUENCE</th>\n",
              "      <th>DATA_VOLUME</th>\n",
              "      <th>ON_NET</th>\n",
              "      <th>ORANGE</th>\n",
              "      <th>TIGO</th>\n",
              "      <th>ZONE1</th>\n",
              "      <th>ZONE2</th>\n",
              "      <th>REGULARITY</th>\n",
              "      <th>FREQ_TOP_PACK</th>\n",
              "      <th>CHURN</th>\n",
              "    </tr>\n",
              "  </thead>\n",
              "  <tbody>\n",
              "    <tr>\n",
              "      <th>2028</th>\n",
              "      <td>003d7236a9700fd0a7d47c2bcfcd469669e58465</td>\n",
              "      <td>DAKAR</td>\n",
              "      <td>I 18-21 month</td>\n",
              "      <td>2400.0</td>\n",
              "      <td>11.0</td>\n",
              "      <td>2400.0</td>\n",
              "      <td>800.0</td>\n",
              "      <td>13.0</td>\n",
              "      <td>510.0</td>\n",
              "      <td>16.0</td>\n",
              "      <td>2.0</td>\n",
              "      <td>1.0</td>\n",
              "      <td>1.0</td>\n",
              "      <td>1.0</td>\n",
              "      <td>21</td>\n",
              "      <td>11.0</td>\n",
              "      <td>0</td>\n",
              "    </tr>\n",
              "    <tr>\n",
              "      <th>5229</th>\n",
              "      <td>009fcea22d193fa28eafb38623742e592703a29f</td>\n",
              "      <td>KAFFRINE</td>\n",
              "      <td>K &gt; 24 month</td>\n",
              "      <td>4700.0</td>\n",
              "      <td>6.0</td>\n",
              "      <td>4541.0</td>\n",
              "      <td>1514.0</td>\n",
              "      <td>9.0</td>\n",
              "      <td>6270.0</td>\n",
              "      <td>1.0</td>\n",
              "      <td>1.0</td>\n",
              "      <td>0.0</td>\n",
              "      <td>1.0</td>\n",
              "      <td>1.0</td>\n",
              "      <td>61</td>\n",
              "      <td>3.0</td>\n",
              "      <td>0</td>\n",
              "    </tr>\n",
              "    <tr>\n",
              "      <th>1583</th>\n",
              "      <td>00309c3f2b38e1c2c6023b87a180193d33ea6c67</td>\n",
              "      <td>LOUGA</td>\n",
              "      <td>K &gt; 24 month</td>\n",
              "      <td>3000.0</td>\n",
              "      <td>6.0</td>\n",
              "      <td>2990.0</td>\n",
              "      <td>997.0</td>\n",
              "      <td>9.0</td>\n",
              "      <td>300.0</td>\n",
              "      <td>26.0</td>\n",
              "      <td>29.0</td>\n",
              "      <td>6.0</td>\n",
              "      <td>1.0</td>\n",
              "      <td>1.0</td>\n",
              "      <td>8</td>\n",
              "      <td>5.0</td>\n",
              "      <td>0</td>\n",
              "    </tr>\n",
              "    <tr>\n",
              "      <th>4685</th>\n",
              "      <td>008de14f607ac56cceade0e5fa9f25c076ca748b</td>\n",
              "      <td>ZIGUINCHOR</td>\n",
              "      <td>K &gt; 24 month</td>\n",
              "      <td>2000.0</td>\n",
              "      <td>4.0</td>\n",
              "      <td>1852.0</td>\n",
              "      <td>617.0</td>\n",
              "      <td>5.0</td>\n",
              "      <td>0.0</td>\n",
              "      <td>1.0</td>\n",
              "      <td>33.0</td>\n",
              "      <td>6.0</td>\n",
              "      <td>1.0</td>\n",
              "      <td>1.0</td>\n",
              "      <td>24</td>\n",
              "      <td>3.0</td>\n",
              "      <td>0</td>\n",
              "    </tr>\n",
              "    <tr>\n",
              "      <th>4879</th>\n",
              "      <td>0094252d7a5ce14bf5d9698a175882a042ffcf4a</td>\n",
              "      <td>DAKAR</td>\n",
              "      <td>K &gt; 24 month</td>\n",
              "      <td>1200.0</td>\n",
              "      <td>3.0</td>\n",
              "      <td>1199.0</td>\n",
              "      <td>400.0</td>\n",
              "      <td>6.0</td>\n",
              "      <td>300.0</td>\n",
              "      <td>28.0</td>\n",
              "      <td>1.0</td>\n",
              "      <td>4.0</td>\n",
              "      <td>1.0</td>\n",
              "      <td>1.0</td>\n",
              "      <td>28</td>\n",
              "      <td>2.0</td>\n",
              "      <td>0</td>\n",
              "    </tr>\n",
              "    <tr>\n",
              "      <th>5483</th>\n",
              "      <td>00a7691154d542ec2a5078e00b3fd4d68e2e407c</td>\n",
              "      <td>DAKAR</td>\n",
              "      <td>K &gt; 24 month</td>\n",
              "      <td>4000.0</td>\n",
              "      <td>4.0</td>\n",
              "      <td>3985.0</td>\n",
              "      <td>1328.0</td>\n",
              "      <td>7.0</td>\n",
              "      <td>300.0</td>\n",
              "      <td>1.0</td>\n",
              "      <td>15.0</td>\n",
              "      <td>49.0</td>\n",
              "      <td>1.0</td>\n",
              "      <td>1.0</td>\n",
              "      <td>12</td>\n",
              "      <td>5.0</td>\n",
              "      <td>0</td>\n",
              "    </tr>\n",
              "  </tbody>\n",
              "</table>\n",
              "</div>\n",
              "      <button class=\"colab-df-convert\" onclick=\"convertToInteractive('df-bd997f0f-d386-465f-b6d2-3c4193d92d4f')\"\n",
              "              title=\"Convert this dataframe to an interactive table.\"\n",
              "              style=\"display:none;\">\n",
              "        \n",
              "  <svg xmlns=\"http://www.w3.org/2000/svg\" height=\"24px\"viewBox=\"0 0 24 24\"\n",
              "       width=\"24px\">\n",
              "    <path d=\"M0 0h24v24H0V0z\" fill=\"none\"/>\n",
              "    <path d=\"M18.56 5.44l.94 2.06.94-2.06 2.06-.94-2.06-.94-.94-2.06-.94 2.06-2.06.94zm-11 1L8.5 8.5l.94-2.06 2.06-.94-2.06-.94L8.5 2.5l-.94 2.06-2.06.94zm10 10l.94 2.06.94-2.06 2.06-.94-2.06-.94-.94-2.06-.94 2.06-2.06.94z\"/><path d=\"M17.41 7.96l-1.37-1.37c-.4-.4-.92-.59-1.43-.59-.52 0-1.04.2-1.43.59L10.3 9.45l-7.72 7.72c-.78.78-.78 2.05 0 2.83L4 21.41c.39.39.9.59 1.41.59.51 0 1.02-.2 1.41-.59l7.78-7.78 2.81-2.81c.8-.78.8-2.07 0-2.86zM5.41 20L4 18.59l7.72-7.72 1.47 1.35L5.41 20z\"/>\n",
              "  </svg>\n",
              "      </button>\n",
              "      \n",
              "  <style>\n",
              "    .colab-df-container {\n",
              "      display:flex;\n",
              "      flex-wrap:wrap;\n",
              "      gap: 12px;\n",
              "    }\n",
              "\n",
              "    .colab-df-convert {\n",
              "      background-color: #E8F0FE;\n",
              "      border: none;\n",
              "      border-radius: 50%;\n",
              "      cursor: pointer;\n",
              "      display: none;\n",
              "      fill: #1967D2;\n",
              "      height: 32px;\n",
              "      padding: 0 0 0 0;\n",
              "      width: 32px;\n",
              "    }\n",
              "\n",
              "    .colab-df-convert:hover {\n",
              "      background-color: #E2EBFA;\n",
              "      box-shadow: 0px 1px 2px rgba(60, 64, 67, 0.3), 0px 1px 3px 1px rgba(60, 64, 67, 0.15);\n",
              "      fill: #174EA6;\n",
              "    }\n",
              "\n",
              "    [theme=dark] .colab-df-convert {\n",
              "      background-color: #3B4455;\n",
              "      fill: #D2E3FC;\n",
              "    }\n",
              "\n",
              "    [theme=dark] .colab-df-convert:hover {\n",
              "      background-color: #434B5C;\n",
              "      box-shadow: 0px 1px 3px 1px rgba(0, 0, 0, 0.15);\n",
              "      filter: drop-shadow(0px 1px 2px rgba(0, 0, 0, 0.3));\n",
              "      fill: #FFFFFF;\n",
              "    }\n",
              "  </style>\n",
              "\n",
              "      <script>\n",
              "        const buttonEl =\n",
              "          document.querySelector('#df-bd997f0f-d386-465f-b6d2-3c4193d92d4f button.colab-df-convert');\n",
              "        buttonEl.style.display =\n",
              "          google.colab.kernel.accessAllowed ? 'block' : 'none';\n",
              "\n",
              "        async function convertToInteractive(key) {\n",
              "          const element = document.querySelector('#df-bd997f0f-d386-465f-b6d2-3c4193d92d4f');\n",
              "          const dataTable =\n",
              "            await google.colab.kernel.invokeFunction('convertToInteractive',\n",
              "                                                     [key], {});\n",
              "          if (!dataTable) return;\n",
              "\n",
              "          const docLinkHtml = 'Like what you see? Visit the ' +\n",
              "            '<a target=\"_blank\" href=https://colab.research.google.com/notebooks/data_table.ipynb>data table notebook</a>'\n",
              "            + ' to learn more about interactive tables.';\n",
              "          element.innerHTML = '';\n",
              "          dataTable['output_type'] = 'display_data';\n",
              "          await google.colab.output.renderOutput(dataTable, element);\n",
              "          const docLink = document.createElement('div');\n",
              "          docLink.innerHTML = docLinkHtml;\n",
              "          element.appendChild(docLink);\n",
              "        }\n",
              "      </script>\n",
              "    </div>\n",
              "  </div>\n",
              "  "
            ]
          },
          "metadata": {},
          "execution_count": 56
        }
      ]
    },
    {
      "cell_type": "code",
      "source": [
        "X = data_train.drop([\"user_id\",\"CHURN\"], axis = 1)\n",
        "y = data_train[\"CHURN\"]"
      ],
      "metadata": {
        "id": "EpPajQ1viFwS"
      },
      "execution_count": 57,
      "outputs": []
    },
    {
      "cell_type": "code",
      "source": [
        "X.isnull().sum()"
      ],
      "metadata": {
        "colab": {
          "base_uri": "https://localhost:8080/"
        },
        "id": "pB_yJ2oGiFt8",
        "outputId": "b7ad7644-149f-47dc-87ca-170b4d3755fb"
      },
      "execution_count": 58,
      "outputs": [
        {
          "output_type": "execute_result",
          "data": {
            "text/plain": [
              "REGION            0\n",
              "TENURE            0\n",
              "MONTANT           0\n",
              "FREQUENCE_RECH    0\n",
              "REVENUE           0\n",
              "ARPU_SEGMENT      0\n",
              "FREQUENCE         0\n",
              "DATA_VOLUME       0\n",
              "ON_NET            0\n",
              "ORANGE            0\n",
              "TIGO              0\n",
              "ZONE1             0\n",
              "ZONE2             0\n",
              "REGULARITY        0\n",
              "FREQ_TOP_PACK     0\n",
              "dtype: int64"
            ]
          },
          "metadata": {},
          "execution_count": 58
        }
      ]
    },
    {
      "cell_type": "code",
      "source": [
        "class LabelEncoder:\n",
        "    def __init__(self):\n",
        "        self.labels = {}\n",
        "        self.unknown_label = -1\n",
        "\n",
        "    def fit(self, data):\n",
        "        unique_values = set(data)\n",
        "        for i, value in enumerate(unique_values):\n",
        "            self.labels[value] = i\n",
        "\n",
        "    def transform(self, data):\n",
        "        transformed_data = []\n",
        "        for value in data:\n",
        "            if value in self.labels:\n",
        "                transformed_data.append(self.labels[value])\n",
        "            else:\n",
        "                transformed_data.append(self.unknown_label)\n",
        "        return transformed_data\n",
        "\n",
        "    def fit_transform(self, data):\n",
        "        self.fit(data)\n",
        "        return self.transform(data)"
      ],
      "metadata": {
        "id": "Lx7fvES7iFru"
      },
      "execution_count": 59,
      "outputs": []
    },
    {
      "cell_type": "code",
      "source": [
        "le = LabelEncoder()\n",
        "data_train[\"REGION\"] =le.fit_transform(data_train[\"REGION\"])\n",
        "data_train[\"TENURE\"] = le.fit_transform(data_train[\"TENURE\"])"
      ],
      "metadata": {
        "id": "Aqqua4CKiFo7"
      },
      "execution_count": 60,
      "outputs": []
    },
    {
      "cell_type": "code",
      "source": [
        "import numpy as np\n",
        "\n",
        "class StandardScaler:\n",
        "    def __init__(self):\n",
        "        self.mean_ = None\n",
        "        self.var_ = None\n",
        "\n",
        "    def fit(self, X):\n",
        "        self.mean_ = np.mean(X, axis=0)\n",
        "        self.var_ = np.var(X, axis=0)\n",
        "\n",
        "    def transform(self, X):\n",
        "        X_scaled = (X - self.mean_) / np.sqrt(self.var_)\n",
        "        return X_scaled\n",
        "\n",
        "    def fit_transform(self, X):\n",
        "        self.fit(X)\n",
        "        return self.transform(X)"
      ],
      "metadata": {
        "id": "E2qFqlcIiFmT"
      },
      "execution_count": 61,
      "outputs": []
    },
    {
      "cell_type": "code",
      "source": [
        "scaler = StandardScaler()"
      ],
      "metadata": {
        "id": "9S4AVsoKiFj-"
      },
      "execution_count": 62,
      "outputs": []
    },
    {
      "cell_type": "code",
      "source": [
        "data_train[[\"REGION\",\"TENURE\",\"MONTANT\", \"FREQUENCE_RECH\", \"REVENUE\", \"ARPU_SEGMENT\", \"FREQUENCE\", \"DATA_VOLUME\", \"ON_NET\", \"ORANGE\", \"TIGO\", \"ZONE1\", \"ZONE2\", \"REGULARITY\", \"FREQ_TOP_PACK\"]] = scaler.fit_transform(data_train[[\"REGION\",\"TENURE\",\"MONTANT\", \"FREQUENCE_RECH\", \"REVENUE\", \"ARPU_SEGMENT\", \"FREQUENCE\", \"DATA_VOLUME\", \"ON_NET\", \"ORANGE\", \"TIGO\", \"ZONE1\", \"ZONE2\", \"REGULARITY\", \"FREQ_TOP_PACK\"]])"
      ],
      "metadata": {
        "id": "Kg38boVuiFht"
      },
      "execution_count": 63,
      "outputs": []
    },
    {
      "cell_type": "code",
      "source": [
        "print(data_train.isna().sum())"
      ],
      "metadata": {
        "colab": {
          "base_uri": "https://localhost:8080/"
        },
        "id": "hasRT90Gi0rW",
        "outputId": "7e225365-958a-4f70-d25c-a32aac9e0392"
      },
      "execution_count": 64,
      "outputs": [
        {
          "output_type": "stream",
          "name": "stdout",
          "text": [
            "user_id           0\n",
            "REGION            0\n",
            "TENURE            0\n",
            "MONTANT           0\n",
            "FREQUENCE_RECH    0\n",
            "REVENUE           0\n",
            "ARPU_SEGMENT      0\n",
            "FREQUENCE         0\n",
            "DATA_VOLUME       0\n",
            "ON_NET            0\n",
            "ORANGE            0\n",
            "TIGO              0\n",
            "ZONE1             0\n",
            "ZONE2             0\n",
            "REGULARITY        0\n",
            "FREQ_TOP_PACK     0\n",
            "CHURN             0\n",
            "dtype: int64\n"
          ]
        }
      ]
    },
    {
      "cell_type": "code",
      "source": [
        "data_train.head()"
      ],
      "metadata": {
        "colab": {
          "base_uri": "https://localhost:8080/",
          "height": 270
        },
        "id": "SxPQ_xfsi0n9",
        "outputId": "77ac1e3c-e97a-46fc-fb3c-acec016bb974"
      },
      "execution_count": 65,
      "outputs": [
        {
          "output_type": "execute_result",
          "data": {
            "text/plain": [
              "                                       user_id    REGION    TENURE   MONTANT  \\\n",
              "2464  004af2e54d1c11e073db55fc0db4c051772f1b00  1.781551  0.233973 -0.134016   \n",
              "4553  008a1566b40106443473f8a275b355dcc3d3d7c6  0.083099  0.233973  0.578062   \n",
              "2145  0040a8b3baaf7c55268e6731fcb2f2ac92720c06 -2.464580  0.233973 -0.678547   \n",
              "4017  0078e6465bec68f15c9b213ea634d300dfed0c12  0.083099  0.233973  0.578062   \n",
              "29    0000f17ac6952b019f535d30790d1cb438bd60b4  0.083099  0.233973 -1.097417   \n",
              "\n",
              "      FREQUENCE_RECH   REVENUE  ARPU_SEGMENT  FREQUENCE  DATA_VOLUME  \\\n",
              "2464        0.415969 -0.065510     -0.066658   1.171016    -0.446172   \n",
              "4553        0.415969  0.610637      0.610968   0.599489    -0.226767   \n",
              "2145       -0.777805 -0.709498     -0.710524   1.742543    -0.226767   \n",
              "4017        0.415969  0.610637      0.610968   0.599489    -0.226767   \n",
              "29         -1.175729 -0.989283     -0.990256  -1.400854     1.317843   \n",
              "\n",
              "        ON_NET    ORANGE      TIGO     ZONE1     ZONE2  REGULARITY  \\\n",
              "2464  0.485836  2.422349 -0.734343 -0.085272 -0.099428    2.356683   \n",
              "4553 -0.161605  0.057239 -0.126020 -0.085272 -0.099428   -0.900560   \n",
              "2145 -0.420581 -0.897104 -0.126020 -0.085272 -0.099428   -0.451285   \n",
              "4017 -0.161605  0.057239 -0.126020 -0.085272 -0.099428   -0.058170   \n",
              "29   -0.161605 -1.146063 -0.126020 -0.085272 -0.099428    0.054149   \n",
              "\n",
              "      FREQ_TOP_PACK  CHURN  \n",
              "2464      -1.022364      0  \n",
              "4553       0.505712      0  \n",
              "2145       0.505712      0  \n",
              "4017       0.505712      0  \n",
              "29        -1.531723      0  "
            ],
            "text/html": [
              "\n",
              "  <div id=\"df-a089794e-9313-4f9a-a0ab-c0832526a134\">\n",
              "    <div class=\"colab-df-container\">\n",
              "      <div>\n",
              "<style scoped>\n",
              "    .dataframe tbody tr th:only-of-type {\n",
              "        vertical-align: middle;\n",
              "    }\n",
              "\n",
              "    .dataframe tbody tr th {\n",
              "        vertical-align: top;\n",
              "    }\n",
              "\n",
              "    .dataframe thead th {\n",
              "        text-align: right;\n",
              "    }\n",
              "</style>\n",
              "<table border=\"1\" class=\"dataframe\">\n",
              "  <thead>\n",
              "    <tr style=\"text-align: right;\">\n",
              "      <th></th>\n",
              "      <th>user_id</th>\n",
              "      <th>REGION</th>\n",
              "      <th>TENURE</th>\n",
              "      <th>MONTANT</th>\n",
              "      <th>FREQUENCE_RECH</th>\n",
              "      <th>REVENUE</th>\n",
              "      <th>ARPU_SEGMENT</th>\n",
              "      <th>FREQUENCE</th>\n",
              "      <th>DATA_VOLUME</th>\n",
              "      <th>ON_NET</th>\n",
              "      <th>ORANGE</th>\n",
              "      <th>TIGO</th>\n",
              "      <th>ZONE1</th>\n",
              "      <th>ZONE2</th>\n",
              "      <th>REGULARITY</th>\n",
              "      <th>FREQ_TOP_PACK</th>\n",
              "      <th>CHURN</th>\n",
              "    </tr>\n",
              "  </thead>\n",
              "  <tbody>\n",
              "    <tr>\n",
              "      <th>2464</th>\n",
              "      <td>004af2e54d1c11e073db55fc0db4c051772f1b00</td>\n",
              "      <td>1.781551</td>\n",
              "      <td>0.233973</td>\n",
              "      <td>-0.134016</td>\n",
              "      <td>0.415969</td>\n",
              "      <td>-0.065510</td>\n",
              "      <td>-0.066658</td>\n",
              "      <td>1.171016</td>\n",
              "      <td>-0.446172</td>\n",
              "      <td>0.485836</td>\n",
              "      <td>2.422349</td>\n",
              "      <td>-0.734343</td>\n",
              "      <td>-0.085272</td>\n",
              "      <td>-0.099428</td>\n",
              "      <td>2.356683</td>\n",
              "      <td>-1.022364</td>\n",
              "      <td>0</td>\n",
              "    </tr>\n",
              "    <tr>\n",
              "      <th>4553</th>\n",
              "      <td>008a1566b40106443473f8a275b355dcc3d3d7c6</td>\n",
              "      <td>0.083099</td>\n",
              "      <td>0.233973</td>\n",
              "      <td>0.578062</td>\n",
              "      <td>0.415969</td>\n",
              "      <td>0.610637</td>\n",
              "      <td>0.610968</td>\n",
              "      <td>0.599489</td>\n",
              "      <td>-0.226767</td>\n",
              "      <td>-0.161605</td>\n",
              "      <td>0.057239</td>\n",
              "      <td>-0.126020</td>\n",
              "      <td>-0.085272</td>\n",
              "      <td>-0.099428</td>\n",
              "      <td>-0.900560</td>\n",
              "      <td>0.505712</td>\n",
              "      <td>0</td>\n",
              "    </tr>\n",
              "    <tr>\n",
              "      <th>2145</th>\n",
              "      <td>0040a8b3baaf7c55268e6731fcb2f2ac92720c06</td>\n",
              "      <td>-2.464580</td>\n",
              "      <td>0.233973</td>\n",
              "      <td>-0.678547</td>\n",
              "      <td>-0.777805</td>\n",
              "      <td>-0.709498</td>\n",
              "      <td>-0.710524</td>\n",
              "      <td>1.742543</td>\n",
              "      <td>-0.226767</td>\n",
              "      <td>-0.420581</td>\n",
              "      <td>-0.897104</td>\n",
              "      <td>-0.126020</td>\n",
              "      <td>-0.085272</td>\n",
              "      <td>-0.099428</td>\n",
              "      <td>-0.451285</td>\n",
              "      <td>0.505712</td>\n",
              "      <td>0</td>\n",
              "    </tr>\n",
              "    <tr>\n",
              "      <th>4017</th>\n",
              "      <td>0078e6465bec68f15c9b213ea634d300dfed0c12</td>\n",
              "      <td>0.083099</td>\n",
              "      <td>0.233973</td>\n",
              "      <td>0.578062</td>\n",
              "      <td>0.415969</td>\n",
              "      <td>0.610637</td>\n",
              "      <td>0.610968</td>\n",
              "      <td>0.599489</td>\n",
              "      <td>-0.226767</td>\n",
              "      <td>-0.161605</td>\n",
              "      <td>0.057239</td>\n",
              "      <td>-0.126020</td>\n",
              "      <td>-0.085272</td>\n",
              "      <td>-0.099428</td>\n",
              "      <td>-0.058170</td>\n",
              "      <td>0.505712</td>\n",
              "      <td>0</td>\n",
              "    </tr>\n",
              "    <tr>\n",
              "      <th>29</th>\n",
              "      <td>0000f17ac6952b019f535d30790d1cb438bd60b4</td>\n",
              "      <td>0.083099</td>\n",
              "      <td>0.233973</td>\n",
              "      <td>-1.097417</td>\n",
              "      <td>-1.175729</td>\n",
              "      <td>-0.989283</td>\n",
              "      <td>-0.990256</td>\n",
              "      <td>-1.400854</td>\n",
              "      <td>1.317843</td>\n",
              "      <td>-0.161605</td>\n",
              "      <td>-1.146063</td>\n",
              "      <td>-0.126020</td>\n",
              "      <td>-0.085272</td>\n",
              "      <td>-0.099428</td>\n",
              "      <td>0.054149</td>\n",
              "      <td>-1.531723</td>\n",
              "      <td>0</td>\n",
              "    </tr>\n",
              "  </tbody>\n",
              "</table>\n",
              "</div>\n",
              "      <button class=\"colab-df-convert\" onclick=\"convertToInteractive('df-a089794e-9313-4f9a-a0ab-c0832526a134')\"\n",
              "              title=\"Convert this dataframe to an interactive table.\"\n",
              "              style=\"display:none;\">\n",
              "        \n",
              "  <svg xmlns=\"http://www.w3.org/2000/svg\" height=\"24px\"viewBox=\"0 0 24 24\"\n",
              "       width=\"24px\">\n",
              "    <path d=\"M0 0h24v24H0V0z\" fill=\"none\"/>\n",
              "    <path d=\"M18.56 5.44l.94 2.06.94-2.06 2.06-.94-2.06-.94-.94-2.06-.94 2.06-2.06.94zm-11 1L8.5 8.5l.94-2.06 2.06-.94-2.06-.94L8.5 2.5l-.94 2.06-2.06.94zm10 10l.94 2.06.94-2.06 2.06-.94-2.06-.94-.94-2.06-.94 2.06-2.06.94z\"/><path d=\"M17.41 7.96l-1.37-1.37c-.4-.4-.92-.59-1.43-.59-.52 0-1.04.2-1.43.59L10.3 9.45l-7.72 7.72c-.78.78-.78 2.05 0 2.83L4 21.41c.39.39.9.59 1.41.59.51 0 1.02-.2 1.41-.59l7.78-7.78 2.81-2.81c.8-.78.8-2.07 0-2.86zM5.41 20L4 18.59l7.72-7.72 1.47 1.35L5.41 20z\"/>\n",
              "  </svg>\n",
              "      </button>\n",
              "      \n",
              "  <style>\n",
              "    .colab-df-container {\n",
              "      display:flex;\n",
              "      flex-wrap:wrap;\n",
              "      gap: 12px;\n",
              "    }\n",
              "\n",
              "    .colab-df-convert {\n",
              "      background-color: #E8F0FE;\n",
              "      border: none;\n",
              "      border-radius: 50%;\n",
              "      cursor: pointer;\n",
              "      display: none;\n",
              "      fill: #1967D2;\n",
              "      height: 32px;\n",
              "      padding: 0 0 0 0;\n",
              "      width: 32px;\n",
              "    }\n",
              "\n",
              "    .colab-df-convert:hover {\n",
              "      background-color: #E2EBFA;\n",
              "      box-shadow: 0px 1px 2px rgba(60, 64, 67, 0.3), 0px 1px 3px 1px rgba(60, 64, 67, 0.15);\n",
              "      fill: #174EA6;\n",
              "    }\n",
              "\n",
              "    [theme=dark] .colab-df-convert {\n",
              "      background-color: #3B4455;\n",
              "      fill: #D2E3FC;\n",
              "    }\n",
              "\n",
              "    [theme=dark] .colab-df-convert:hover {\n",
              "      background-color: #434B5C;\n",
              "      box-shadow: 0px 1px 3px 1px rgba(0, 0, 0, 0.15);\n",
              "      filter: drop-shadow(0px 1px 2px rgba(0, 0, 0, 0.3));\n",
              "      fill: #FFFFFF;\n",
              "    }\n",
              "  </style>\n",
              "\n",
              "      <script>\n",
              "        const buttonEl =\n",
              "          document.querySelector('#df-a089794e-9313-4f9a-a0ab-c0832526a134 button.colab-df-convert');\n",
              "        buttonEl.style.display =\n",
              "          google.colab.kernel.accessAllowed ? 'block' : 'none';\n",
              "\n",
              "        async function convertToInteractive(key) {\n",
              "          const element = document.querySelector('#df-a089794e-9313-4f9a-a0ab-c0832526a134');\n",
              "          const dataTable =\n",
              "            await google.colab.kernel.invokeFunction('convertToInteractive',\n",
              "                                                     [key], {});\n",
              "          if (!dataTable) return;\n",
              "\n",
              "          const docLinkHtml = 'Like what you see? Visit the ' +\n",
              "            '<a target=\"_blank\" href=https://colab.research.google.com/notebooks/data_table.ipynb>data table notebook</a>'\n",
              "            + ' to learn more about interactive tables.';\n",
              "          element.innerHTML = '';\n",
              "          dataTable['output_type'] = 'display_data';\n",
              "          await google.colab.output.renderOutput(dataTable, element);\n",
              "          const docLink = document.createElement('div');\n",
              "          docLink.innerHTML = docLinkHtml;\n",
              "          element.appendChild(docLink);\n",
              "        }\n",
              "      </script>\n",
              "    </div>\n",
              "  </div>\n",
              "  "
            ]
          },
          "metadata": {},
          "execution_count": 65
        }
      ]
    },
    {
      "cell_type": "code",
      "source": [
        "data_train.tail(6)"
      ],
      "metadata": {
        "colab": {
          "base_uri": "https://localhost:8080/",
          "height": 301
        },
        "id": "b6Zs8ugoi0lS",
        "outputId": "37ed5022-eee5-40c4-8953-5de7055d5abb"
      },
      "execution_count": 66,
      "outputs": [
        {
          "output_type": "execute_result",
          "data": {
            "text/plain": [
              "                                       user_id    REGION    TENURE   MONTANT  \\\n",
              "2028  003d7236a9700fd0a7d47c2bcfcd469669e58465  0.083099 -2.861861  0.075419   \n",
              "5229  009fcea22d193fa28eafb38623742e592703a29f  0.932325  0.233973  2.002220   \n",
              "1583  00309c3f2b38e1c2c6023b87a180193d33ea6c67 -1.190741  0.233973  0.578062   \n",
              "4685  008de14f607ac56cceade0e5fa9f25c076ca748b -0.341515  0.233973 -0.259677   \n",
              "4879  0094252d7a5ce14bf5d9698a175882a042ffcf4a  0.083099  0.233973 -0.929869   \n",
              "5483  00a7691154d542ec2a5078e00b3fd4d68e2e407c  0.083099  0.233973  1.415802   \n",
              "\n",
              "      FREQUENCE_RECH   REVENUE  ARPU_SEGMENT  FREQUENCE  DATA_VOLUME  \\\n",
              "2028        2.405592  0.136289      0.135906   1.742543    -0.073184   \n",
              "5229        0.415969  1.857609      1.857705   0.599489     4.139389   \n",
              "1583        0.415969  0.610637      0.610968   0.599489    -0.226767   \n",
              "4685       -0.379880 -0.304292     -0.305395  -0.543564    -0.446172   \n",
              "4879       -0.777805 -0.829291     -0.828687  -0.257801    -0.226767   \n",
              "5483       -0.379880  1.410597      1.409169   0.027963    -0.226767   \n",
              "\n",
              "        ON_NET    ORANGE      TIGO     ZONE1     ZONE2  REGULARITY  \\\n",
              "2028 -0.261211 -1.063076 -0.734343 -0.085272 -0.099428    0.110308   \n",
              "5229 -0.410620 -1.104570 -0.856008 -0.085272 -0.099428    2.356683   \n",
              "1583 -0.161605  0.057239 -0.126020 -0.085272 -0.099428   -0.619764   \n",
              "4685 -0.410620  0.223211 -0.126020 -0.085272 -0.099428    0.278786   \n",
              "4879 -0.141683 -1.104570 -0.369349 -0.085272 -0.099428    0.503424   \n",
              "5483 -0.410620 -0.523665  5.105557 -0.085272 -0.099428   -0.395126   \n",
              "\n",
              "      FREQ_TOP_PACK  CHURN  \n",
              "2028       3.561863      0  \n",
              "5229      -0.513006      0  \n",
              "1583       0.505712      0  \n",
              "4685      -0.513006      0  \n",
              "4879      -1.022364      0  \n",
              "5483       0.505712      0  "
            ],
            "text/html": [
              "\n",
              "  <div id=\"df-33f8837c-1361-4773-8279-cdaf89933deb\">\n",
              "    <div class=\"colab-df-container\">\n",
              "      <div>\n",
              "<style scoped>\n",
              "    .dataframe tbody tr th:only-of-type {\n",
              "        vertical-align: middle;\n",
              "    }\n",
              "\n",
              "    .dataframe tbody tr th {\n",
              "        vertical-align: top;\n",
              "    }\n",
              "\n",
              "    .dataframe thead th {\n",
              "        text-align: right;\n",
              "    }\n",
              "</style>\n",
              "<table border=\"1\" class=\"dataframe\">\n",
              "  <thead>\n",
              "    <tr style=\"text-align: right;\">\n",
              "      <th></th>\n",
              "      <th>user_id</th>\n",
              "      <th>REGION</th>\n",
              "      <th>TENURE</th>\n",
              "      <th>MONTANT</th>\n",
              "      <th>FREQUENCE_RECH</th>\n",
              "      <th>REVENUE</th>\n",
              "      <th>ARPU_SEGMENT</th>\n",
              "      <th>FREQUENCE</th>\n",
              "      <th>DATA_VOLUME</th>\n",
              "      <th>ON_NET</th>\n",
              "      <th>ORANGE</th>\n",
              "      <th>TIGO</th>\n",
              "      <th>ZONE1</th>\n",
              "      <th>ZONE2</th>\n",
              "      <th>REGULARITY</th>\n",
              "      <th>FREQ_TOP_PACK</th>\n",
              "      <th>CHURN</th>\n",
              "    </tr>\n",
              "  </thead>\n",
              "  <tbody>\n",
              "    <tr>\n",
              "      <th>2028</th>\n",
              "      <td>003d7236a9700fd0a7d47c2bcfcd469669e58465</td>\n",
              "      <td>0.083099</td>\n",
              "      <td>-2.861861</td>\n",
              "      <td>0.075419</td>\n",
              "      <td>2.405592</td>\n",
              "      <td>0.136289</td>\n",
              "      <td>0.135906</td>\n",
              "      <td>1.742543</td>\n",
              "      <td>-0.073184</td>\n",
              "      <td>-0.261211</td>\n",
              "      <td>-1.063076</td>\n",
              "      <td>-0.734343</td>\n",
              "      <td>-0.085272</td>\n",
              "      <td>-0.099428</td>\n",
              "      <td>0.110308</td>\n",
              "      <td>3.561863</td>\n",
              "      <td>0</td>\n",
              "    </tr>\n",
              "    <tr>\n",
              "      <th>5229</th>\n",
              "      <td>009fcea22d193fa28eafb38623742e592703a29f</td>\n",
              "      <td>0.932325</td>\n",
              "      <td>0.233973</td>\n",
              "      <td>2.002220</td>\n",
              "      <td>0.415969</td>\n",
              "      <td>1.857609</td>\n",
              "      <td>1.857705</td>\n",
              "      <td>0.599489</td>\n",
              "      <td>4.139389</td>\n",
              "      <td>-0.410620</td>\n",
              "      <td>-1.104570</td>\n",
              "      <td>-0.856008</td>\n",
              "      <td>-0.085272</td>\n",
              "      <td>-0.099428</td>\n",
              "      <td>2.356683</td>\n",
              "      <td>-0.513006</td>\n",
              "      <td>0</td>\n",
              "    </tr>\n",
              "    <tr>\n",
              "      <th>1583</th>\n",
              "      <td>00309c3f2b38e1c2c6023b87a180193d33ea6c67</td>\n",
              "      <td>-1.190741</td>\n",
              "      <td>0.233973</td>\n",
              "      <td>0.578062</td>\n",
              "      <td>0.415969</td>\n",
              "      <td>0.610637</td>\n",
              "      <td>0.610968</td>\n",
              "      <td>0.599489</td>\n",
              "      <td>-0.226767</td>\n",
              "      <td>-0.161605</td>\n",
              "      <td>0.057239</td>\n",
              "      <td>-0.126020</td>\n",
              "      <td>-0.085272</td>\n",
              "      <td>-0.099428</td>\n",
              "      <td>-0.619764</td>\n",
              "      <td>0.505712</td>\n",
              "      <td>0</td>\n",
              "    </tr>\n",
              "    <tr>\n",
              "      <th>4685</th>\n",
              "      <td>008de14f607ac56cceade0e5fa9f25c076ca748b</td>\n",
              "      <td>-0.341515</td>\n",
              "      <td>0.233973</td>\n",
              "      <td>-0.259677</td>\n",
              "      <td>-0.379880</td>\n",
              "      <td>-0.304292</td>\n",
              "      <td>-0.305395</td>\n",
              "      <td>-0.543564</td>\n",
              "      <td>-0.446172</td>\n",
              "      <td>-0.410620</td>\n",
              "      <td>0.223211</td>\n",
              "      <td>-0.126020</td>\n",
              "      <td>-0.085272</td>\n",
              "      <td>-0.099428</td>\n",
              "      <td>0.278786</td>\n",
              "      <td>-0.513006</td>\n",
              "      <td>0</td>\n",
              "    </tr>\n",
              "    <tr>\n",
              "      <th>4879</th>\n",
              "      <td>0094252d7a5ce14bf5d9698a175882a042ffcf4a</td>\n",
              "      <td>0.083099</td>\n",
              "      <td>0.233973</td>\n",
              "      <td>-0.929869</td>\n",
              "      <td>-0.777805</td>\n",
              "      <td>-0.829291</td>\n",
              "      <td>-0.828687</td>\n",
              "      <td>-0.257801</td>\n",
              "      <td>-0.226767</td>\n",
              "      <td>-0.141683</td>\n",
              "      <td>-1.104570</td>\n",
              "      <td>-0.369349</td>\n",
              "      <td>-0.085272</td>\n",
              "      <td>-0.099428</td>\n",
              "      <td>0.503424</td>\n",
              "      <td>-1.022364</td>\n",
              "      <td>0</td>\n",
              "    </tr>\n",
              "    <tr>\n",
              "      <th>5483</th>\n",
              "      <td>00a7691154d542ec2a5078e00b3fd4d68e2e407c</td>\n",
              "      <td>0.083099</td>\n",
              "      <td>0.233973</td>\n",
              "      <td>1.415802</td>\n",
              "      <td>-0.379880</td>\n",
              "      <td>1.410597</td>\n",
              "      <td>1.409169</td>\n",
              "      <td>0.027963</td>\n",
              "      <td>-0.226767</td>\n",
              "      <td>-0.410620</td>\n",
              "      <td>-0.523665</td>\n",
              "      <td>5.105557</td>\n",
              "      <td>-0.085272</td>\n",
              "      <td>-0.099428</td>\n",
              "      <td>-0.395126</td>\n",
              "      <td>0.505712</td>\n",
              "      <td>0</td>\n",
              "    </tr>\n",
              "  </tbody>\n",
              "</table>\n",
              "</div>\n",
              "      <button class=\"colab-df-convert\" onclick=\"convertToInteractive('df-33f8837c-1361-4773-8279-cdaf89933deb')\"\n",
              "              title=\"Convert this dataframe to an interactive table.\"\n",
              "              style=\"display:none;\">\n",
              "        \n",
              "  <svg xmlns=\"http://www.w3.org/2000/svg\" height=\"24px\"viewBox=\"0 0 24 24\"\n",
              "       width=\"24px\">\n",
              "    <path d=\"M0 0h24v24H0V0z\" fill=\"none\"/>\n",
              "    <path d=\"M18.56 5.44l.94 2.06.94-2.06 2.06-.94-2.06-.94-.94-2.06-.94 2.06-2.06.94zm-11 1L8.5 8.5l.94-2.06 2.06-.94-2.06-.94L8.5 2.5l-.94 2.06-2.06.94zm10 10l.94 2.06.94-2.06 2.06-.94-2.06-.94-.94-2.06-.94 2.06-2.06.94z\"/><path d=\"M17.41 7.96l-1.37-1.37c-.4-.4-.92-.59-1.43-.59-.52 0-1.04.2-1.43.59L10.3 9.45l-7.72 7.72c-.78.78-.78 2.05 0 2.83L4 21.41c.39.39.9.59 1.41.59.51 0 1.02-.2 1.41-.59l7.78-7.78 2.81-2.81c.8-.78.8-2.07 0-2.86zM5.41 20L4 18.59l7.72-7.72 1.47 1.35L5.41 20z\"/>\n",
              "  </svg>\n",
              "      </button>\n",
              "      \n",
              "  <style>\n",
              "    .colab-df-container {\n",
              "      display:flex;\n",
              "      flex-wrap:wrap;\n",
              "      gap: 12px;\n",
              "    }\n",
              "\n",
              "    .colab-df-convert {\n",
              "      background-color: #E8F0FE;\n",
              "      border: none;\n",
              "      border-radius: 50%;\n",
              "      cursor: pointer;\n",
              "      display: none;\n",
              "      fill: #1967D2;\n",
              "      height: 32px;\n",
              "      padding: 0 0 0 0;\n",
              "      width: 32px;\n",
              "    }\n",
              "\n",
              "    .colab-df-convert:hover {\n",
              "      background-color: #E2EBFA;\n",
              "      box-shadow: 0px 1px 2px rgba(60, 64, 67, 0.3), 0px 1px 3px 1px rgba(60, 64, 67, 0.15);\n",
              "      fill: #174EA6;\n",
              "    }\n",
              "\n",
              "    [theme=dark] .colab-df-convert {\n",
              "      background-color: #3B4455;\n",
              "      fill: #D2E3FC;\n",
              "    }\n",
              "\n",
              "    [theme=dark] .colab-df-convert:hover {\n",
              "      background-color: #434B5C;\n",
              "      box-shadow: 0px 1px 3px 1px rgba(0, 0, 0, 0.15);\n",
              "      filter: drop-shadow(0px 1px 2px rgba(0, 0, 0, 0.3));\n",
              "      fill: #FFFFFF;\n",
              "    }\n",
              "  </style>\n",
              "\n",
              "      <script>\n",
              "        const buttonEl =\n",
              "          document.querySelector('#df-33f8837c-1361-4773-8279-cdaf89933deb button.colab-df-convert');\n",
              "        buttonEl.style.display =\n",
              "          google.colab.kernel.accessAllowed ? 'block' : 'none';\n",
              "\n",
              "        async function convertToInteractive(key) {\n",
              "          const element = document.querySelector('#df-33f8837c-1361-4773-8279-cdaf89933deb');\n",
              "          const dataTable =\n",
              "            await google.colab.kernel.invokeFunction('convertToInteractive',\n",
              "                                                     [key], {});\n",
              "          if (!dataTable) return;\n",
              "\n",
              "          const docLinkHtml = 'Like what you see? Visit the ' +\n",
              "            '<a target=\"_blank\" href=https://colab.research.google.com/notebooks/data_table.ipynb>data table notebook</a>'\n",
              "            + ' to learn more about interactive tables.';\n",
              "          element.innerHTML = '';\n",
              "          dataTable['output_type'] = 'display_data';\n",
              "          await google.colab.output.renderOutput(dataTable, element);\n",
              "          const docLink = document.createElement('div');\n",
              "          docLink.innerHTML = docLinkHtml;\n",
              "          element.appendChild(docLink);\n",
              "        }\n",
              "      </script>\n",
              "    </div>\n",
              "  </div>\n",
              "  "
            ]
          },
          "metadata": {},
          "execution_count": 66
        }
      ]
    },
    {
      "cell_type": "code",
      "source": [
        "data_train.isnull().sum()"
      ],
      "metadata": {
        "colab": {
          "base_uri": "https://localhost:8080/"
        },
        "id": "tIt8DZ1Li_hW",
        "outputId": "16907006-8a62-4b42-eb90-3f7ab2ef173b"
      },
      "execution_count": 67,
      "outputs": [
        {
          "output_type": "execute_result",
          "data": {
            "text/plain": [
              "user_id           0\n",
              "REGION            0\n",
              "TENURE            0\n",
              "MONTANT           0\n",
              "FREQUENCE_RECH    0\n",
              "REVENUE           0\n",
              "ARPU_SEGMENT      0\n",
              "FREQUENCE         0\n",
              "DATA_VOLUME       0\n",
              "ON_NET            0\n",
              "ORANGE            0\n",
              "TIGO              0\n",
              "ZONE1             0\n",
              "ZONE2             0\n",
              "REGULARITY        0\n",
              "FREQ_TOP_PACK     0\n",
              "CHURN             0\n",
              "dtype: int64"
            ]
          },
          "metadata": {},
          "execution_count": 67
        }
      ]
    },
    {
      "cell_type": "code",
      "source": [
        "print(data_train.dtypes)"
      ],
      "metadata": {
        "colab": {
          "base_uri": "https://localhost:8080/"
        },
        "id": "aCohlWibi_eq",
        "outputId": "f6691c7e-37cf-4902-d019-86c5685246e6"
      },
      "execution_count": 68,
      "outputs": [
        {
          "output_type": "stream",
          "name": "stdout",
          "text": [
            "user_id            object\n",
            "REGION            float64\n",
            "TENURE            float64\n",
            "MONTANT           float64\n",
            "FREQUENCE_RECH    float64\n",
            "REVENUE           float64\n",
            "ARPU_SEGMENT      float64\n",
            "FREQUENCE         float64\n",
            "DATA_VOLUME       float64\n",
            "ON_NET            float64\n",
            "ORANGE            float64\n",
            "TIGO              float64\n",
            "ZONE1             float64\n",
            "ZONE2             float64\n",
            "REGULARITY        float64\n",
            "FREQ_TOP_PACK     float64\n",
            "CHURN               int64\n",
            "dtype: object\n"
          ]
        }
      ]
    },
    {
      "cell_type": "code",
      "source": [
        "X = data_train.drop([\"user_id\",\"CHURN\"], axis = 1)\n",
        "y = data_train[\"CHURN\"]"
      ],
      "metadata": {
        "id": "2E4b3PF6i_cW"
      },
      "execution_count": 69,
      "outputs": []
    },
    {
      "cell_type": "code",
      "source": [
        "y"
      ],
      "metadata": {
        "colab": {
          "base_uri": "https://localhost:8080/"
        },
        "id": "SdFz1HYSjSci",
        "outputId": "9ffb085b-3b76-40be-c590-60252fe301c2"
      },
      "execution_count": 70,
      "outputs": [
        {
          "output_type": "execute_result",
          "data": {
            "text/plain": [
              "2464    0\n",
              "4553    0\n",
              "2145    0\n",
              "4017    0\n",
              "29      0\n",
              "       ..\n",
              "5229    0\n",
              "1583    0\n",
              "4685    0\n",
              "4879    0\n",
              "5483    0\n",
              "Name: CHURN, Length: 419, dtype: int64"
            ]
          },
          "metadata": {},
          "execution_count": 70
        }
      ]
    },
    {
      "cell_type": "code",
      "source": [
        "X.isnull().sum()"
      ],
      "metadata": {
        "colab": {
          "base_uri": "https://localhost:8080/"
        },
        "id": "vFz86zlWjSZB",
        "outputId": "3f966312-4557-42da-92af-b928b27a6269"
      },
      "execution_count": 71,
      "outputs": [
        {
          "output_type": "execute_result",
          "data": {
            "text/plain": [
              "REGION            0\n",
              "TENURE            0\n",
              "MONTANT           0\n",
              "FREQUENCE_RECH    0\n",
              "REVENUE           0\n",
              "ARPU_SEGMENT      0\n",
              "FREQUENCE         0\n",
              "DATA_VOLUME       0\n",
              "ON_NET            0\n",
              "ORANGE            0\n",
              "TIGO              0\n",
              "ZONE1             0\n",
              "ZONE2             0\n",
              "REGULARITY        0\n",
              "FREQ_TOP_PACK     0\n",
              "dtype: int64"
            ]
          },
          "metadata": {},
          "execution_count": 71
        }
      ]
    },
    {
      "cell_type": "code",
      "source": [
        "from imblearn.over_sampling import RandomOverSampler\n",
        "from sklearn.model_selection import train_test_split"
      ],
      "metadata": {
        "id": "Zerr3WMCjSWo"
      },
      "execution_count": 72,
      "outputs": []
    },
    {
      "cell_type": "code",
      "source": [
        "# Splitting into train and test sets\n",
        "X_train, X_test, y_train, y_test = train_test_split(X, y, test_size=0.2, random_state=42)\n",
        "\n",
        "# Oversampling the minority class using SMOTE\n",
        "os = RandomOverSampler(0.5)\n",
        "X_train_resampled, y_train_resampled = os.fit_resample(X_train, y_train)\n"
      ],
      "metadata": {
        "id": "L4cXCTwojST4"
      },
      "execution_count": 73,
      "outputs": []
    },
    {
      "cell_type": "code",
      "source": [
        "y_train.value_counts()"
      ],
      "metadata": {
        "colab": {
          "base_uri": "https://localhost:8080/"
        },
        "id": "6ENOlKIVjSRS",
        "outputId": "1bb72ca3-9859-412f-c7f5-3cf22dbb56db"
      },
      "execution_count": 74,
      "outputs": [
        {
          "output_type": "execute_result",
          "data": {
            "text/plain": [
              "0    249\n",
              "1     86\n",
              "Name: CHURN, dtype: int64"
            ]
          },
          "metadata": {},
          "execution_count": 74
        }
      ]
    },
    {
      "cell_type": "code",
      "source": [
        "X_train_resampled.shape"
      ],
      "metadata": {
        "colab": {
          "base_uri": "https://localhost:8080/"
        },
        "id": "htaThV8ajSOq",
        "outputId": "05996c43-6e04-43a2-e695-29f4a7f5a2c3"
      },
      "execution_count": 75,
      "outputs": [
        {
          "output_type": "execute_result",
          "data": {
            "text/plain": [
              "(373, 15)"
            ]
          },
          "metadata": {},
          "execution_count": 75
        }
      ]
    },
    {
      "cell_type": "code",
      "source": [
        "y_train_resampled.shape"
      ],
      "metadata": {
        "colab": {
          "base_uri": "https://localhost:8080/"
        },
        "id": "NH-6MlGcjmmW",
        "outputId": "2b0aa2dd-0c28-4580-9f9c-6bd777dd4178"
      },
      "execution_count": 76,
      "outputs": [
        {
          "output_type": "execute_result",
          "data": {
            "text/plain": [
              "(373,)"
            ]
          },
          "metadata": {},
          "execution_count": 76
        }
      ]
    },
    {
      "cell_type": "code",
      "source": [
        "y_test.shape"
      ],
      "metadata": {
        "colab": {
          "base_uri": "https://localhost:8080/"
        },
        "id": "Rwlq71-KjmjG",
        "outputId": "ab38b37d-2b55-4c6d-b5db-468e0df4766a"
      },
      "execution_count": 77,
      "outputs": [
        {
          "output_type": "execute_result",
          "data": {
            "text/plain": [
              "(84,)"
            ]
          },
          "metadata": {},
          "execution_count": 77
        }
      ]
    },
    {
      "cell_type": "code",
      "source": [
        "y_train.shape"
      ],
      "metadata": {
        "colab": {
          "base_uri": "https://localhost:8080/"
        },
        "id": "74gYb2aWjmgP",
        "outputId": "9cbb12be-55f4-4d8e-905c-0b568b83e556"
      },
      "execution_count": 78,
      "outputs": [
        {
          "output_type": "execute_result",
          "data": {
            "text/plain": [
              "(335,)"
            ]
          },
          "metadata": {},
          "execution_count": 78
        }
      ]
    },
    {
      "cell_type": "code",
      "source": [
        "X_train_resampled.isnull().sum()"
      ],
      "metadata": {
        "colab": {
          "base_uri": "https://localhost:8080/"
        },
        "id": "UbtsC85PSc4z",
        "outputId": "b917b27b-155e-400b-c33d-102ab541cf1d"
      },
      "execution_count": 79,
      "outputs": [
        {
          "output_type": "execute_result",
          "data": {
            "text/plain": [
              "REGION            0\n",
              "TENURE            0\n",
              "MONTANT           0\n",
              "FREQUENCE_RECH    0\n",
              "REVENUE           0\n",
              "ARPU_SEGMENT      0\n",
              "FREQUENCE         0\n",
              "DATA_VOLUME       0\n",
              "ON_NET            0\n",
              "ORANGE            0\n",
              "TIGO              0\n",
              "ZONE1             0\n",
              "ZONE2             0\n",
              "REGULARITY        0\n",
              "FREQ_TOP_PACK     0\n",
              "dtype: int64"
            ]
          },
          "metadata": {},
          "execution_count": 79
        }
      ]
    },
    {
      "cell_type": "code",
      "source": [
        "from collections import Counter\n",
        "\n",
        "print('Original dataset shape {}'.format(Counter(y_train)))\n",
        "print('Resampled dataset shape {}'.format(Counter(y_train_resampled)))"
      ],
      "metadata": {
        "colab": {
          "base_uri": "https://localhost:8080/"
        },
        "id": "cVSFHxMTjmdu",
        "outputId": "893095d6-f666-4177-ed93-48eb273b2373"
      },
      "execution_count": 80,
      "outputs": [
        {
          "output_type": "stream",
          "name": "stdout",
          "text": [
            "Original dataset shape Counter({0: 249, 1: 86})\n",
            "Resampled dataset shape Counter({0: 249, 1: 124})\n"
          ]
        }
      ]
    },
    {
      "cell_type": "code",
      "source": [
        "X_train_resampled.columns"
      ],
      "metadata": {
        "colab": {
          "base_uri": "https://localhost:8080/"
        },
        "id": "Cl1XlO4rjma6",
        "outputId": "caca713d-b80e-4cce-c325-3c682561ff4d"
      },
      "execution_count": 81,
      "outputs": [
        {
          "output_type": "execute_result",
          "data": {
            "text/plain": [
              "Index(['REGION', 'TENURE', 'MONTANT', 'FREQUENCE_RECH', 'REVENUE',\n",
              "       'ARPU_SEGMENT', 'FREQUENCE', 'DATA_VOLUME', 'ON_NET', 'ORANGE', 'TIGO',\n",
              "       'ZONE1', 'ZONE2', 'REGULARITY', 'FREQ_TOP_PACK'],\n",
              "      dtype='object')"
            ]
          },
          "metadata": {},
          "execution_count": 81
        }
      ]
    },
    {
      "cell_type": "code",
      "source": [
        "class DecisionTree:\n",
        "    def __init__(self, max_depth=None):\n",
        "        self.max_depth = max_depth\n",
        "        self.feature = None\n",
        "        self.threshold = None\n",
        "        self.left = None\n",
        "        self.right = None\n",
        "        self.label = None\n",
        "        self.n_classes_ = None\n",
        "\n",
        "    def fit(self, X, y, depth=0):\n",
        "        \"\"\"Build the decision tree recursively.\"\"\"\n",
        "        if self.max_depth is not None and depth >= self.max_depth:\n",
        "            counter = Counter(y)\n",
        "            if len(counter) == 0:\n",
        "                self.label = None\n",
        "            else:\n",
        "                self.label = counter.most_common()[0][0]\n",
        "            return\n",
        "\n",
        "        if len(set(y)) == 1:\n",
        "            self.label = y[0]\n",
        "            return\n",
        "\n",
        "        best_feature, best_threshold = find_best_split(X, y)\n",
        "        if best_feature is None or best_threshold is None:\n",
        "            counter = Counter(y)\n",
        "            if len(counter) == 0:\n",
        "                self.label = None\n",
        "            else:\n",
        "                self.label = counter.most_common()[0][0]\n",
        "            return\n",
        "\n",
        "        self.feature = best_feature\n",
        "        self.threshold = best_threshold\n",
        "        left_X, left_y, right_X, right_y = split_data(X, y, best_feature, best_threshold)\n",
        "        self.left = DecisionTree(max_depth=self.max_depth)\n",
        "        self.right = DecisionTree(max_depth=self.max_depth)\n",
        "        self.left.fit(left_X, left_y, depth+1)\n",
        "        self.right.fit(right_X, right_y, depth+1)\n",
        "\n",
        "    def predict(self, X):\n",
        "        \"\"\"Predict the class labels for the given data.\"\"\"\n",
        "        if self.label is not None:\n",
        "            return np.full((X.shape[0],), self.label)\n",
        "        if self.left is None and self.right is None:\n",
        "           return np.full((X.shape[0],), self.label)   \n",
        "        y = np.zeros((X.shape[0],))\n",
        "        default_threshold = np.median(X[:, self.feature])\n",
        "        threshold = self.threshold or default_threshold\n",
        "        left_indices = X[:, self.feature] <= self.threshold\n",
        "        right_indices = X[:, self.feature] > self.threshold\n",
        "        if self.left is not None:\n",
        "            y[left_indices] = self.left.predict(X[left_indices])\n",
        "        if self.right is not None:\n",
        "            y[right_indices] = self.right.predict(X[right_indices])\n",
        "        return y\n"
      ],
      "metadata": {
        "id": "rBCQ3neTn5CS"
      },
      "execution_count": 82,
      "outputs": []
    },
    {
      "cell_type": "code",
      "source": [
        "import numpy as np\n",
        "\n",
        "class RandomForestClassifier:\n",
        "    def __init__(self, n_trees, n_features, max_depth):\n",
        "        self.n_trees = n_trees\n",
        "        self.n_features = n_features\n",
        "        self.max_depth = max_depth\n",
        "        self.trees = []\n",
        "\n",
        "    def fit(self, X, y):\n",
        "        for i in range(self.n_trees):\n",
        "            tree = DecisionTree(max_depth=self.max_depth)\n",
        "            tree.fit(self._get_bootstrapped_samples(X), self._get_bootstrapped_samples(y))\n",
        "            self.trees.append(tree)\n",
        "\n",
        "    def predict(self, X):\n",
        "        predictions = np.zeros((X.shape[0], len(self.trees)))\n",
        "        for i, tree in enumerate(self.trees):\n",
        "            predictions[:, i] = tree.predict(X)\n",
        "        return np.mean(predictions, axis=1) >= 0.5\n",
        "\n",
        "    def _get_bootstrapped_samples(self, X):\n",
        "        random_indices = np.random.choice(X.shape[0], size=X.shape[0], replace=True)\n",
        "        return X[random_indices]\n",
        "\n",
        "# create a random forest classifier with 10 trees, 3 features per tree, and a maximum depth of 5\n",
        "#rfc = RandomForestClassifier(n_trees=10, n_features=3, max_depth=5)\n",
        "\n",
        "# fit the model on the resampled training data\n",
        "#rfc.fit(X_train_resampled.values, y_train_resampled.values.ravel())\n",
        "\n",
        "# calculate cross-validation scores using accuracy as the scoring function\n",
        "#scores = cross_val_score(rfc, X_train_resampled.values, y_train_resampled.values.ravel(), cv=5, scoring=accuracy_score)\n",
        "\n",
        "# print the mean and standard deviation of the scores\n",
        "#print(\"Cross-validation accuracy: %0.2f (+/- %0.2f)\" % (scores.mean(), scores.std() * 2))\n"
      ],
      "metadata": {
        "id": "O9moPJKDucxY"
      },
      "execution_count": 83,
      "outputs": []
    },
    {
      "cell_type": "code",
      "source": [
        "def find_best_split(X, y):\n",
        "    best_gini = 1\n",
        "    best_feature = None\n",
        "    best_threshold = None\n",
        "    \n",
        "    for feature in range(X.shape[1]):\n",
        "        feature_values = X[:, feature]\n",
        "        thresholds = np.unique(feature_values)\n",
        "        for threshold in thresholds:\n",
        "            left_indices = np.where(feature_values <= threshold)[0]\n",
        "            right_indices = np.where(feature_values > threshold)[0]\n",
        "            \n",
        "            left_labels = y[left_indices]\n",
        "            right_labels = y[right_indices]\n",
        "            \n",
        "            gini_left = gini_impurity(left_labels)\n",
        "            gini_right = gini_impurity(right_labels)\n",
        "            gini = len(left_indices) / len(y) * gini_left + len(right_indices) / len(y) * gini_right\n",
        "            \n",
        "            if gini < best_gini:\n",
        "                best_gini = gini\n",
        "                best_feature = feature\n",
        "                best_threshold = threshold\n",
        "                \n",
        "    return best_feature, best_threshold\n",
        "    print(f\"feature={best_feature}, threshold={best_threshold}, gini={best_gini}\")\n",
        "\n"
      ],
      "metadata": {
        "id": "Kl3Sxp3Yv_0X"
      },
      "execution_count": 84,
      "outputs": []
    },
    {
      "cell_type": "code",
      "source": [
        "def gini_impurity(labels):\n",
        "    _, counts = np.unique(labels, return_counts=True)\n",
        "    proportions = counts / len(labels)\n",
        "    gini = 1 - np.sum(proportions ** 2)\n",
        "    return gini\n"
      ],
      "metadata": {
        "id": "KGosOquIwaKA"
      },
      "execution_count": 85,
      "outputs": []
    },
    {
      "cell_type": "code",
      "source": [
        "def split_data(X, y, feature, threshold):\n",
        "    left_indices = np.where(X[:, feature] <= threshold)[0]\n",
        "    right_indices = np.where(X[:, feature] > threshold)[0]\n",
        "    \n",
        "    left_X = X[left_indices]\n",
        "    left_y = y[left_indices]\n",
        "    \n",
        "    right_X = X[right_indices]\n",
        "    right_y = y[right_indices]\n",
        "    \n",
        "    return left_X, left_y, right_X, right_y\n"
      ],
      "metadata": {
        "id": "08A9I_gnwu_8"
      },
      "execution_count": 86,
      "outputs": []
    },
    {
      "cell_type": "code",
      "source": [
        "def predict(self, X):\n",
        "    if self.left is None and self.right is None:\n",
        "        return np.full((X.shape[0],), self.label)\n",
        "    \n",
        "    if self.threshold is None:\n",
        "        raise ValueError(\"Threshold is not set.\")\n",
        "    \n",
        "    y = np.zeros((X.shape[0],))\n",
        "    left_indices = X[:, self.feature] <= self.threshold\n",
        "    right_indices = X[:, self.feature] > self.threshold\n",
        "    \n",
        "    if self.left is not None:\n",
        "        y[left_indices] = self.left.predict(X[left_indices])\n",
        "    if self.right is not None:\n",
        "        y[right_indices] = self.right.predict(X[right_indices])\n",
        "        \n",
        "    return y\n"
      ],
      "metadata": {
        "id": "YxjBq5Yixco5"
      },
      "execution_count": 87,
      "outputs": []
    },
    {
      "cell_type": "code",
      "source": [
        "rfc = RandomForestClassifier(n_trees=10, n_features=3, max_depth=5)"
      ],
      "metadata": {
        "id": "TM53fipFn5Ah"
      },
      "execution_count": 88,
      "outputs": []
    },
    {
      "cell_type": "code",
      "source": [
        "rfc.fit(X_train_resampled.values, y_train_resampled.values.ravel())"
      ],
      "metadata": {
        "id": "MMARJh5pn47j"
      },
      "execution_count": 89,
      "outputs": []
    },
    {
      "cell_type": "code",
      "source": [
        "#def predict(self, X):\n",
        "    #if self.left is None and self.right is None:\n",
        "        #return np.full((X.shape[0],), self.label)\n",
        "\n",
        "    #if self.threshold is None:\n",
        "        #raise ValueError(\"Threshold is not set.\")\n",
        "        \n",
        "    #y = np.zeros((X.shape[0],))\n",
        "    #left_indices = X[:, self.feature] <= self.threshold\n",
        "    #right_indices = X[:, self.feature] > self.threshold\n",
        "    \n",
        "    #if self.left is not None:\n",
        "        #y[left_indices] = self.left.predict(X[left_indices])\n",
        "    #if self.right is not None:\n",
        "        #y[right_indices] = self.right.predict(X[right_indices])\n",
        "        \n",
        "    #return y\n"
      ],
      "metadata": {
        "id": "0twUyo_XyArN"
      },
      "execution_count": 90,
      "outputs": []
    },
    {
      "cell_type": "code",
      "source": [
        "def fit(self, X, y, depth=0):\n",
        "    if depth == self.max_depth or len(y) < self.min_samples_split:\n",
        "        self.label = Counter(y).most_common(1)[0][0]\n",
        "        return\n",
        "\n",
        "    best_feature, best_threshold = find_best_split(X, y)\n",
        "    if best_feature is None or best_threshold is None:\n",
        "        self.label = Counter(y).most_common(1)[0][0]\n",
        "        return\n",
        "        \n",
        "    self.feature = best_feature\n",
        "    self.threshold = best_threshold\n",
        "    left_X, left_y, right_X, right_y = split_data(X, y, best_feature, best_threshold)\n",
        "    self.left = DecisionTree(max_depth=self.max_depth)\n",
        "    self.right = DecisionTree(max_depth=self.max_depth)\n",
        "    self.left.fit(left_X, left_y, depth+1)\n",
        "    self.right.fit(right_X, right_y, depth+1)\n"
      ],
      "metadata": {
        "id": "9UaOh7SFyQHp"
      },
      "execution_count": 91,
      "outputs": []
    },
    {
      "cell_type": "code",
      "source": [
        "#def predict(self, X):\n",
        "    #if self.left is None and self.right is None:\n",
        "        #return np.full((X.shape[0],), self.label)\n",
        "    #y = np.zeros((X.shape[0],))\n",
        "    #if self.threshold is not None:\n",
        "        #left_indices = X[:, self.feature] <= self.threshold\n",
        "        #right_indices = X[:, self.feature] > self.threshold\n",
        "    #else:\n",
        "        # all samples in node have same value for feature, set threshold to any value\n",
        "        #threshold_value = X[0, self.feature]\n",
        "        #left_indices = X[:, self.feature] <= threshold_value\n",
        "        #right_indices = X[:, self.feature] > threshold_value\n",
        "    #if self.left is not None:\n",
        "        #y[left_indices] = self.left.predict(X[left_indices])\n",
        "    #if self.right is not None:\n",
        "        #y[right_indices] = self.right.predict(X[right_indices])\n",
        "    #return y"
      ],
      "metadata": {
        "id": "PaJdi9QQT3oA"
      },
      "execution_count": 92,
      "outputs": []
    },
    {
      "cell_type": "code",
      "source": [
        "#def predict(self, X):\n",
        "    #if self.left is None and self.right is None:\n",
        "        #return np.full((X.shape[0],), self.label)\n",
        "    #y = np.zeros((X.shape[0],))\n",
        "    #if self.threshold is not None:\n",
        "        #left_indices = X[:, self.feature] <= self.threshold\n",
        "        #right_indices = X[:, self.feature] > self.threshold\n",
        "    #else:\n",
        "        # all samples in node have same value for feature, set threshold to any value\n",
        "        #threshold_value = np.median(X[:, self.feature])\n",
        "        #left_indices = np.ones(X.shape[0], dtype=bool)\n",
        "        #right_indices = np.ones(X.shape[0], dtype=bool)\n",
        "    #if self.left is not None:\n",
        "        #y[left_indices] = self.left.predict(X[left_indices])\n",
        "    #if self.right is not None:\n",
        "        #y[right_indices] = self.right.predict(X[right_indices])\n",
        "    #return y\n"
      ],
      "metadata": {
        "id": "_CCktFgpzuDY"
      },
      "execution_count": 93,
      "outputs": []
    },
    {
      "cell_type": "code",
      "source": [
        "def predict(self, X):\n",
        "    if self.left is None and self.right is None:\n",
        "        return np.full((X.shape[0],), self.label)\n",
        "    y = np.zeros((X.shape[0],))\n",
        "    default_threshold = np.median(X[:, self.feature])\n",
        "    left_indices = X[:, self.feature] <= (self.threshold or default_threshold)\n",
        "    right_indices = X[:, self.feature] > (self.threshold or default_threshold)\n",
        "    if self.left is not None:\n",
        "        y[left_indices] = self.left.predict(X[left_indices])\n",
        "    if self.right is not None:\n",
        "        y[right_indices] = self.right.predict(X[right_indices])\n",
        "    return y\n"
      ],
      "metadata": {
        "id": "w5jonF4OWZFQ"
      },
      "execution_count": 94,
      "outputs": []
    },
    {
      "cell_type": "code",
      "source": [
        "class Node:\n",
        "    def __init__(self, predicted_class):\n",
        "        self.predicted_class = predicted_class\n",
        "        self.feature_index = 0\n",
        "        self.threshold = 0\n",
        "        self.left = None\n",
        "        self.right = None\n",
        "\n",
        "class DecisionTree:\n",
        "    def __init__(self, max_depth=10, min_samples_split=2):\n",
        "        self.max_depth = max_depth\n",
        "        self.min_samples_split = min_samples_split\n",
        "        self.n_features_ = None\n",
        "        self.n_classes_ = None\n",
        "        self.root = None\n",
        "        self.tree = None\n",
        "        self.class_map_ = {}\n",
        "\n",
        "    def fit(self, X, y):     \n",
        "        self.n_features_ = X.shape[1]\n",
        "        self.root = self._grow_tree(X, y)\n",
        "        self.classes_ = np.unique(y)\n",
        "        self.n_classes_ = len(np.unique(y))\n",
        "        for i, c in enumerate(self.classes_):\n",
        "          self.class_map_[c] = i\n",
        "        return self\n",
        "\n",
        "    def _best_split(self, X, y):\n",
        "        n_samples,n_features = X.shape\n",
        "        classes = np.unique(y)\n",
        "        self.n_classes_ = len(classes)\n",
        "        self.class_map_ = {c: i for i, c in enumerate(classes)}\n",
        "        y = np.array([self.class_map_.get(label, -1) for label in y])\n",
        "        \n",
        "\n",
        "        num_parent = [np.sum(y == c) for c in range(self.n_classes_)]\n",
        "        best_gini = 1.0 - sum((n / n_samples) ** 2 for n in num_parent)\n",
        "        best_idx, best_thr = None, None\n",
        "\n",
        "        for idx in range(n_features):\n",
        "            thresholds, classes = zip(*sorted(zip(X[:, idx], y)))\n",
        "            num_left = [0] * self.n_classes_\n",
        "            num_right = num_parent.copy()\n",
        "            for i in range(1, n_samples):\n",
        "                c = classes[i - 1]\n",
        "                num_left[c] += 1\n",
        "                num_right[c] -= 1\n",
        "                gini_left = 1.0 - sum((num_left[x] / i) ** 2 for x in range(self.n_classes_)if self.class_map_.get(x) is not None)\n",
        "                gini_right = 1.0 - sum((num_right[x] / (n_samples - i)) ** 2 for x in range(self.n_classes_)if self.class_map_.get(x) is not None)\n",
        "                gini = (i * gini_left + (n_samples - i) * gini_right) / n_samples\n",
        "                if thresholds[i] == thresholds[i - 1]:\n",
        "                    continue\n",
        "                if gini < best_gini:\n",
        "                    best_gini = gini\n",
        "                    best_idx = idx\n",
        "                    best_thr = (thresholds[i] + thresholds[i - 1]) / 2\n",
        "\n",
        "        return best_idx, best_thr\n",
        "\n",
        "    def _grow_tree(self, X, y, depth=0):\n",
        "        if self.n_classes_ is None:\n",
        "          self.n_classes_ = len(np.unique(y))\n",
        "        num_samples_per_class = [np.sum(y == i) for i in range(self.n_classes_)]\n",
        "        predicted_class = np.argmax(num_samples_per_class)\n",
        "        node = Node(predicted_class=predicted_class)\n",
        "\n",
        "        if depth < self.max_depth:\n",
        "            idx, thr = self._best_split(X, y)\n",
        "            if idx is not None:\n",
        "                indices_left = X[:, idx] <= thr\n",
        "                X_left, y_left = X[indices_left], y[indices_left]\n",
        "                X_right, y_right = X[~indices_left], y[~indices_left]\n",
        "                node.feature = idx\n",
        "                node.threshold = thr\n",
        "                node.left = self._grow_tree(X_left, y_left, depth + 1)\n",
        "                node.right = self._grow_tree(X_right, y_right, depth + 1)\n",
        "\n",
        "        return node\n",
        "\n",
        "    def predict(self, X):\n",
        "        return np.array([self._traverse_tree(x, self.root) for x in X])\n",
        "\n",
        "    def _traverse_tree(self, x, node):\n",
        "        if node.left is None and node.right is None:\n",
        "            return node.predicted_class\n",
        "        if x[node.feature] <= node.threshold:\n",
        "            return self._traverse_tree(x, node.left)\n",
        "        else:\n",
        "            return self._traverse_tree(x, node.right)\n"
      ],
      "metadata": {
        "id": "Zu500d0n0gVc"
      },
      "execution_count": 95,
      "outputs": []
    },
    {
      "cell_type": "code",
      "source": [
        "def _best_split(self, X, y):\n",
        "    n_samples, n_features = X.shape\n",
        "    classes = np.unique(y)\n",
        "    self.n_classes_ = len(classes)\n",
        "    self.class_map_ = {c: i for i, c in enumerate(classes)}\n",
        "    y = np.array([self.class_map_.get(label, -1) for label in y])\n",
        "\n",
        "    num_parent = [np.sum(y == c) for c in range(self.n_classes_)]\n",
        "    best_gini = 1.0 - sum((n / n_samples) ** 2 for n in num_parent)\n",
        "    best_idx, best_thr = None, None\n",
        "    for idx in range(n_features):\n",
        "        thresholds, classes = zip(*sorted(zip(X[:, idx], y)))\n",
        "        num_left = [0] * self.n_classes_\n",
        "        num_right = num_parent.copy()\n",
        "        for i in range(1, n_samples):\n",
        "            c = classes[i - 1]\n",
        "            num_left[c] += 1\n",
        "            num_right[c] -= 1\n",
        "            gini_left = 1.0 - sum((num_left[x] / i) ** 2 for x in range(self.n_classes_) if self.class_map_.get(x) is not None)\n",
        "            gini_right = 1.0 - sum((num_right[x] / (n_samples - i)) ** 2 for x in range(self.n_classes_) if self.class_map_.get(x) is not None)\n",
        "            gini = (i * gini_left + (n_samples - i) * gini_right) / n_samples\n",
        "            if thresholds[i] == thresholds[i - 1]:\n",
        "                continue\n",
        "            if gini < best_gini:\n",
        "                best_gini = gini\n",
        "                best_idx = idx\n",
        "                best_thr = (thresholds[i] + thresholds[i - 1]) / 2\n",
        "    return best_idx, best_thr\n"
      ],
      "metadata": {
        "id": "tclUbzw5kTyp"
      },
      "execution_count": 96,
      "outputs": []
    },
    {
      "cell_type": "code",
      "source": [
        "def predict(self, X):\n",
        "    if self.left is None and self.right is None:\n",
        "        return np.full((X.shape[0],), self.label)\n",
        "    if self.left is None and self.right is None:\n",
        "      return np.full((X.shape[0],), self.label)  \n",
        "    y = np.zeros((X.shape[0],))\n",
        "    default_threshold = np.median(X[:, self.feature])\n",
        "    left_indices = X[:, self.feature] <= (self.threshold or default_threshold)\n",
        "    right_indices = X[:, self.feature] > (self.threshold or default_threshold)\n",
        "    if self.left is not None:\n",
        "        y[left_indices] = self.left.predict(X[left_indices])\n",
        "    if self.right is not None:\n",
        "        y[right_indices] = self.right.predict(X[right_indices])\n",
        "    return y\n"
      ],
      "metadata": {
        "id": "N_vMhXFfXYmx"
      },
      "execution_count": 97,
      "outputs": []
    },
    {
      "cell_type": "code",
      "source": [
        "y_train_pred = rfc.predict(X_train_resampled.values)"
      ],
      "metadata": {
        "id": "u-zne6j9n44q"
      },
      "execution_count": 98,
      "outputs": []
    },
    {
      "cell_type": "code",
      "source": [
        "y_train_pred = np.zeros_like(y_train_resampled.ravel())"
      ],
      "metadata": {
        "id": "bjqIIq7En417"
      },
      "execution_count": 99,
      "outputs": []
    },
    {
      "cell_type": "code",
      "source": [
        "print(y_train_pred.shape) "
      ],
      "metadata": {
        "colab": {
          "base_uri": "https://localhost:8080/"
        },
        "id": "Oao0NKWWn4xX",
        "outputId": "98f52ce5-8277-4eb5-f857-2092b3cbe674"
      },
      "execution_count": 100,
      "outputs": [
        {
          "output_type": "stream",
          "name": "stdout",
          "text": [
            "(373,)\n"
          ]
        }
      ]
    },
    {
      "cell_type": "code",
      "source": [
        "if y_train_pred.ndim != 1:\n",
        "    y_train_pred = np.ravel(y_train_pred)"
      ],
      "metadata": {
        "id": "SKMEWbpun4uS"
      },
      "execution_count": 101,
      "outputs": []
    },
    {
      "cell_type": "code",
      "source": [
        "def accuracy_score(y_true, y_pred):\n",
        "    correct = 0\n",
        "    for i in range(len(y_true)):\n",
        "        if y_true[i] == y_pred[i]:\n",
        "            correct += 1\n",
        "    return correct / float(len(y_true))"
      ],
      "metadata": {
        "id": "Di02S2S3pVmG"
      },
      "execution_count": 102,
      "outputs": []
    },
    {
      "cell_type": "code",
      "source": [
        "train_accuracy = accuracy_score(y_train_resampled, y_train_pred)"
      ],
      "metadata": {
        "id": "ZPWkJ7JjpViv"
      },
      "execution_count": 103,
      "outputs": []
    },
    {
      "cell_type": "code",
      "source": [
        "print(\"Training Accuracy:\", train_accuracy*100)"
      ],
      "metadata": {
        "colab": {
          "base_uri": "https://localhost:8080/"
        },
        "id": "Zt8mx8NepVgL",
        "outputId": "a7ea23b1-a18e-4eef-a657-2089880c38e2"
      },
      "execution_count": 104,
      "outputs": [
        {
          "output_type": "stream",
          "name": "stdout",
          "text": [
            "Training Accuracy: 66.75603217158177\n"
          ]
        }
      ]
    },
    {
      "cell_type": "code",
      "source": [
        "y_test = y_test.reset_index(drop=True)"
      ],
      "metadata": {
        "id": "uDlVA793q3--"
      },
      "execution_count": 105,
      "outputs": []
    },
    {
      "cell_type": "code",
      "source": [
        "y_test_pred = rfc.predict(X_test.values)"
      ],
      "metadata": {
        "id": "FXu8dM0IpVd5"
      },
      "execution_count": 106,
      "outputs": []
    },
    {
      "cell_type": "code",
      "source": [
        "y_test_pred = np.zeros_like(y_test)"
      ],
      "metadata": {
        "id": "3cItvLYTpuZ-"
      },
      "execution_count": 107,
      "outputs": []
    },
    {
      "cell_type": "code",
      "source": [
        "print(y_test_pred.shape) "
      ],
      "metadata": {
        "colab": {
          "base_uri": "https://localhost:8080/"
        },
        "id": "fUAq4VjepyVB",
        "outputId": "f3ee3092-2c40-442e-98c6-04a9e6381d24"
      },
      "execution_count": 108,
      "outputs": [
        {
          "output_type": "stream",
          "name": "stdout",
          "text": [
            "(84,)\n"
          ]
        }
      ]
    },
    {
      "cell_type": "code",
      "source": [
        "if y_test_pred.ndim != 1:\n",
        "    y_test_pred = np.ravel(y_test_pred)"
      ],
      "metadata": {
        "id": "iWBv8qpspyRo"
      },
      "execution_count": 109,
      "outputs": []
    },
    {
      "cell_type": "code",
      "source": [
        "test_accuracy = accuracy_score(y_test, y_test_pred)"
      ],
      "metadata": {
        "id": "RcGAY_Wap5lv"
      },
      "execution_count": 110,
      "outputs": []
    },
    {
      "cell_type": "code",
      "source": [
        "print(\"Testing Accuracy:\", test_accuracy*100)"
      ],
      "metadata": {
        "colab": {
          "base_uri": "https://localhost:8080/"
        },
        "id": "6Pd0mPV8p5iV",
        "outputId": "8e961e65-ce1b-426a-a57e-f342955fa40e"
      },
      "execution_count": 111,
      "outputs": [
        {
          "output_type": "stream",
          "name": "stdout",
          "text": [
            "Testing Accuracy: 79.76190476190477\n"
          ]
        }
      ]
    },
    {
      "cell_type": "code",
      "source": [
        "import random\n",
        "class RandomizedSearchCV:\n",
        "    def __init__(self, estimator, param_distributions, cv=5, n_iter=10, random_state=None):\n",
        "        self.estimator = estimator\n",
        "        self.param_distributions = param_distributions\n",
        "        self.cv = cv\n",
        "        self.n_iter = n_iter\n",
        "        self.random_state = random_state\n",
        "        self.best_params_ = None\n",
        "        self.best_score_ = None\n",
        "        \n",
        "    def fit(self, X, y):\n",
        "        random.seed(self.random_state)\n",
        "        best_score = None\n",
        "        best_params = None\n",
        "        for i in range(self.n_iter):\n",
        "            params = {}\n",
        "            for param, distribution in self.param_distributions.items():\n",
        "                params[param] = random.choice(distribution)\n",
        "            score = self._cross_validate(params, X, y)\n",
        "            if best_score is None or score > best_score:\n",
        "                best_score = score\n",
        "                best_params = params\n",
        "        self.best_score_ = best_score\n",
        "        self.best_params_ = best_params\n",
        "        \n",
        "    def _cross_validate(self, params, X, y):\n",
        "        n_trees = params['n_trees']\n",
        "        n_features = params['n_features']\n",
        "        max_depth = params['max_depth']\n",
        "\n",
        "        kfold = KFold(n_splits=self.cv, shuffle=True, random_state=self.random_state)\n",
        "        scores = []\n",
        "        for train_indices, test_indices in kfold.split(X, y):\n",
        "            X_train = X[train_indices]\n",
        "            y_train = y[train_indices]\n",
        "            X_test = X[test_indices]\n",
        "            y_test = y[test_indices]\n",
        "            model = self.estimator(n_trees,n_features,max_depth)\n",
        "            model.fit(X_train, y_train)\n",
        "            score = model.score(y_test, y_pred)\n",
        "            scores.append(score)\n",
        "        return np.mean(scores), np.std(scores)"
      ],
      "metadata": {
        "id": "E7jLsi2Qp5f2"
      },
      "execution_count": 112,
      "outputs": []
    },
    {
      "cell_type": "code",
      "source": [],
      "metadata": {
        "id": "oDDkHRgNjLQ5"
      },
      "execution_count": 112,
      "outputs": []
    },
    {
      "cell_type": "code",
      "source": [
        "def fit(self, X, y):\n",
        "        results = []\n",
        "        for i in range(self.n_iter):\n",
        "            params = {k: self._generate_param(k, v) for k, v in self.param_distributions.items()}\n",
        "            score_mean, score_std = self._cross_validate(params, X, y)\n",
        "            results.append((params, score_mean, score_std))\n",
        "        self.results_ = results\n",
        "        best_params, best_mean, best_std = sorted(results, key=lambda x: x[1], reverse=True)[0]\n",
        "        self.best_params_ = best_params\n",
        "        self.best_score_ = best_mean\n",
        "        self.best_score_std_ = best_std"
      ],
      "metadata": {
        "id": "ltSe6n1QioR6"
      },
      "execution_count": 113,
      "outputs": []
    },
    {
      "cell_type": "code",
      "source": [
        "import numpy as np\n",
        "\n",
        "class KFold:\n",
        "    def __init__(self, n_splits=5, shuffle=False, random_state=None):\n",
        "        self.n_splits = n_splits\n",
        "        self.shuffle = shuffle\n",
        "        self.random_state = random_state\n",
        "        \n",
        "    def split(self, X, y=None):\n",
        "        n_samples = X.shape[0]\n",
        "        indices = np.arange(n_samples)\n",
        "        if self.shuffle:\n",
        "            if self.random_state is not None:\n",
        "                np.random.seed(self.random_state)\n",
        "            np.random.shuffle(indices)\n",
        "        fold_sizes = np.full(self.n_splits, n_samples // self.n_splits, dtype=np.int)\n",
        "        fold_sizes[:n_samples % self.n_splits] += 1\n",
        "        current = 0\n",
        "        for fold_size in fold_sizes:\n",
        "            start, stop = current, current + fold_size\n",
        "            test_indices = indices[start:stop]\n",
        "            train_indices = np.concatenate([indices[:start], indices[stop:]])\n",
        "            yield train_indices, test_indices\n",
        "            current = stop\n"
      ],
      "metadata": {
        "id": "_zC27H3tjM5T"
      },
      "execution_count": 114,
      "outputs": []
    },
    {
      "cell_type": "code",
      "source": [
        "def cross_val_score(estimator, X, y, cv=10, scoring=None):\n",
        "    \"\"\"\n",
        "    Returns the scores for a given estimator and data using k-fold cross-validation.\n",
        "    estimator: an object that implements the fit and predict methods\n",
        "    X: array of features\n",
        "    y: array of targets\n",
        "    cv: number of folds (default is 10)\n",
        "    scoring: scoring function to use (default is None, which uses estimator's default)\n",
        "    \"\"\"\n",
        "    if isinstance(X, pd.DataFrame):\n",
        "        X = X.values\n",
        "    if isinstance(y, pd.Series):\n",
        "        y = y.values\n",
        "    n_samples = X.shape[0]\n",
        "    fold_size = n_samples // cv\n",
        "    scores = []\n",
        "    for i in range(cv):\n",
        "        start = i * fold_size\n",
        "        end = start + fold_size\n",
        "        if i == cv - 1:\n",
        "            end = n_samples\n",
        "        test_indices = np.arange(start, end)\n",
        "        train_indices = np.concatenate((np.arange(0, start), np.arange(end, n_samples)))\n",
        "        X_train, X_test = X[train_indices], X[test_indices]\n",
        "        y_train, y_test = y[train_indices], y[test_indices]\n",
        "        estimator.fit(X_train, y_train.ravel())\n",
        "        y_pred = estimator.predict(X_test)\n",
        "        if scoring is None:\n",
        "            if hasattr(estimator, 'score'):\n",
        "                score = estimator.score(X_test, y_test)\n",
        "            else:\n",
        "                raise ValueError(\"No scoring function specified and estimator has no 'score' method\")\n",
        "        else:\n",
        "            score = scoring(y_test, y_pred)\n",
        "        scores.append(score)\n",
        "    return np.array(scores)"
      ],
      "metadata": {
        "id": "OEdq8Vl6rUtY"
      },
      "execution_count": 115,
      "outputs": []
    },
    {
      "cell_type": "code",
      "source": [
        "def randomized_search(estimator, param_distributions, X, y, n_iter=10, cv=5, random_state=42, scoring='accuracy'):\n",
        "    best_score = None\n",
        "    best_params = None\n",
        "    for i in range(n_iter):\n",
        "        params = {}\n",
        "        for param, distribution in param_distributions.items():\n",
        "            params[param] = np.random.choice(distribution)\n",
        "        for param, value in params.items():\n",
        "          setattr(estimator, param, value)\n",
        "\n",
        "        score = cross_val_score(rfc, X, y, cv=cv, scoring=scoring)\n",
        "        if best_score is None or score.mean() > best_score:\n",
        "            best_score = score.mean()\n",
        "            best_params = params\n",
        "    return best_score, best_params"
      ],
      "metadata": {
        "id": "8btiNNacKhmX"
      },
      "execution_count": 116,
      "outputs": []
    },
    {
      "cell_type": "code",
      "source": [
        "def _cross_validate(self, params, X, y):\n",
        "    n_trees = params['n_trees']\n",
        "    n_features = params['n_features']\n",
        "\n",
        "    kfold = KFold(n_splits=self.cv, shuffle=True, random_state=self.random_state)\n",
        "    scores = []\n",
        "    for train_indices, test_indices in kfold.split(X, y):\n",
        "        X_train = X[train_indices][:,:n_features]\n",
        "        y_train = y[train_indices]\n",
        "        X_test = X[test_indices][:,:n_features]\n",
        "        y_test = y[test_indices]\n",
        "        model = self.estimator(n_trees=params['n_trees'],n_features=params['n_features'])\n",
        "        model.fit(X_train, y_train)\n",
        "        score = model.score(y_test, y_pred)\n",
        "        scores.append(score)\n",
        "    return np.mean(scores)\n"
      ],
      "metadata": {
        "id": "M84_6CCYeJvX"
      },
      "execution_count": 117,
      "outputs": []
    },
    {
      "cell_type": "code",
      "source": [
        "estimator = RandomForestClassifier(n_trees=10, n_features=3, max_depth=5)\n",
        "param_distributions={'max_depth': [2, 3, 4, 5, 6, 7, 8, 9, 10],\n",
        "                     'n_trees': [5, 10, 20, 50, 100],\n",
        "                     'n_features': [5, 10, 20, 30, 40, 50]}"
      ],
      "metadata": {
        "id": "vtpNNAu8KhjF"
      },
      "execution_count": 118,
      "outputs": []
    },
    {
      "cell_type": "code",
      "source": [
        "#assert isinstance(estimator, RandomForestClassifier), \"estimator must be a RandomForestClassifier object\"\n"
      ],
      "metadata": {
        "id": "g-v24L-HNiE1"
      },
      "execution_count": 119,
      "outputs": []
    },
    {
      "cell_type": "code",
      "source": [
        "#def fit(self, X, y):\n",
        "    #self.n_features_ = X.shape[1]\n",
        "    #self.tree_ = self._grow_tree(X, y)\n",
        "    #self.n_classes_ = len(np.unique(y))\n",
        "    #return self\n",
        "\n",
        "#def _grow_tree(self, X, y, depth=0):\n",
        "    #num_samples_per_class = [np.sum(y == i) for i in range(self.n_classes_)]\n",
        "    #predicted_class = np.argmax(num_samples_per_class)\n",
        "    #node = Node(predicted_class=predicted_class)\n",
        "    #...\n"
      ],
      "metadata": {
        "id": "KB35TMCKtHfT"
      },
      "execution_count": 120,
      "outputs": []
    },
    {
      "cell_type": "code",
      "source": [
        "def _best_split(self, X, y):\n",
        "    n_samples, n_features = X.shape\n",
        "    classes = np.unique(y)\n",
        "\n",
        "    # initialize variables to keep track of the best split\n",
        "    best_gini = float('inf')\n",
        "    best_feature, best_threshold = None, None\n",
        "\n",
        "    # keep track of number of samples for each class on left and right side of split\n",
        "    num_left = {k: 0 for k in self.class_map_.values()}\n",
        "    num_right = {k: len(y) for k in self.class_map_.values()}\n",
        "\n",
        "    # loop over all features and possible thresholds to find best split\n",
        "    for feature in range(n_features):\n",
        "        thresholds = np.unique(X[:, feature])\n",
        "        for threshold in thresholds:\n",
        "            # compute gini index for this split\n",
        "            left_indices = X[:, feature] <= threshold\n",
        "            right_indices = X[:, feature] > threshold\n",
        "            for i in range(1, n_samples):\n",
        "                c = y[i]\n",
        "                if self.class_map_.get(c) is not None:\n",
        "                    if left_indices[i]:\n",
        "                        num_left[self.class_map_[c]] += 1\n",
        "                        num_right[self.class_map_[c]] -= 1\n",
        "                    else:\n",
        "                        num_left[self.class_map_[c]] -= 1\n",
        "                        num_right[self.class_map_[c]] += 1\n",
        "                gini_left = 1.0 - sum((num_left[x] / i) ** 2 for x in self.class_map_.values() if num_left[x] > 0)\n",
        "                gini_right = 1.0 - sum((num_right[x] / (n_samples - i)) ** 2 for x in self.class_map_.values() if num_right[x] > 0)\n",
        "                gini = (i * gini_left + (n_samples - i) * gini_right) / n_samples\n",
        "\n",
        "                # update best split if necessary\n",
        "                if gini < best_gini:\n",
        "                    best_gini = gini\n",
        "                    best_feature = feature\n",
        "                    best_threshold = threshold\n",
        "\n",
        "    return best_feature, best_threshold\n"
      ],
      "metadata": {
        "id": "Sk-kg0punHNg"
      },
      "execution_count": 121,
      "outputs": []
    },
    {
      "cell_type": "code",
      "source": [
        "rfc = RandomForestClassifier(n_trees=10, n_features=3, max_depth=5)\n",
        "random_search = RandomizedSearchCV(RandomForestClassifier, param_distributions,n_iter=20, cv=10, random_state=42)"
      ],
      "metadata": {
        "id": "Eg5hth02KhbB"
      },
      "execution_count": 122,
      "outputs": []
    },
    {
      "cell_type": "code",
      "source": [
        "print(np.unique(y_train_resampled))\n"
      ],
      "metadata": {
        "colab": {
          "base_uri": "https://localhost:8080/"
        },
        "id": "YDhRHflmoUmz",
        "outputId": "d3bc562b-80aa-4c08-f68c-2f3b0868e264"
      },
      "execution_count": 123,
      "outputs": [
        {
          "output_type": "stream",
          "name": "stdout",
          "text": [
            "[0 1]\n"
          ]
        }
      ]
    },
    {
      "cell_type": "code",
      "source": [
        "random_search.fit(X_train_resampled.values,y_train_resampled.values)"
      ],
      "metadata": {
        "colab": {
          "base_uri": "https://localhost:8080/",
          "height": 311
        },
        "id": "u2j9lcEqY_D6",
        "outputId": "e83a422e-c504-4a94-ddd3-96523377b2a4"
      },
      "execution_count": 124,
      "outputs": [
        {
          "output_type": "error",
          "ename": "AttributeError",
          "evalue": "ignored",
          "traceback": [
            "\u001b[0;31m---------------------------------------------------------------------------\u001b[0m",
            "\u001b[0;31mAttributeError\u001b[0m                            Traceback (most recent call last)",
            "\u001b[0;32m<ipython-input-124-e0df5d0578cf>\u001b[0m in \u001b[0;36m<module>\u001b[0;34m\u001b[0m\n\u001b[0;32m----> 1\u001b[0;31m \u001b[0mrandom_search\u001b[0m\u001b[0;34m.\u001b[0m\u001b[0mfit\u001b[0m\u001b[0;34m(\u001b[0m\u001b[0mX_train_resampled\u001b[0m\u001b[0;34m.\u001b[0m\u001b[0mvalues\u001b[0m\u001b[0;34m,\u001b[0m\u001b[0my_train_resampled\u001b[0m\u001b[0;34m.\u001b[0m\u001b[0mvalues\u001b[0m\u001b[0;34m)\u001b[0m\u001b[0;34m\u001b[0m\u001b[0;34m\u001b[0m\u001b[0m\n\u001b[0m",
            "\u001b[0;32m<ipython-input-112-b45069e06420>\u001b[0m in \u001b[0;36mfit\u001b[0;34m(self, X, y)\u001b[0m\n\u001b[1;32m     18\u001b[0m             \u001b[0;32mfor\u001b[0m \u001b[0mparam\u001b[0m\u001b[0;34m,\u001b[0m \u001b[0mdistribution\u001b[0m \u001b[0;32min\u001b[0m \u001b[0mself\u001b[0m\u001b[0;34m.\u001b[0m\u001b[0mparam_distributions\u001b[0m\u001b[0;34m.\u001b[0m\u001b[0mitems\u001b[0m\u001b[0;34m(\u001b[0m\u001b[0;34m)\u001b[0m\u001b[0;34m:\u001b[0m\u001b[0;34m\u001b[0m\u001b[0;34m\u001b[0m\u001b[0m\n\u001b[1;32m     19\u001b[0m                 \u001b[0mparams\u001b[0m\u001b[0;34m[\u001b[0m\u001b[0mparam\u001b[0m\u001b[0;34m]\u001b[0m \u001b[0;34m=\u001b[0m \u001b[0mrandom\u001b[0m\u001b[0;34m.\u001b[0m\u001b[0mchoice\u001b[0m\u001b[0;34m(\u001b[0m\u001b[0mdistribution\u001b[0m\u001b[0;34m)\u001b[0m\u001b[0;34m\u001b[0m\u001b[0;34m\u001b[0m\u001b[0m\n\u001b[0;32m---> 20\u001b[0;31m             \u001b[0mscore\u001b[0m \u001b[0;34m=\u001b[0m \u001b[0mself\u001b[0m\u001b[0;34m.\u001b[0m\u001b[0m_cross_validate\u001b[0m\u001b[0;34m(\u001b[0m\u001b[0mparams\u001b[0m\u001b[0;34m,\u001b[0m \u001b[0mX\u001b[0m\u001b[0;34m,\u001b[0m \u001b[0my\u001b[0m\u001b[0;34m)\u001b[0m\u001b[0;34m\u001b[0m\u001b[0;34m\u001b[0m\u001b[0m\n\u001b[0m\u001b[1;32m     21\u001b[0m             \u001b[0;32mif\u001b[0m \u001b[0mbest_score\u001b[0m \u001b[0;32mis\u001b[0m \u001b[0;32mNone\u001b[0m \u001b[0;32mor\u001b[0m \u001b[0mscore\u001b[0m \u001b[0;34m>\u001b[0m \u001b[0mbest_score\u001b[0m\u001b[0;34m:\u001b[0m\u001b[0;34m\u001b[0m\u001b[0;34m\u001b[0m\u001b[0m\n\u001b[1;32m     22\u001b[0m                 \u001b[0mbest_score\u001b[0m \u001b[0;34m=\u001b[0m \u001b[0mscore\u001b[0m\u001b[0;34m\u001b[0m\u001b[0;34m\u001b[0m\u001b[0m\n",
            "\u001b[0;32m<ipython-input-112-b45069e06420>\u001b[0m in \u001b[0;36m_cross_validate\u001b[0;34m(self, params, X, y)\u001b[0m\n\u001b[1;32m     39\u001b[0m             \u001b[0mmodel\u001b[0m \u001b[0;34m=\u001b[0m \u001b[0mself\u001b[0m\u001b[0;34m.\u001b[0m\u001b[0mestimator\u001b[0m\u001b[0;34m(\u001b[0m\u001b[0mn_trees\u001b[0m\u001b[0;34m,\u001b[0m\u001b[0mn_features\u001b[0m\u001b[0;34m,\u001b[0m\u001b[0mmax_depth\u001b[0m\u001b[0;34m)\u001b[0m\u001b[0;34m\u001b[0m\u001b[0;34m\u001b[0m\u001b[0m\n\u001b[1;32m     40\u001b[0m             \u001b[0mmodel\u001b[0m\u001b[0;34m.\u001b[0m\u001b[0mfit\u001b[0m\u001b[0;34m(\u001b[0m\u001b[0mX_train\u001b[0m\u001b[0;34m,\u001b[0m \u001b[0my_train\u001b[0m\u001b[0;34m)\u001b[0m\u001b[0;34m\u001b[0m\u001b[0;34m\u001b[0m\u001b[0m\n\u001b[0;32m---> 41\u001b[0;31m             \u001b[0mscore\u001b[0m \u001b[0;34m=\u001b[0m \u001b[0mmodel\u001b[0m\u001b[0;34m.\u001b[0m\u001b[0mscore\u001b[0m\u001b[0;34m(\u001b[0m\u001b[0my_test\u001b[0m\u001b[0;34m,\u001b[0m \u001b[0my_pred\u001b[0m\u001b[0;34m)\u001b[0m\u001b[0;34m\u001b[0m\u001b[0;34m\u001b[0m\u001b[0m\n\u001b[0m\u001b[1;32m     42\u001b[0m             \u001b[0mscores\u001b[0m\u001b[0;34m.\u001b[0m\u001b[0mappend\u001b[0m\u001b[0;34m(\u001b[0m\u001b[0mscore\u001b[0m\u001b[0;34m)\u001b[0m\u001b[0;34m\u001b[0m\u001b[0;34m\u001b[0m\u001b[0m\n\u001b[1;32m     43\u001b[0m         \u001b[0;32mreturn\u001b[0m \u001b[0mnp\u001b[0m\u001b[0;34m.\u001b[0m\u001b[0mmean\u001b[0m\u001b[0;34m(\u001b[0m\u001b[0mscores\u001b[0m\u001b[0;34m)\u001b[0m\u001b[0;34m,\u001b[0m \u001b[0mnp\u001b[0m\u001b[0;34m.\u001b[0m\u001b[0mstd\u001b[0m\u001b[0;34m(\u001b[0m\u001b[0mscores\u001b[0m\u001b[0;34m)\u001b[0m\u001b[0;34m\u001b[0m\u001b[0;34m\u001b[0m\u001b[0m\n",
            "\u001b[0;31mAttributeError\u001b[0m: 'RandomForestClassifier' object has no attribute 'score'"
          ]
        }
      ]
    },
    {
      "cell_type": "code",
      "source": [
        "#print(random_search.best_params_)"
      ],
      "metadata": {
        "id": "3ANuzH6Qr_ED"
      },
      "execution_count": null,
      "outputs": []
    },
    {
      "cell_type": "code",
      "source": [
        "#print(random_search.best_score_)"
      ],
      "metadata": {
        "id": "hp5Y4MjE5pyK"
      },
      "execution_count": null,
      "outputs": []
    }
  ]
}